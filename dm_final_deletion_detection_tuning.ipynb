{
 "cells": [
  {
   "cell_type": "code",
   "execution_count": 11,
   "metadata": {
    "scrolled": true
   },
   "outputs": [],
   "source": [
    "# Import packages\n",
    "import time\n",
    "import pandas as pd\n",
    "import numpy as np\n",
    "import seaborn as sb\n",
    "import torch\n",
    "import torch.nn as nn\n",
    "import matplotlib.pyplot as plt\n",
    "from tqdm import tqdm \n",
    "from torch.utils.data import Dataset,DataLoader\n",
    "from sklearn.preprocessing import LabelEncoder\n",
    "from sklearn import manifold\n",
    "import os"
   ]
  },
  {
   "cell_type": "code",
   "execution_count": 12,
   "metadata": {},
   "outputs": [
    {
     "name": "stdout",
     "output_type": "stream",
     "text": [
      "base\n"
     ]
    }
   ],
   "source": [
    "import os\n",
    "print (os.environ['CONDA_DEFAULT_ENV'])"
   ]
  },
  {
   "cell_type": "code",
   "execution_count": 13,
   "metadata": {},
   "outputs": [],
   "source": [
    "device = torch.device('cuda' if torch.cuda.is_available() else 'cpu')"
   ]
  },
  {
   "cell_type": "code",
   "execution_count": 14,
   "metadata": {},
   "outputs": [],
   "source": [
    "!mkdir -p ckpt\n",
    "!mkdir -p cache"
   ]
  },
  {
   "cell_type": "markdown",
   "metadata": {},
   "source": [
    "# Load Data"
   ]
  },
  {
   "cell_type": "code",
   "execution_count": 15,
   "metadata": {},
   "outputs": [
    {
     "data": {
      "text/plain": [
       "timestamp          0\n",
       "body               0\n",
       "membership         0\n",
       "isModerator        0\n",
       "isVerified         0\n",
       "id                 0\n",
       "channelId          0\n",
       "originVideoId      0\n",
       "originChannelId    0\n",
       "dtype: int64"
      ]
     },
     "execution_count": 15,
     "metadata": {},
     "output_type": "execute_result"
    }
   ],
   "source": [
    "chats = pd.read_csv('data/chats_2021-05.csv', na_values='', keep_default_na=False)\n",
    "chats.isna().sum()"
   ]
  },
  {
   "cell_type": "code",
   "execution_count": 16,
   "metadata": {},
   "outputs": [],
   "source": [
    "delet = pd.read_csv('data/deletion_events.csv')#, usecols=['id', 'retracted'])\n",
    "delet = delet[delet['retracted'] == 0]"
   ]
  },
  {
   "cell_type": "code",
   "execution_count": 17,
   "metadata": {},
   "outputs": [
    {
     "data": {
      "text/plain": [
       "151601"
      ]
     },
     "execution_count": 17,
     "metadata": {},
     "output_type": "execute_result"
    }
   ],
   "source": [
    "len(delet)"
   ]
  },
  {
   "cell_type": "code",
   "execution_count": 18,
   "metadata": {},
   "outputs": [
    {
     "data": {
      "text/html": [
       "<div>\n",
       "<style scoped>\n",
       "    .dataframe tbody tr th:only-of-type {\n",
       "        vertical-align: middle;\n",
       "    }\n",
       "\n",
       "    .dataframe tbody tr th {\n",
       "        vertical-align: top;\n",
       "    }\n",
       "\n",
       "    .dataframe thead th {\n",
       "        text-align: right;\n",
       "    }\n",
       "</style>\n",
       "<table border=\"1\" class=\"dataframe\">\n",
       "  <thead>\n",
       "    <tr style=\"text-align: right;\">\n",
       "      <th></th>\n",
       "      <th>timestamp</th>\n",
       "      <th>id</th>\n",
       "      <th>retracted</th>\n",
       "      <th>originVideoId</th>\n",
       "      <th>originChannelId</th>\n",
       "    </tr>\n",
       "  </thead>\n",
       "  <tbody>\n",
       "    <tr>\n",
       "      <th>53</th>\n",
       "      <td>2021-02-11T09:54:44.788000+00:00</td>\n",
       "      <td>1cd5dbe14479ed91d6e63a7591f843a1715ff070</td>\n",
       "      <td>0</td>\n",
       "      <td>blSX7M_n9RA</td>\n",
       "      <td>UCl_gCybOJRIgOXw6Qb4qJzQ</td>\n",
       "    </tr>\n",
       "    <tr>\n",
       "      <th>62</th>\n",
       "      <td>2021-02-11T10:03:10.305000+00:00</td>\n",
       "      <td>023a77c0bc231728c7b77d781e58fc64371ea96d</td>\n",
       "      <td>0</td>\n",
       "      <td>blSX7M_n9RA</td>\n",
       "      <td>UCl_gCybOJRIgOXw6Qb4qJzQ</td>\n",
       "    </tr>\n",
       "    <tr>\n",
       "      <th>113</th>\n",
       "      <td>2021-02-11T10:22:14.158000+00:00</td>\n",
       "      <td>084b4229299fd1f1ba2f75f80ca18bcd081b2feb</td>\n",
       "      <td>0</td>\n",
       "      <td>dAiMpAgmdSo</td>\n",
       "      <td>UC1DCedRgGHBdm81E1llLhOQ</td>\n",
       "    </tr>\n",
       "    <tr>\n",
       "      <th>114</th>\n",
       "      <td>2021-02-11T10:22:24.297000+00:00</td>\n",
       "      <td>084b4229299fd1f1ba2f75f80ca18bcd081b2feb</td>\n",
       "      <td>0</td>\n",
       "      <td>dAiMpAgmdSo</td>\n",
       "      <td>UC1DCedRgGHBdm81E1llLhOQ</td>\n",
       "    </tr>\n",
       "    <tr>\n",
       "      <th>146</th>\n",
       "      <td>2021-02-11T10:32:40.165000+00:00</td>\n",
       "      <td>0ffc89ef41122a147fe3d6edde10fed1e1fecd2f</td>\n",
       "      <td>0</td>\n",
       "      <td>-UbSxTkVjjU</td>\n",
       "      <td>UC-hM6YJuNYVAmUWxeIr9FeA</td>\n",
       "    </tr>\n",
       "  </tbody>\n",
       "</table>\n",
       "</div>"
      ],
      "text/plain": [
       "                            timestamp  \\\n",
       "53   2021-02-11T09:54:44.788000+00:00   \n",
       "62   2021-02-11T10:03:10.305000+00:00   \n",
       "113  2021-02-11T10:22:14.158000+00:00   \n",
       "114  2021-02-11T10:22:24.297000+00:00   \n",
       "146  2021-02-11T10:32:40.165000+00:00   \n",
       "\n",
       "                                           id  retracted originVideoId  \\\n",
       "53   1cd5dbe14479ed91d6e63a7591f843a1715ff070          0   blSX7M_n9RA   \n",
       "62   023a77c0bc231728c7b77d781e58fc64371ea96d          0   blSX7M_n9RA   \n",
       "113  084b4229299fd1f1ba2f75f80ca18bcd081b2feb          0   dAiMpAgmdSo   \n",
       "114  084b4229299fd1f1ba2f75f80ca18bcd081b2feb          0   dAiMpAgmdSo   \n",
       "146  0ffc89ef41122a147fe3d6edde10fed1e1fecd2f          0   -UbSxTkVjjU   \n",
       "\n",
       "              originChannelId  \n",
       "53   UCl_gCybOJRIgOXw6Qb4qJzQ  \n",
       "62   UCl_gCybOJRIgOXw6Qb4qJzQ  \n",
       "113  UC1DCedRgGHBdm81E1llLhOQ  \n",
       "114  UC1DCedRgGHBdm81E1llLhOQ  \n",
       "146  UC-hM6YJuNYVAmUWxeIr9FeA  "
      ]
     },
     "execution_count": 18,
     "metadata": {},
     "output_type": "execute_result"
    }
   ],
   "source": [
    "delet.head()"
   ]
  },
  {
   "cell_type": "code",
   "execution_count": 19,
   "metadata": {},
   "outputs": [],
   "source": [
    "# Merge banned data\n",
    "delet['delete'] = True\n",
    "chats = pd.merge(chats, delet[['id', 'delete']], how='left')\n",
    "chats['delete'].fillna(False, inplace=True)"
   ]
  },
  {
   "cell_type": "code",
   "execution_count": 20,
   "metadata": {},
   "outputs": [
    {
     "data": {
      "text/plain": [
       "Counter({False: 75713528, True: 13120})"
      ]
     },
     "execution_count": 20,
     "metadata": {},
     "output_type": "execute_result"
    }
   ],
   "source": [
    "from collections import Counter\n",
    "Counter(chats['delete'])"
   ]
  },
  {
   "cell_type": "code",
   "execution_count": 21,
   "metadata": {},
   "outputs": [
    {
     "data": {
      "text/html": [
       "<div>\n",
       "<style scoped>\n",
       "    .dataframe tbody tr th:only-of-type {\n",
       "        vertical-align: middle;\n",
       "    }\n",
       "\n",
       "    .dataframe tbody tr th {\n",
       "        vertical-align: top;\n",
       "    }\n",
       "\n",
       "    .dataframe thead th {\n",
       "        text-align: right;\n",
       "    }\n",
       "</style>\n",
       "<table border=\"1\" class=\"dataframe\">\n",
       "  <thead>\n",
       "    <tr style=\"text-align: right;\">\n",
       "      <th></th>\n",
       "      <th>timestamp</th>\n",
       "      <th>body</th>\n",
       "      <th>membership</th>\n",
       "      <th>isModerator</th>\n",
       "      <th>isVerified</th>\n",
       "      <th>id</th>\n",
       "      <th>channelId</th>\n",
       "      <th>originVideoId</th>\n",
       "      <th>originChannelId</th>\n",
       "      <th>delete</th>\n",
       "    </tr>\n",
       "  </thead>\n",
       "  <tbody>\n",
       "    <tr>\n",
       "      <th>0</th>\n",
       "      <td>2021-05-01T00:00:00.112000+00:00</td>\n",
       "      <td>そうじゃないｗ</td>\n",
       "      <td>1 year</td>\n",
       "      <td>0</td>\n",
       "      <td>0</td>\n",
       "      <td>66b9d029a3e93df01b2626a77a5230c71abe5890</td>\n",
       "      <td>606b88eef42cc40a9e055d9af6deaf5e76244c02</td>\n",
       "      <td>S8tYbUIoHM0</td>\n",
       "      <td>UCp-5t9SrOQwXMU7iIjQfARg</td>\n",
       "      <td>False</td>\n",
       "    </tr>\n",
       "    <tr>\n",
       "      <th>1</th>\n",
       "      <td>2021-05-01T00:00:00.141000+00:00</td>\n",
       "      <td>いーやバナナだね</td>\n",
       "      <td>2 months</td>\n",
       "      <td>0</td>\n",
       "      <td>0</td>\n",
       "      <td>63cc28b37c760c52156ad2ea8d3e4036a29b19d9</td>\n",
       "      <td>ed808b843c98965376208c6e7aeb12ee122aa9f1</td>\n",
       "      <td>TfRFrbFbE2k</td>\n",
       "      <td>UChUJbHiTVeGrSkTdBzVfNCQ</td>\n",
       "      <td>False</td>\n",
       "    </tr>\n",
       "    <tr>\n",
       "      <th>2</th>\n",
       "      <td>2021-05-01T00:00:00.153000+00:00</td>\n",
       "      <td>���</td>\n",
       "      <td>6 months</td>\n",
       "      <td>0</td>\n",
       "      <td>0</td>\n",
       "      <td>60485bda906da346c40671a687884c8c40a012d2</td>\n",
       "      <td>13fce698eba3f1b1617efa6715c618293183b178</td>\n",
       "      <td>S8tYbUIoHM0</td>\n",
       "      <td>UCp-5t9SrOQwXMU7iIjQfARg</td>\n",
       "      <td>False</td>\n",
       "    </tr>\n",
       "    <tr>\n",
       "      <th>3</th>\n",
       "      <td>2021-05-01T00:00:00.172000+00:00</td>\n",
       "      <td>大成功でしょ</td>\n",
       "      <td>non-member</td>\n",
       "      <td>0</td>\n",
       "      <td>0</td>\n",
       "      <td>ff9d8bee4c9608299f7c99a286efd19de1cef0ec</td>\n",
       "      <td>116707993d9886a42c32bc5a1a2b9db2e3524e50</td>\n",
       "      <td>S8tYbUIoHM0</td>\n",
       "      <td>UCp-5t9SrOQwXMU7iIjQfARg</td>\n",
       "      <td>False</td>\n",
       "    </tr>\n",
       "    <tr>\n",
       "      <th>4</th>\n",
       "      <td>2021-05-01T00:00:00.216000+00:00</td>\n",
       "      <td>大成功やろ！</td>\n",
       "      <td>non-member</td>\n",
       "      <td>0</td>\n",
       "      <td>0</td>\n",
       "      <td>b7b75f473487a932093e1852eafd2e7741c74e28</td>\n",
       "      <td>d8b410fab159d1c7c6aef425312d3d948c26ee8d</td>\n",
       "      <td>S8tYbUIoHM0</td>\n",
       "      <td>UCp-5t9SrOQwXMU7iIjQfARg</td>\n",
       "      <td>False</td>\n",
       "    </tr>\n",
       "    <tr>\n",
       "      <th>...</th>\n",
       "      <td>...</td>\n",
       "      <td>...</td>\n",
       "      <td>...</td>\n",
       "      <td>...</td>\n",
       "      <td>...</td>\n",
       "      <td>...</td>\n",
       "      <td>...</td>\n",
       "      <td>...</td>\n",
       "      <td>...</td>\n",
       "      <td>...</td>\n",
       "    </tr>\n",
       "    <tr>\n",
       "      <th>75726643</th>\n",
       "      <td>2021-05-31T23:59:59.679000+00:00</td>\n",
       "      <td>Early Shark!</td>\n",
       "      <td>6 months</td>\n",
       "      <td>0</td>\n",
       "      <td>0</td>\n",
       "      <td>c3fbee73ae9db20b7ddb6455c7bfeebfd3e21def</td>\n",
       "      <td>00dcc57ab797acf161a5dceddf359a41d979fc37</td>\n",
       "      <td>lNVQfuc6D4Y</td>\n",
       "      <td>UCoSrY_IQQVpmIRZ9Xf-y93g</td>\n",
       "      <td>False</td>\n",
       "    </tr>\n",
       "    <tr>\n",
       "      <th>75726644</th>\n",
       "      <td>2021-05-31T23:59:59.805000+00:00</td>\n",
       "      <td>\"you like jazz?\"</td>\n",
       "      <td>6 months</td>\n",
       "      <td>0</td>\n",
       "      <td>0</td>\n",
       "      <td>58efdd0a936bb8afc2e56fc0db4d7e227d614f5d</td>\n",
       "      <td>e323bdfe0c1e04bae4acb9dd7a4729af44a82f77</td>\n",
       "      <td>lNVQfuc6D4Y</td>\n",
       "      <td>UCoSrY_IQQVpmIRZ9Xf-y93g</td>\n",
       "      <td>False</td>\n",
       "    </tr>\n",
       "    <tr>\n",
       "      <th>75726645</th>\n",
       "      <td>2021-05-31T23:59:59.832000+00:00</td>\n",
       "      <td>���</td>\n",
       "      <td>6 months</td>\n",
       "      <td>0</td>\n",
       "      <td>0</td>\n",
       "      <td>34d9a82dff9d3b31e4089869ebb100adae561043</td>\n",
       "      <td>d633141e6d0cc0581c5b38d28e6f9de4737ddca4</td>\n",
       "      <td>lNVQfuc6D4Y</td>\n",
       "      <td>UCoSrY_IQQVpmIRZ9Xf-y93g</td>\n",
       "      <td>False</td>\n",
       "    </tr>\n",
       "    <tr>\n",
       "      <th>75726646</th>\n",
       "      <td>2021-05-31T23:59:59.872000+00:00</td>\n",
       "      <td>Hellooooo �</td>\n",
       "      <td>6 months</td>\n",
       "      <td>0</td>\n",
       "      <td>0</td>\n",
       "      <td>1c426edd1dbdeea09fbd716e4ba5e078ea794733</td>\n",
       "      <td>f6860156395b32a8da4d76a75884ce8f43f3e623</td>\n",
       "      <td>lNVQfuc6D4Y</td>\n",
       "      <td>UCoSrY_IQQVpmIRZ9Xf-y93g</td>\n",
       "      <td>False</td>\n",
       "    </tr>\n",
       "    <tr>\n",
       "      <th>75726647</th>\n",
       "      <td>2021-05-31T23:59:59.958000+00:00</td>\n",
       "      <td>Shark on a roomba</td>\n",
       "      <td>non-member</td>\n",
       "      <td>0</td>\n",
       "      <td>0</td>\n",
       "      <td>1e94f59092706474d81242eef86f9e90a1710836</td>\n",
       "      <td>f5fd09bca83446f95dcecd4046d9e02effd9ca69</td>\n",
       "      <td>lNVQfuc6D4Y</td>\n",
       "      <td>UCoSrY_IQQVpmIRZ9Xf-y93g</td>\n",
       "      <td>False</td>\n",
       "    </tr>\n",
       "  </tbody>\n",
       "</table>\n",
       "<p>75726648 rows × 10 columns</p>\n",
       "</div>"
      ],
      "text/plain": [
       "                                 timestamp                body  membership  \\\n",
       "0         2021-05-01T00:00:00.112000+00:00             そうじゃないｗ      1 year   \n",
       "1         2021-05-01T00:00:00.141000+00:00            いーやバナナだね    2 months   \n",
       "2         2021-05-01T00:00:00.153000+00:00                 ���    6 months   \n",
       "3         2021-05-01T00:00:00.172000+00:00              大成功でしょ  non-member   \n",
       "4         2021-05-01T00:00:00.216000+00:00              大成功やろ！  non-member   \n",
       "...                                    ...                 ...         ...   \n",
       "75726643  2021-05-31T23:59:59.679000+00:00        Early Shark!    6 months   \n",
       "75726644  2021-05-31T23:59:59.805000+00:00    \"you like jazz?\"    6 months   \n",
       "75726645  2021-05-31T23:59:59.832000+00:00                 ���    6 months   \n",
       "75726646  2021-05-31T23:59:59.872000+00:00         Hellooooo �    6 months   \n",
       "75726647  2021-05-31T23:59:59.958000+00:00  Shark on a roomba   non-member   \n",
       "\n",
       "          isModerator  isVerified                                        id  \\\n",
       "0                   0           0  66b9d029a3e93df01b2626a77a5230c71abe5890   \n",
       "1                   0           0  63cc28b37c760c52156ad2ea8d3e4036a29b19d9   \n",
       "2                   0           0  60485bda906da346c40671a687884c8c40a012d2   \n",
       "3                   0           0  ff9d8bee4c9608299f7c99a286efd19de1cef0ec   \n",
       "4                   0           0  b7b75f473487a932093e1852eafd2e7741c74e28   \n",
       "...               ...         ...                                       ...   \n",
       "75726643            0           0  c3fbee73ae9db20b7ddb6455c7bfeebfd3e21def   \n",
       "75726644            0           0  58efdd0a936bb8afc2e56fc0db4d7e227d614f5d   \n",
       "75726645            0           0  34d9a82dff9d3b31e4089869ebb100adae561043   \n",
       "75726646            0           0  1c426edd1dbdeea09fbd716e4ba5e078ea794733   \n",
       "75726647            0           0  1e94f59092706474d81242eef86f9e90a1710836   \n",
       "\n",
       "                                         channelId originVideoId  \\\n",
       "0         606b88eef42cc40a9e055d9af6deaf5e76244c02   S8tYbUIoHM0   \n",
       "1         ed808b843c98965376208c6e7aeb12ee122aa9f1   TfRFrbFbE2k   \n",
       "2         13fce698eba3f1b1617efa6715c618293183b178   S8tYbUIoHM0   \n",
       "3         116707993d9886a42c32bc5a1a2b9db2e3524e50   S8tYbUIoHM0   \n",
       "4         d8b410fab159d1c7c6aef425312d3d948c26ee8d   S8tYbUIoHM0   \n",
       "...                                            ...           ...   \n",
       "75726643  00dcc57ab797acf161a5dceddf359a41d979fc37   lNVQfuc6D4Y   \n",
       "75726644  e323bdfe0c1e04bae4acb9dd7a4729af44a82f77   lNVQfuc6D4Y   \n",
       "75726645  d633141e6d0cc0581c5b38d28e6f9de4737ddca4   lNVQfuc6D4Y   \n",
       "75726646  f6860156395b32a8da4d76a75884ce8f43f3e623   lNVQfuc6D4Y   \n",
       "75726647  f5fd09bca83446f95dcecd4046d9e02effd9ca69   lNVQfuc6D4Y   \n",
       "\n",
       "                   originChannelId  delete  \n",
       "0         UCp-5t9SrOQwXMU7iIjQfARg   False  \n",
       "1         UChUJbHiTVeGrSkTdBzVfNCQ   False  \n",
       "2         UCp-5t9SrOQwXMU7iIjQfARg   False  \n",
       "3         UCp-5t9SrOQwXMU7iIjQfARg   False  \n",
       "4         UCp-5t9SrOQwXMU7iIjQfARg   False  \n",
       "...                            ...     ...  \n",
       "75726643  UCoSrY_IQQVpmIRZ9Xf-y93g   False  \n",
       "75726644  UCoSrY_IQQVpmIRZ9Xf-y93g   False  \n",
       "75726645  UCoSrY_IQQVpmIRZ9Xf-y93g   False  \n",
       "75726646  UCoSrY_IQQVpmIRZ9Xf-y93g   False  \n",
       "75726647  UCoSrY_IQQVpmIRZ9Xf-y93g   False  \n",
       "\n",
       "[75726648 rows x 10 columns]"
      ]
     },
     "execution_count": 21,
     "metadata": {},
     "output_type": "execute_result"
    }
   ],
   "source": [
    "chats"
   ]
  },
  {
   "cell_type": "code",
   "execution_count": 22,
   "metadata": {},
   "outputs": [
    {
     "data": {
      "text/html": [
       "<div>\n",
       "<style scoped>\n",
       "    .dataframe tbody tr th:only-of-type {\n",
       "        vertical-align: middle;\n",
       "    }\n",
       "\n",
       "    .dataframe tbody tr th {\n",
       "        vertical-align: top;\n",
       "    }\n",
       "\n",
       "    .dataframe thead th {\n",
       "        text-align: right;\n",
       "    }\n",
       "</style>\n",
       "<table border=\"1\" class=\"dataframe\">\n",
       "  <thead>\n",
       "    <tr style=\"text-align: right;\">\n",
       "      <th></th>\n",
       "      <th>timestamp</th>\n",
       "      <th>body</th>\n",
       "      <th>membership</th>\n",
       "      <th>isModerator</th>\n",
       "      <th>isVerified</th>\n",
       "      <th>id</th>\n",
       "      <th>channelId</th>\n",
       "      <th>originVideoId</th>\n",
       "      <th>originChannelId</th>\n",
       "      <th>delete</th>\n",
       "    </tr>\n",
       "  </thead>\n",
       "  <tbody>\n",
       "    <tr>\n",
       "      <th>49006238</th>\n",
       "      <td>2021-05-20T18:27:00.058000+00:00</td>\n",
       "      <td>frozen water does</td>\n",
       "      <td>non-member</td>\n",
       "      <td>0</td>\n",
       "      <td>0</td>\n",
       "      <td>e5ca6bb24c69b7d57bf35a9dd5de653fe49241d0</td>\n",
       "      <td>94d80dc7680678bfed7a2a7327af2e1c2f0a7a48</td>\n",
       "      <td>1LcCMBrCC2Y</td>\n",
       "      <td>UCHsx4Hqa-1ORjQTh9TYDhww</td>\n",
       "      <td>False</td>\n",
       "    </tr>\n",
       "    <tr>\n",
       "      <th>64171079</th>\n",
       "      <td>2021-05-26T17:06:59.929000+00:00</td>\n",
       "      <td>こうゆう消しゴムあったよね?!角消しみたいなww</td>\n",
       "      <td>non-member</td>\n",
       "      <td>0</td>\n",
       "      <td>0</td>\n",
       "      <td>8c237716bdea699c58d6c3f988aa40805005c874</td>\n",
       "      <td>8bafd558b7fbb279623a2ef7661d2fd2ad980843</td>\n",
       "      <td>WuG_d3b5aKw</td>\n",
       "      <td>UC-hM6YJuNYVAmUWxeIr9FeA</td>\n",
       "      <td>False</td>\n",
       "    </tr>\n",
       "    <tr>\n",
       "      <th>70042748</th>\n",
       "      <td>2021-05-29T14:53:24.395000+00:00</td>\n",
       "      <td>顔ww</td>\n",
       "      <td>non-member</td>\n",
       "      <td>0</td>\n",
       "      <td>0</td>\n",
       "      <td>129afc4370047b46dc1ff61ea1707618f5f6bfe4</td>\n",
       "      <td>d8e9772e15bc3c84d9df32039572b848c2b74ad6</td>\n",
       "      <td>bPrvXay0GQY</td>\n",
       "      <td>UC-hM6YJuNYVAmUWxeIr9FeA</td>\n",
       "      <td>False</td>\n",
       "    </tr>\n",
       "    <tr>\n",
       "      <th>64910351</th>\n",
       "      <td>2021-05-27T11:07:52.294000+00:00</td>\n",
       "      <td>ごちそうさまでした。</td>\n",
       "      <td>2 years</td>\n",
       "      <td>0</td>\n",
       "      <td>0</td>\n",
       "      <td>91f6b65ccfc5c38e69041078a17f354533577c43</td>\n",
       "      <td>f0193378773a04688eed0c1d48bb90fc54fcdb8b</td>\n",
       "      <td>UFDi4NP5h9g</td>\n",
       "      <td>UCt0clH12Xk1-Ej5PXKGfdPA</td>\n",
       "      <td>False</td>\n",
       "    </tr>\n",
       "    <tr>\n",
       "      <th>71029650</th>\n",
       "      <td>2021-05-30T05:18:08.467000+00:00</td>\n",
       "      <td>エッッッ</td>\n",
       "      <td>non-member</td>\n",
       "      <td>0</td>\n",
       "      <td>0</td>\n",
       "      <td>3f8942951f6606d61b05ed230a9bf56e204f7355</td>\n",
       "      <td>7ff6e351db117b2f2d1edc732390a8ecafc8d3a8</td>\n",
       "      <td>Ov6KR0htGYA</td>\n",
       "      <td>UCvzGlP9oQwU--Y0r9id_jnA</td>\n",
       "      <td>False</td>\n",
       "    </tr>\n",
       "  </tbody>\n",
       "</table>\n",
       "</div>"
      ],
      "text/plain": [
       "                                 timestamp                      body  \\\n",
       "49006238  2021-05-20T18:27:00.058000+00:00         frozen water does   \n",
       "64171079  2021-05-26T17:06:59.929000+00:00  こうゆう消しゴムあったよね?!角消しみたいなww   \n",
       "70042748  2021-05-29T14:53:24.395000+00:00                       顔ww   \n",
       "64910351  2021-05-27T11:07:52.294000+00:00                ごちそうさまでした。   \n",
       "71029650  2021-05-30T05:18:08.467000+00:00                      エッッッ   \n",
       "\n",
       "          membership  isModerator  isVerified  \\\n",
       "49006238  non-member            0           0   \n",
       "64171079  non-member            0           0   \n",
       "70042748  non-member            0           0   \n",
       "64910351     2 years            0           0   \n",
       "71029650  non-member            0           0   \n",
       "\n",
       "                                                id  \\\n",
       "49006238  e5ca6bb24c69b7d57bf35a9dd5de653fe49241d0   \n",
       "64171079  8c237716bdea699c58d6c3f988aa40805005c874   \n",
       "70042748  129afc4370047b46dc1ff61ea1707618f5f6bfe4   \n",
       "64910351  91f6b65ccfc5c38e69041078a17f354533577c43   \n",
       "71029650  3f8942951f6606d61b05ed230a9bf56e204f7355   \n",
       "\n",
       "                                         channelId originVideoId  \\\n",
       "49006238  94d80dc7680678bfed7a2a7327af2e1c2f0a7a48   1LcCMBrCC2Y   \n",
       "64171079  8bafd558b7fbb279623a2ef7661d2fd2ad980843   WuG_d3b5aKw   \n",
       "70042748  d8e9772e15bc3c84d9df32039572b848c2b74ad6   bPrvXay0GQY   \n",
       "64910351  f0193378773a04688eed0c1d48bb90fc54fcdb8b   UFDi4NP5h9g   \n",
       "71029650  7ff6e351db117b2f2d1edc732390a8ecafc8d3a8   Ov6KR0htGYA   \n",
       "\n",
       "                   originChannelId  delete  \n",
       "49006238  UCHsx4Hqa-1ORjQTh9TYDhww   False  \n",
       "64171079  UC-hM6YJuNYVAmUWxeIr9FeA   False  \n",
       "70042748  UC-hM6YJuNYVAmUWxeIr9FeA   False  \n",
       "64910351  UCt0clH12Xk1-Ej5PXKGfdPA   False  \n",
       "71029650  UCvzGlP9oQwU--Y0r9id_jnA   False  "
      ]
     },
     "execution_count": 22,
     "metadata": {},
     "output_type": "execute_result"
    }
   ],
   "source": [
    "chats[chats['delete']==False].sample(5)"
   ]
  },
  {
   "cell_type": "code",
   "execution_count": 23,
   "metadata": {},
   "outputs": [
    {
     "data": {
      "text/html": [
       "<div>\n",
       "<style scoped>\n",
       "    .dataframe tbody tr th:only-of-type {\n",
       "        vertical-align: middle;\n",
       "    }\n",
       "\n",
       "    .dataframe tbody tr th {\n",
       "        vertical-align: top;\n",
       "    }\n",
       "\n",
       "    .dataframe thead th {\n",
       "        text-align: right;\n",
       "    }\n",
       "</style>\n",
       "<table border=\"1\" class=\"dataframe\">\n",
       "  <thead>\n",
       "    <tr style=\"text-align: right;\">\n",
       "      <th></th>\n",
       "      <th>timestamp</th>\n",
       "      <th>body</th>\n",
       "      <th>membership</th>\n",
       "      <th>isModerator</th>\n",
       "      <th>isVerified</th>\n",
       "      <th>id</th>\n",
       "      <th>channelId</th>\n",
       "      <th>originVideoId</th>\n",
       "      <th>originChannelId</th>\n",
       "      <th>delete</th>\n",
       "    </tr>\n",
       "  </thead>\n",
       "  <tbody>\n",
       "    <tr>\n",
       "      <th>34065128</th>\n",
       "      <td>2021-05-14T16:02:26.683000+00:00</td>\n",
       "      <td>マジでなんでこっちのリスナーがわざわざ煽るん</td>\n",
       "      <td>non-member</td>\n",
       "      <td>0</td>\n",
       "      <td>0</td>\n",
       "      <td>c1bb68424396ef67c0aa0868b287171fbc849cfa</td>\n",
       "      <td>1868a06456a2d0f89b1b2593df370649cdf140b6</td>\n",
       "      <td>7TlDbZ31Uvk</td>\n",
       "      <td>UCvUc0m317LWTTPZoBQV479A</td>\n",
       "      <td>True</td>\n",
       "    </tr>\n",
       "    <tr>\n",
       "      <th>26895844</th>\n",
       "      <td>2021-05-11T09:45:34.213000+00:00</td>\n",
       "      <td>STAY HALAL AKHI, NO PIG, ITS HARAAAAM, STAY HA...</td>\n",
       "      <td>non-member</td>\n",
       "      <td>0</td>\n",
       "      <td>0</td>\n",
       "      <td>dd5b4efd53c91b2f1e1b143954445eb1dafe2e68</td>\n",
       "      <td>cee0d59e71fa3fa05b6e7c05f674ec1eb35b8f3b</td>\n",
       "      <td>GhEh45cZMHY</td>\n",
       "      <td>UCdYR5Oyz8Q4g0ZmB4PkTD7g</td>\n",
       "      <td>True</td>\n",
       "    </tr>\n",
       "    <tr>\n",
       "      <th>70535874</th>\n",
       "      <td>2021-05-29T22:30:56.800000+00:00</td>\n",
       "      <td>LEWD</td>\n",
       "      <td>non-member</td>\n",
       "      <td>0</td>\n",
       "      <td>0</td>\n",
       "      <td>d18ec0244ea8e4275d3cb7f726835db800c01258</td>\n",
       "      <td>30d0736ad9368250ef5c13da86e0475ca428c1ed</td>\n",
       "      <td>VAgn-bhgXeM</td>\n",
       "      <td>UCyl1z3jo3XHR1riLFKG5UAg</td>\n",
       "      <td>True</td>\n",
       "    </tr>\n",
       "    <tr>\n",
       "      <th>58617176</th>\n",
       "      <td>2021-05-24T12:35:10.994000+00:00</td>\n",
       "      <td>Jesus</td>\n",
       "      <td>2 months</td>\n",
       "      <td>0</td>\n",
       "      <td>0</td>\n",
       "      <td>e12118cf48f105f92c293c5c7098d8c08b0058d7</td>\n",
       "      <td>e732336c238f45d9267b497bac68be0dbed849ba</td>\n",
       "      <td>UJJONYdwI2c</td>\n",
       "      <td>UCHsx4Hqa-1ORjQTh9TYDhww</td>\n",
       "      <td>True</td>\n",
       "    </tr>\n",
       "    <tr>\n",
       "      <th>37379390</th>\n",
       "      <td>2021-05-16T02:29:49.981000+00:00</td>\n",
       "      <td>wth am i watching</td>\n",
       "      <td>non-member</td>\n",
       "      <td>0</td>\n",
       "      <td>0</td>\n",
       "      <td>86d2d9332730a0cfdce45748792738df4cd4f248</td>\n",
       "      <td>922af201e47137e502c380f70596f895a584a808</td>\n",
       "      <td>oRMh4sP4J4s</td>\n",
       "      <td>UCyl1z3jo3XHR1riLFKG5UAg</td>\n",
       "      <td>True</td>\n",
       "    </tr>\n",
       "  </tbody>\n",
       "</table>\n",
       "</div>"
      ],
      "text/plain": [
       "                                 timestamp  \\\n",
       "34065128  2021-05-14T16:02:26.683000+00:00   \n",
       "26895844  2021-05-11T09:45:34.213000+00:00   \n",
       "70535874  2021-05-29T22:30:56.800000+00:00   \n",
       "58617176  2021-05-24T12:35:10.994000+00:00   \n",
       "37379390  2021-05-16T02:29:49.981000+00:00   \n",
       "\n",
       "                                                       body  membership  \\\n",
       "34065128                             マジでなんでこっちのリスナーがわざわざ煽るん  non-member   \n",
       "26895844  STAY HALAL AKHI, NO PIG, ITS HARAAAAM, STAY HA...  non-member   \n",
       "70535874                                               LEWD  non-member   \n",
       "58617176                                              Jesus    2 months   \n",
       "37379390                                  wth am i watching  non-member   \n",
       "\n",
       "          isModerator  isVerified                                        id  \\\n",
       "34065128            0           0  c1bb68424396ef67c0aa0868b287171fbc849cfa   \n",
       "26895844            0           0  dd5b4efd53c91b2f1e1b143954445eb1dafe2e68   \n",
       "70535874            0           0  d18ec0244ea8e4275d3cb7f726835db800c01258   \n",
       "58617176            0           0  e12118cf48f105f92c293c5c7098d8c08b0058d7   \n",
       "37379390            0           0  86d2d9332730a0cfdce45748792738df4cd4f248   \n",
       "\n",
       "                                         channelId originVideoId  \\\n",
       "34065128  1868a06456a2d0f89b1b2593df370649cdf140b6   7TlDbZ31Uvk   \n",
       "26895844  cee0d59e71fa3fa05b6e7c05f674ec1eb35b8f3b   GhEh45cZMHY   \n",
       "70535874  30d0736ad9368250ef5c13da86e0475ca428c1ed   VAgn-bhgXeM   \n",
       "58617176  e732336c238f45d9267b497bac68be0dbed849ba   UJJONYdwI2c   \n",
       "37379390  922af201e47137e502c380f70596f895a584a808   oRMh4sP4J4s   \n",
       "\n",
       "                   originChannelId  delete  \n",
       "34065128  UCvUc0m317LWTTPZoBQV479A    True  \n",
       "26895844  UCdYR5Oyz8Q4g0ZmB4PkTD7g    True  \n",
       "70535874  UCyl1z3jo3XHR1riLFKG5UAg    True  \n",
       "58617176  UCHsx4Hqa-1ORjQTh9TYDhww    True  \n",
       "37379390  UCyl1z3jo3XHR1riLFKG5UAg    True  "
      ]
     },
     "execution_count": 23,
     "metadata": {},
     "output_type": "execute_result"
    }
   ],
   "source": [
    "chats[chats['delete']==True].sample(5)"
   ]
  },
  {
   "cell_type": "code",
   "execution_count": 24,
   "metadata": {},
   "outputs": [
    {
     "data": {
      "text/plain": [
       "timestamp          0\n",
       "body               0\n",
       "membership         0\n",
       "isModerator        0\n",
       "isVerified         0\n",
       "id                 0\n",
       "channelId          0\n",
       "originVideoId      0\n",
       "originChannelId    0\n",
       "delete             0\n",
       "dtype: int64"
      ]
     },
     "execution_count": 24,
     "metadata": {},
     "output_type": "execute_result"
    }
   ],
   "source": [
    "chats.isnull().sum()"
   ]
  },
  {
   "cell_type": "markdown",
   "metadata": {},
   "source": [
    "# Data Preprocessing and data exploration"
   ]
  },
  {
   "cell_type": "markdown",
   "metadata": {},
   "source": [
    "### Label"
   ]
  },
  {
   "cell_type": "code",
   "execution_count": 25,
   "metadata": {},
   "outputs": [
    {
     "data": {
      "text/plain": [
       "Counter({0: 75713528, 1: 13120})"
      ]
     },
     "execution_count": 25,
     "metadata": {},
     "output_type": "execute_result"
    }
   ],
   "source": [
    "# 轉化成 1 跟 0 的 label\n",
    "chats['label'] = chats['delete'].apply(lambda x: 1 if x == True else 0)\n",
    "Counter(chats['label'])"
   ]
  },
  {
   "cell_type": "markdown",
   "metadata": {},
   "source": [
    "### 看一下個月份delete data"
   ]
  },
  {
   "cell_type": "code",
   "execution_count": 26,
   "metadata": {},
   "outputs": [
    {
     "name": "stderr",
     "output_type": "stream",
     "text": [
      "/home/peggy/env_peggy/lib/python3.8/site-packages/pandas/core/arrays/datetimes.py:1101: UserWarning: Converting to PeriodArray/Index representation will drop timezone information.\n",
      "  warnings.warn(\n"
     ]
    },
    {
     "data": {
      "text/plain": [
       "timestamp\n",
       "2021-02    27294\n",
       "2021-03    74348\n",
       "2021-04    34370\n",
       "2021-05    15366\n",
       "2021-06      201\n",
       "Freq: M, Name: timestamp, dtype: int64"
      ]
     },
     "execution_count": 26,
     "metadata": {},
     "output_type": "execute_result"
    }
   ],
   "source": [
    "delet['timestamp'] = pd.to_datetime(delet['timestamp'])\n",
    "delet['timestamp'].groupby(delet.timestamp.dt.to_period(\"M\")).agg('count')"
   ]
  },
  {
   "cell_type": "markdown",
   "metadata": {},
   "source": [
    "### Membership"
   ]
  },
  {
   "cell_type": "code",
   "execution_count": 27,
   "metadata": {},
   "outputs": [
    {
     "data": {
      "text/plain": [
       "Counter({'1 year': 6541987,\n",
       "         '2 months': 11227493,\n",
       "         '6 months': 12556213,\n",
       "         'non-member': 38108618,\n",
       "         '2 years': 1000641,\n",
       "         '1 month': 2877472,\n",
       "         'less than 1 month': 3414224})"
      ]
     },
     "execution_count": 27,
     "metadata": {},
     "output_type": "execute_result"
    }
   ],
   "source": [
    "Counter(chats['membership'])"
   ]
  },
  {
   "cell_type": "code",
   "execution_count": 28,
   "metadata": {},
   "outputs": [
    {
     "data": {
      "text/html": [
       "<div>\n",
       "<style scoped>\n",
       "    .dataframe tbody tr th:only-of-type {\n",
       "        vertical-align: middle;\n",
       "    }\n",
       "\n",
       "    .dataframe tbody tr th {\n",
       "        vertical-align: top;\n",
       "    }\n",
       "\n",
       "    .dataframe thead th {\n",
       "        text-align: right;\n",
       "    }\n",
       "</style>\n",
       "<table border=\"1\" class=\"dataframe\">\n",
       "  <thead>\n",
       "    <tr style=\"text-align: right;\">\n",
       "      <th></th>\n",
       "      <th>timestamp</th>\n",
       "      <th>body</th>\n",
       "      <th>membership</th>\n",
       "      <th>isModerator</th>\n",
       "      <th>isVerified</th>\n",
       "      <th>id</th>\n",
       "      <th>channelId</th>\n",
       "      <th>originVideoId</th>\n",
       "      <th>originChannelId</th>\n",
       "      <th>delete</th>\n",
       "      <th>label</th>\n",
       "    </tr>\n",
       "  </thead>\n",
       "  <tbody>\n",
       "    <tr>\n",
       "      <th>0</th>\n",
       "      <td>2021-05-01T00:00:00.112000+00:00</td>\n",
       "      <td>そうじゃないｗ</td>\n",
       "      <td>1</td>\n",
       "      <td>0</td>\n",
       "      <td>0</td>\n",
       "      <td>66b9d029a3e93df01b2626a77a5230c71abe5890</td>\n",
       "      <td>606b88eef42cc40a9e055d9af6deaf5e76244c02</td>\n",
       "      <td>S8tYbUIoHM0</td>\n",
       "      <td>UCp-5t9SrOQwXMU7iIjQfARg</td>\n",
       "      <td>False</td>\n",
       "      <td>0</td>\n",
       "    </tr>\n",
       "    <tr>\n",
       "      <th>1</th>\n",
       "      <td>2021-05-01T00:00:00.141000+00:00</td>\n",
       "      <td>いーやバナナだね</td>\n",
       "      <td>2</td>\n",
       "      <td>0</td>\n",
       "      <td>0</td>\n",
       "      <td>63cc28b37c760c52156ad2ea8d3e4036a29b19d9</td>\n",
       "      <td>ed808b843c98965376208c6e7aeb12ee122aa9f1</td>\n",
       "      <td>TfRFrbFbE2k</td>\n",
       "      <td>UChUJbHiTVeGrSkTdBzVfNCQ</td>\n",
       "      <td>False</td>\n",
       "      <td>0</td>\n",
       "    </tr>\n",
       "    <tr>\n",
       "      <th>2</th>\n",
       "      <td>2021-05-01T00:00:00.153000+00:00</td>\n",
       "      <td>���</td>\n",
       "      <td>4</td>\n",
       "      <td>0</td>\n",
       "      <td>0</td>\n",
       "      <td>60485bda906da346c40671a687884c8c40a012d2</td>\n",
       "      <td>13fce698eba3f1b1617efa6715c618293183b178</td>\n",
       "      <td>S8tYbUIoHM0</td>\n",
       "      <td>UCp-5t9SrOQwXMU7iIjQfARg</td>\n",
       "      <td>False</td>\n",
       "      <td>0</td>\n",
       "    </tr>\n",
       "    <tr>\n",
       "      <th>3</th>\n",
       "      <td>2021-05-01T00:00:00.172000+00:00</td>\n",
       "      <td>大成功でしょ</td>\n",
       "      <td>6</td>\n",
       "      <td>0</td>\n",
       "      <td>0</td>\n",
       "      <td>ff9d8bee4c9608299f7c99a286efd19de1cef0ec</td>\n",
       "      <td>116707993d9886a42c32bc5a1a2b9db2e3524e50</td>\n",
       "      <td>S8tYbUIoHM0</td>\n",
       "      <td>UCp-5t9SrOQwXMU7iIjQfARg</td>\n",
       "      <td>False</td>\n",
       "      <td>0</td>\n",
       "    </tr>\n",
       "    <tr>\n",
       "      <th>4</th>\n",
       "      <td>2021-05-01T00:00:00.216000+00:00</td>\n",
       "      <td>大成功やろ！</td>\n",
       "      <td>6</td>\n",
       "      <td>0</td>\n",
       "      <td>0</td>\n",
       "      <td>b7b75f473487a932093e1852eafd2e7741c74e28</td>\n",
       "      <td>d8b410fab159d1c7c6aef425312d3d948c26ee8d</td>\n",
       "      <td>S8tYbUIoHM0</td>\n",
       "      <td>UCp-5t9SrOQwXMU7iIjQfARg</td>\n",
       "      <td>False</td>\n",
       "      <td>0</td>\n",
       "    </tr>\n",
       "  </tbody>\n",
       "</table>\n",
       "</div>"
      ],
      "text/plain": [
       "                          timestamp      body  membership  isModerator  \\\n",
       "0  2021-05-01T00:00:00.112000+00:00   そうじゃないｗ           1            0   \n",
       "1  2021-05-01T00:00:00.141000+00:00  いーやバナナだね           2            0   \n",
       "2  2021-05-01T00:00:00.153000+00:00       ���           4            0   \n",
       "3  2021-05-01T00:00:00.172000+00:00    大成功でしょ           6            0   \n",
       "4  2021-05-01T00:00:00.216000+00:00    大成功やろ！           6            0   \n",
       "\n",
       "   isVerified                                        id  \\\n",
       "0           0  66b9d029a3e93df01b2626a77a5230c71abe5890   \n",
       "1           0  63cc28b37c760c52156ad2ea8d3e4036a29b19d9   \n",
       "2           0  60485bda906da346c40671a687884c8c40a012d2   \n",
       "3           0  ff9d8bee4c9608299f7c99a286efd19de1cef0ec   \n",
       "4           0  b7b75f473487a932093e1852eafd2e7741c74e28   \n",
       "\n",
       "                                  channelId originVideoId  \\\n",
       "0  606b88eef42cc40a9e055d9af6deaf5e76244c02   S8tYbUIoHM0   \n",
       "1  ed808b843c98965376208c6e7aeb12ee122aa9f1   TfRFrbFbE2k   \n",
       "2  13fce698eba3f1b1617efa6715c618293183b178   S8tYbUIoHM0   \n",
       "3  116707993d9886a42c32bc5a1a2b9db2e3524e50   S8tYbUIoHM0   \n",
       "4  d8b410fab159d1c7c6aef425312d3d948c26ee8d   S8tYbUIoHM0   \n",
       "\n",
       "            originChannelId  delete  label  \n",
       "0  UCp-5t9SrOQwXMU7iIjQfARg   False      0  \n",
       "1  UChUJbHiTVeGrSkTdBzVfNCQ   False      0  \n",
       "2  UCp-5t9SrOQwXMU7iIjQfARg   False      0  \n",
       "3  UCp-5t9SrOQwXMU7iIjQfARg   False      0  \n",
       "4  UCp-5t9SrOQwXMU7iIjQfARg   False      0  "
      ]
     },
     "execution_count": 28,
     "metadata": {},
     "output_type": "execute_result"
    }
   ],
   "source": [
    "labelencoder = LabelEncoder()\n",
    "chats[\"membership\"] = labelencoder.fit_transform(chats[\"membership\"])\n",
    "chats.head(5)"
   ]
  },
  {
   "cell_type": "markdown",
   "metadata": {},
   "source": [
    "### isModerator"
   ]
  },
  {
   "cell_type": "code",
   "execution_count": 29,
   "metadata": {},
   "outputs": [
    {
     "data": {
      "text/plain": [
       "Counter({0: 75587864, 1: 138784})"
      ]
     },
     "execution_count": 29,
     "metadata": {},
     "output_type": "execute_result"
    }
   ],
   "source": [
    "Counter(chats['isModerator'])"
   ]
  },
  {
   "cell_type": "code",
   "execution_count": 31,
   "metadata": {},
   "outputs": [
    {
     "name": "stdout",
     "output_type": "stream",
     "text": [
      "is Moderator, banned: 0, normal: 138784\n",
      "not Moderator, banned: 13120, normal: 75574744\n"
     ]
    }
   ],
   "source": [
    "import plotly.graph_objects as go\n",
    "labels=['True', 'False']\n",
    "a = [len(chats[(chats.label == 1) & (chats.isModerator == 1)]), len(chats[(chats.label == 1) & (chats.isModerator == 0)])]\n",
    "b = [len(chats[(chats.label == 0) & (chats.isModerator == 1)]), len(chats[(chats.label == 0) & (chats.isModerator == 0)])]\n",
    "print(f'is Moderator, banned: {a[0]}, normal: {b[0]}')\n",
    "print(f'not Moderator, banned: {a[1]}, normal: {b[1]}')\n",
    "\n",
    "# fig = go.Figure(data=[\n",
    "#     go.Bar(name='Banned', x=labels, y=a),\n",
    "#     go.Bar(name='Normal', x=labels, y=b)\n",
    "# ])\n",
    "\n",
    "# # Change the bar mode\n",
    "# fig.update_layout(barmode='group')\n",
    "# fig.update_layout(title_text='isModerator')\n",
    "# fig.show()"
   ]
  },
  {
   "cell_type": "markdown",
   "metadata": {},
   "source": [
    "### isVerified"
   ]
  },
  {
   "cell_type": "code",
   "execution_count": 32,
   "metadata": {},
   "outputs": [
    {
     "data": {
      "text/plain": [
       "Counter({0: 75706841, 1: 19807})"
      ]
     },
     "execution_count": 32,
     "metadata": {},
     "output_type": "execute_result"
    }
   ],
   "source": [
    "Counter(chats['isVerified'])"
   ]
  },
  {
   "cell_type": "code",
   "execution_count": 33,
   "metadata": {},
   "outputs": [
    {
     "name": "stdout",
     "output_type": "stream",
     "text": [
      "is Verified, banned: 10, normal: 19797\n",
      "not Verified, banned: 13110, normal: 75693731\n"
     ]
    }
   ],
   "source": [
    "import plotly.graph_objects as go\n",
    "labels=['True', 'False']\n",
    "a = [len(chats[(chats.label == 1) & (chats.isVerified == 1)]), len(chats[(chats.label == 1) & (chats.isVerified == 0)])]\n",
    "b = [len(chats[(chats.label == 0) & (chats.isVerified == 1)]), len(chats[(chats.label == 0) & (chats.isVerified == 0)])]\n",
    "print(f'is Verified, banned: {a[0]}, normal: {b[0]}')\n",
    "print(f'not Verified, banned: {a[1]}, normal: {b[1]}')\n",
    "\n",
    "# fig = go.Figure(data=[\n",
    "#     go.Bar(name='Banned', x=labels, y=a),\n",
    "#     go.Bar(name='Normal', x=labels, y=b)\n",
    "# ])\n",
    "\n",
    "# # Change the bar mode\n",
    "# fig.update_layout(barmode='group')\n",
    "# fig.update_layout(title_text='isVerified')\n",
    "# fig.show()"
   ]
  },
  {
   "cell_type": "markdown",
   "metadata": {},
   "source": [
    "### Corr"
   ]
  },
  {
   "cell_type": "code",
   "execution_count": 34,
   "metadata": {},
   "outputs": [],
   "source": [
    "# alpha = ['label', 'membership', 'isModerator', 'isVerified']\n",
    "# dataframe = chats[['label', 'membership', 'isModerator', 'isVerified']]\n",
    "\n",
    "# fig = plt.figure(figsize=(8,8))\n",
    "# ax = fig.add_subplot(111)\n",
    "# cax = ax.matshow(dataframe.corr(), interpolation='nearest')\n",
    "# fig.colorbar(cax)\n",
    "\n",
    "# ax.set_xticklabels(['']+alpha)\n",
    "# ax.set_yticklabels(['']+alpha)\n",
    "\n",
    "# plt.show()"
   ]
  },
  {
   "cell_type": "markdown",
   "metadata": {},
   "source": [
    "# Experiment"
   ]
  },
  {
   "cell_type": "markdown",
   "metadata": {},
   "source": [
    "## 0. Sample Data\n",
    "- Hyper parameter: sample_rate (normal / banned)"
   ]
  },
  {
   "cell_type": "code",
   "execution_count": 35,
   "metadata": {},
   "outputs": [
    {
     "name": "stdout",
     "output_type": "stream",
     "text": [
      "banned count: 13120\n",
      "sample normal count: 65600\n"
     ]
    }
   ],
   "source": [
    "sample_rate = 5\n",
    "banned_sample = chats[chats['delete']==True]\n",
    "print('banned count:', len(banned_sample))\n",
    "normal_sample = chats[chats['delete']==False].sample((sample_rate*len(banned_sample)))\n",
    "print('sample normal count:', len(normal_sample))"
   ]
  },
  {
   "cell_type": "code",
   "execution_count": 36,
   "metadata": {
    "scrolled": false
   },
   "outputs": [
    {
     "data": {
      "text/html": [
       "<div>\n",
       "<style scoped>\n",
       "    .dataframe tbody tr th:only-of-type {\n",
       "        vertical-align: middle;\n",
       "    }\n",
       "\n",
       "    .dataframe tbody tr th {\n",
       "        vertical-align: top;\n",
       "    }\n",
       "\n",
       "    .dataframe thead th {\n",
       "        text-align: right;\n",
       "    }\n",
       "</style>\n",
       "<table border=\"1\" class=\"dataframe\">\n",
       "  <thead>\n",
       "    <tr style=\"text-align: right;\">\n",
       "      <th></th>\n",
       "      <th>timestamp</th>\n",
       "      <th>body</th>\n",
       "      <th>membership</th>\n",
       "      <th>isModerator</th>\n",
       "      <th>isVerified</th>\n",
       "      <th>id</th>\n",
       "      <th>channelId</th>\n",
       "      <th>originVideoId</th>\n",
       "      <th>originChannelId</th>\n",
       "      <th>delete</th>\n",
       "      <th>label</th>\n",
       "    </tr>\n",
       "  </thead>\n",
       "  <tbody>\n",
       "    <tr>\n",
       "      <th>0</th>\n",
       "      <td>2021-05-20T13:03:45.901000+00:00</td>\n",
       "      <td>優先順位の選択か</td>\n",
       "      <td>5</td>\n",
       "      <td>0</td>\n",
       "      <td>0</td>\n",
       "      <td>4c51b62ac94b0e5fbc56f7b865683be544ab0aa3</td>\n",
       "      <td>2bb44c5f6a52940b7d848e14d7f8b8fbacb2bf9a</td>\n",
       "      <td>yp19LT9qJe4</td>\n",
       "      <td>UCvzGlP9oQwU--Y0r9id_jnA</td>\n",
       "      <td>False</td>\n",
       "      <td>0</td>\n",
       "    </tr>\n",
       "    <tr>\n",
       "      <th>1</th>\n",
       "      <td>2021-05-03T13:44:44.874000+00:00</td>\n",
       "      <td>かっこいい！</td>\n",
       "      <td>4</td>\n",
       "      <td>0</td>\n",
       "      <td>0</td>\n",
       "      <td>2295f4466368143112596cf729a28c2bfde28b57</td>\n",
       "      <td>f13eb309003c4ea08554ec9219cb2206e1ea4bfe</td>\n",
       "      <td>L1ZoyKeNQsg</td>\n",
       "      <td>UCvaTdHTWBGv3MKj3KVqJVCw</td>\n",
       "      <td>False</td>\n",
       "      <td>0</td>\n",
       "    </tr>\n",
       "    <tr>\n",
       "      <th>2</th>\n",
       "      <td>2021-05-06T12:30:22.502000+00:00</td>\n",
       "      <td>あんこちゃん尖ってんなーｗ</td>\n",
       "      <td>6</td>\n",
       "      <td>0</td>\n",
       "      <td>0</td>\n",
       "      <td>56a8041e741695fdce1a3631f148feda09a5438f</td>\n",
       "      <td>3cf6acf9ca83725315a60465166e011bd98bf248</td>\n",
       "      <td>FCryv-rWe4c</td>\n",
       "      <td>UC2kyQhzGOB-JPgcQX9OMgEw</td>\n",
       "      <td>False</td>\n",
       "      <td>0</td>\n",
       "    </tr>\n",
       "    <tr>\n",
       "      <th>3</th>\n",
       "      <td>2021-05-17T13:32:00.447000+00:00</td>\n",
       "      <td>ｳﾎｯ？</td>\n",
       "      <td>6</td>\n",
       "      <td>0</td>\n",
       "      <td>0</td>\n",
       "      <td>85f3906977cf554bcf1910c97177509cd48658e3</td>\n",
       "      <td>66e4bdd066abf5d4233802e829f57cf87de5a988</td>\n",
       "      <td>1CBcBYTc4xY</td>\n",
       "      <td>UCl-3q6t6zdZwgIsFZELb7Zg</td>\n",
       "      <td>False</td>\n",
       "      <td>0</td>\n",
       "    </tr>\n",
       "    <tr>\n",
       "      <th>4</th>\n",
       "      <td>2021-05-01T20:18:33.008000+00:00</td>\n",
       "      <td>�</td>\n",
       "      <td>2</td>\n",
       "      <td>0</td>\n",
       "      <td>0</td>\n",
       "      <td>7730fd712816b8b2af3cb0f113e5d5caa5645dac</td>\n",
       "      <td>800e12fb3474184737033ed157a16560d23482b8</td>\n",
       "      <td>TQKgGOAFl4E</td>\n",
       "      <td>UCqm3BQLlJfvkTsX_hvm0UmA</td>\n",
       "      <td>False</td>\n",
       "      <td>0</td>\n",
       "    </tr>\n",
       "    <tr>\n",
       "      <th>...</th>\n",
       "      <td>...</td>\n",
       "      <td>...</td>\n",
       "      <td>...</td>\n",
       "      <td>...</td>\n",
       "      <td>...</td>\n",
       "      <td>...</td>\n",
       "      <td>...</td>\n",
       "      <td>...</td>\n",
       "      <td>...</td>\n",
       "      <td>...</td>\n",
       "      <td>...</td>\n",
       "    </tr>\n",
       "    <tr>\n",
       "      <th>78715</th>\n",
       "      <td>2021-05-31T23:13:17.161000+00:00</td>\n",
       "      <td>You got me so bored my insomnia got cured fina...</td>\n",
       "      <td>6</td>\n",
       "      <td>0</td>\n",
       "      <td>0</td>\n",
       "      <td>ec8928aacc085a86b305ac493c03a7e2af541bf3</td>\n",
       "      <td>1af8d348ce055a1bfa883eda3520d20c4f174955</td>\n",
       "      <td>_2jtFfRfGA4</td>\n",
       "      <td>UCyl1z3jo3XHR1riLFKG5UAg</td>\n",
       "      <td>True</td>\n",
       "      <td>1</td>\n",
       "    </tr>\n",
       "    <tr>\n",
       "      <th>78716</th>\n",
       "      <td>2021-05-31T23:17:03.082000+00:00</td>\n",
       "      <td>ETERNAL IS MORE THAN BEING ABLE TO AIM AND SHOOT</td>\n",
       "      <td>6</td>\n",
       "      <td>0</td>\n",
       "      <td>0</td>\n",
       "      <td>885a772450171f9bc7c3929d1ad5f09896ba1924</td>\n",
       "      <td>4041027d4d5d50c44e15680e786ccd18dd1947f3</td>\n",
       "      <td>_2jtFfRfGA4</td>\n",
       "      <td>UCyl1z3jo3XHR1riLFKG5UAg</td>\n",
       "      <td>True</td>\n",
       "      <td>1</td>\n",
       "    </tr>\n",
       "    <tr>\n",
       "      <th>78717</th>\n",
       "      <td>2021-05-31T23:18:15.719000+00:00</td>\n",
       "      <td>eat me</td>\n",
       "      <td>6</td>\n",
       "      <td>0</td>\n",
       "      <td>0</td>\n",
       "      <td>07b6b100c711ab1a0008b69d3373940da43f3d11</td>\n",
       "      <td>92e2ca9746b0b4970704a6ec4a36aac01c84202c</td>\n",
       "      <td>nnwZu3fUEcw</td>\n",
       "      <td>UCw-jEa3_788VkvM2zHzrDnw</td>\n",
       "      <td>True</td>\n",
       "      <td>1</td>\n",
       "    </tr>\n",
       "    <tr>\n",
       "      <th>78718</th>\n",
       "      <td>2021-05-31T23:27:28.888000+00:00</td>\n",
       "      <td>codigo konami</td>\n",
       "      <td>6</td>\n",
       "      <td>0</td>\n",
       "      <td>0</td>\n",
       "      <td>5759b74e5beb20e6508c398ee01f48c371d1e2dd</td>\n",
       "      <td>e9d05788ca511f62603bef7edb260f30ac007de0</td>\n",
       "      <td>nnwZu3fUEcw</td>\n",
       "      <td>UCw-jEa3_788VkvM2zHzrDnw</td>\n",
       "      <td>True</td>\n",
       "      <td>1</td>\n",
       "    </tr>\n",
       "    <tr>\n",
       "      <th>78719</th>\n",
       "      <td>2021-05-31T23:56:28.121000+00:00</td>\n",
       "      <td>THE LONGER THE ICON OF SIN IS ON EARTH THE STR...</td>\n",
       "      <td>6</td>\n",
       "      <td>0</td>\n",
       "      <td>0</td>\n",
       "      <td>2042bf56c87031d21325b8785c37c8dcfb48c0d0</td>\n",
       "      <td>bd58573973c14660e67f7ccedb217119db177c71</td>\n",
       "      <td>_2jtFfRfGA4</td>\n",
       "      <td>UCyl1z3jo3XHR1riLFKG5UAg</td>\n",
       "      <td>True</td>\n",
       "      <td>1</td>\n",
       "    </tr>\n",
       "  </tbody>\n",
       "</table>\n",
       "<p>78720 rows × 11 columns</p>\n",
       "</div>"
      ],
      "text/plain": [
       "                              timestamp  \\\n",
       "0      2021-05-20T13:03:45.901000+00:00   \n",
       "1      2021-05-03T13:44:44.874000+00:00   \n",
       "2      2021-05-06T12:30:22.502000+00:00   \n",
       "3      2021-05-17T13:32:00.447000+00:00   \n",
       "4      2021-05-01T20:18:33.008000+00:00   \n",
       "...                                 ...   \n",
       "78715  2021-05-31T23:13:17.161000+00:00   \n",
       "78716  2021-05-31T23:17:03.082000+00:00   \n",
       "78717  2021-05-31T23:18:15.719000+00:00   \n",
       "78718  2021-05-31T23:27:28.888000+00:00   \n",
       "78719  2021-05-31T23:56:28.121000+00:00   \n",
       "\n",
       "                                                    body  membership  \\\n",
       "0                                               優先順位の選択か           5   \n",
       "1                                                 かっこいい！           4   \n",
       "2                                          あんこちゃん尖ってんなーｗ           6   \n",
       "3                                                   ｳﾎｯ？           6   \n",
       "4                                                      �           2   \n",
       "...                                                  ...         ...   \n",
       "78715  You got me so bored my insomnia got cured fina...           6   \n",
       "78716   ETERNAL IS MORE THAN BEING ABLE TO AIM AND SHOOT           6   \n",
       "78717                                             eat me           6   \n",
       "78718                                      codigo konami           6   \n",
       "78719  THE LONGER THE ICON OF SIN IS ON EARTH THE STR...           6   \n",
       "\n",
       "       isModerator  isVerified                                        id  \\\n",
       "0                0           0  4c51b62ac94b0e5fbc56f7b865683be544ab0aa3   \n",
       "1                0           0  2295f4466368143112596cf729a28c2bfde28b57   \n",
       "2                0           0  56a8041e741695fdce1a3631f148feda09a5438f   \n",
       "3                0           0  85f3906977cf554bcf1910c97177509cd48658e3   \n",
       "4                0           0  7730fd712816b8b2af3cb0f113e5d5caa5645dac   \n",
       "...            ...         ...                                       ...   \n",
       "78715            0           0  ec8928aacc085a86b305ac493c03a7e2af541bf3   \n",
       "78716            0           0  885a772450171f9bc7c3929d1ad5f09896ba1924   \n",
       "78717            0           0  07b6b100c711ab1a0008b69d3373940da43f3d11   \n",
       "78718            0           0  5759b74e5beb20e6508c398ee01f48c371d1e2dd   \n",
       "78719            0           0  2042bf56c87031d21325b8785c37c8dcfb48c0d0   \n",
       "\n",
       "                                      channelId originVideoId  \\\n",
       "0      2bb44c5f6a52940b7d848e14d7f8b8fbacb2bf9a   yp19LT9qJe4   \n",
       "1      f13eb309003c4ea08554ec9219cb2206e1ea4bfe   L1ZoyKeNQsg   \n",
       "2      3cf6acf9ca83725315a60465166e011bd98bf248   FCryv-rWe4c   \n",
       "3      66e4bdd066abf5d4233802e829f57cf87de5a988   1CBcBYTc4xY   \n",
       "4      800e12fb3474184737033ed157a16560d23482b8   TQKgGOAFl4E   \n",
       "...                                         ...           ...   \n",
       "78715  1af8d348ce055a1bfa883eda3520d20c4f174955   _2jtFfRfGA4   \n",
       "78716  4041027d4d5d50c44e15680e786ccd18dd1947f3   _2jtFfRfGA4   \n",
       "78717  92e2ca9746b0b4970704a6ec4a36aac01c84202c   nnwZu3fUEcw   \n",
       "78718  e9d05788ca511f62603bef7edb260f30ac007de0   nnwZu3fUEcw   \n",
       "78719  bd58573973c14660e67f7ccedb217119db177c71   _2jtFfRfGA4   \n",
       "\n",
       "                originChannelId  delete  label  \n",
       "0      UCvzGlP9oQwU--Y0r9id_jnA   False      0  \n",
       "1      UCvaTdHTWBGv3MKj3KVqJVCw   False      0  \n",
       "2      UC2kyQhzGOB-JPgcQX9OMgEw   False      0  \n",
       "3      UCl-3q6t6zdZwgIsFZELb7Zg   False      0  \n",
       "4      UCqm3BQLlJfvkTsX_hvm0UmA   False      0  \n",
       "...                         ...     ...    ...  \n",
       "78715  UCyl1z3jo3XHR1riLFKG5UAg    True      1  \n",
       "78716  UCyl1z3jo3XHR1riLFKG5UAg    True      1  \n",
       "78717  UCw-jEa3_788VkvM2zHzrDnw    True      1  \n",
       "78718  UCw-jEa3_788VkvM2zHzrDnw    True      1  \n",
       "78719  UCyl1z3jo3XHR1riLFKG5UAg    True      1  \n",
       "\n",
       "[78720 rows x 11 columns]"
      ]
     },
     "execution_count": 36,
     "metadata": {},
     "output_type": "execute_result"
    }
   ],
   "source": [
    "sample_chats = normal_sample.append(banned_sample, ignore_index=True)\n",
    "sample_chats"
   ]
  },
  {
   "cell_type": "markdown",
   "metadata": {},
   "source": [
    "# Tuning"
   ]
  },
  {
   "cell_type": "code",
   "execution_count": 37,
   "metadata": {},
   "outputs": [],
   "source": [
    "def set_seed(seed):\n",
    "    torch.manual_seed(seed)\n",
    "    torch.cuda.manual_seed_all(seed)\n",
    "    torch.backends.cudnn.deterministic = True\n",
    "    torch.backends.cudnn.benchmark = False\n",
    "    np.random.seed(seed)\n",
    "    os.environ['PYTHONHASHSEED'] = str(seed)"
   ]
  },
  {
   "cell_type": "code",
   "execution_count": 38,
   "metadata": {},
   "outputs": [],
   "source": [
    "model_count = 0\n",
    "output_df = pd.DataFrame(columns = ['batch size', 'step', 'lr', 'grad_norm', 'optimizer', 'Accurcay', 'Precision', 'Recall', 'Auroc', 'F1 score'])\n",
    "set_seed(0)"
   ]
  },
  {
   "cell_type": "markdown",
   "metadata": {},
   "source": [
    "### 測試 learning rate"
   ]
  },
  {
   "cell_type": "code",
   "execution_count": 39,
   "metadata": {},
   "outputs": [],
   "source": [
    "lr_result = []\n",
    "lr_list = [4e-5, 1e-5, 2e-5, 3e-5, 5e-5]"
   ]
  },
  {
   "cell_type": "code",
   "execution_count": 41,
   "metadata": {},
   "outputs": [
    {
     "name": "stdout",
     "output_type": "stream",
     "text": [
      "banned count: 13120\n",
      "sample normal count: 65600\n",
      "Number of train data:  56678\n",
      "Number of validation data:  6298\n",
      "Number of test data:  15744\n"
     ]
    },
    {
     "data": {
      "application/vnd.jupyter.widget-view+json": {
       "model_id": "70f08e22c0d74b2f9121999f53c0e6af",
       "version_major": 2,
       "version_minor": 0
      },
      "text/plain": [
       "Downloading:   0%|          | 0.00/481 [00:00<?, ?B/s]"
      ]
     },
     "metadata": {},
     "output_type": "display_data"
    },
    {
     "data": {
      "application/vnd.jupyter.widget-view+json": {
       "model_id": "e1c94be39b0d4a50b84d7e8bf4db5fe8",
       "version_major": 2,
       "version_minor": 0
      },
      "text/plain": [
       "Downloading:   0%|          | 0.00/501M [00:00<?, ?B/s]"
      ]
     },
     "metadata": {},
     "output_type": "display_data"
    },
    {
     "name": "stderr",
     "output_type": "stream",
     "text": [
      "Some weights of the model checkpoint at roberta-base were not used when initializing RobertaForSequenceClassification: ['lm_head.layer_norm.bias', 'lm_head.layer_norm.weight', 'lm_head.dense.bias', 'lm_head.bias', 'lm_head.decoder.weight', 'lm_head.dense.weight']\n",
      "- This IS expected if you are initializing RobertaForSequenceClassification from the checkpoint of a model trained on another task or with another architecture (e.g. initializing a BertForSequenceClassification model from a BertForPreTraining model).\n",
      "- This IS NOT expected if you are initializing RobertaForSequenceClassification from the checkpoint of a model that you expect to be exactly identical (initializing a BertForSequenceClassification model from a BertForSequenceClassification model).\n",
      "Some weights of RobertaForSequenceClassification were not initialized from the model checkpoint at roberta-base and are newly initialized: ['classifier.out_proj.weight', 'classifier.dense.weight', 'classifier.dense.bias', 'classifier.out_proj.bias']\n",
      "You should probably TRAIN this model on a down-stream task to be able to use it for predictions and inference.\n"
     ]
    },
    {
     "data": {
      "application/vnd.jupyter.widget-view+json": {
       "model_id": "c3edd8b228504d8d932aeb1d86c3c430",
       "version_major": 2,
       "version_minor": 0
      },
      "text/plain": [
       "Downloading:   0%|          | 0.00/899k [00:00<?, ?B/s]"
      ]
     },
     "metadata": {},
     "output_type": "display_data"
    },
    {
     "data": {
      "application/vnd.jupyter.widget-view+json": {
       "model_id": "150cda3d5071471d9af1df341b4db807",
       "version_major": 2,
       "version_minor": 0
      },
      "text/plain": [
       "Downloading:   0%|          | 0.00/456k [00:00<?, ?B/s]"
      ]
     },
     "metadata": {},
     "output_type": "display_data"
    },
    {
     "data": {
      "application/vnd.jupyter.widget-view+json": {
       "model_id": "35feac07922b4ebfa9b8785d6c66363b",
       "version_major": 2,
       "version_minor": 0
      },
      "text/plain": [
       "Downloading:   0%|          | 0.00/1.36M [00:00<?, ?B/s]"
      ]
     },
     "metadata": {},
     "output_type": "display_data"
    },
    {
     "data": {
      "application/vnd.jupyter.widget-view+json": {
       "model_id": "2cda578816c54ec18b2717df0f07e5f0",
       "version_major": 2,
       "version_minor": 0
      },
      "text/plain": [
       "Epoch:   0%|          | 0/3 [00:00<?, ?it/s]"
      ]
     },
     "metadata": {},
     "output_type": "display_data"
    },
    {
     "data": {
      "application/vnd.jupyter.widget-view+json": {
       "model_id": "25b87bdd4c6843638ee1665987313444",
       "version_major": 2,
       "version_minor": 0
      },
      "text/plain": [
       "Running Epoch 0 of 3:   0%|          | 0/1772 [00:00<?, ?it/s]"
      ]
     },
     "metadata": {},
     "output_type": "display_data"
    },
    {
     "data": {
      "application/vnd.jupyter.widget-view+json": {
       "model_id": "b4c346f2f1ee49f388e37c92280a194d",
       "version_major": 2,
       "version_minor": 0
      },
      "text/plain": [
       "Running Epoch 1 of 3:   0%|          | 0/1772 [00:00<?, ?it/s]"
      ]
     },
     "metadata": {},
     "output_type": "display_data"
    },
    {
     "data": {
      "application/vnd.jupyter.widget-view+json": {
       "model_id": "c4e646f73c04499b8293234930f7fb8a",
       "version_major": 2,
       "version_minor": 0
      },
      "text/plain": [
       "Running Epoch 2 of 3:   0%|          | 0/1772 [00:00<?, ?it/s]"
      ]
     },
     "metadata": {},
     "output_type": "display_data"
    },
    {
     "data": {
      "application/vnd.jupyter.widget-view+json": {
       "model_id": "ab2a357d91534a2b9ac955ee79295601",
       "version_major": 2,
       "version_minor": 0
      },
      "text/plain": [
       "  0%|          | 0/15744 [00:00<?, ?it/s]"
      ]
     },
     "metadata": {},
     "output_type": "display_data"
    },
    {
     "data": {
      "application/vnd.jupyter.widget-view+json": {
       "model_id": "36964251a23d4a98aad530e0419c9e2b",
       "version_major": 2,
       "version_minor": 0
      },
      "text/plain": [
       "Running Evaluation:   0%|          | 0/492 [00:00<?, ?it/s]"
      ]
     },
     "metadata": {},
     "output_type": "display_data"
    },
    {
     "name": "stdout",
     "output_type": "stream",
     "text": [
      "{'mcc': 0.7392727004407825, 'tp': 1845, 'tn': 12828, 'fp': 327, 'fn': 744, 'auroc': 0.9419322811080237, 'auprc': 0.8447553631713461, 'eval_loss': 0.22541688429002416}\n",
      "Accuracy:  0.9319740853658537\n",
      "F1 score:  0.775047258979206\n",
      "------------------------------------------------------------\n",
      "banned count: 13120\n",
      "sample normal count: 65600\n",
      "Number of train data:  56678\n",
      "Number of validation data:  6298\n",
      "Number of test data:  15744\n"
     ]
    },
    {
     "name": "stderr",
     "output_type": "stream",
     "text": [
      "Some weights of the model checkpoint at roberta-base were not used when initializing RobertaForSequenceClassification: ['lm_head.layer_norm.bias', 'lm_head.layer_norm.weight', 'lm_head.dense.bias', 'lm_head.bias', 'lm_head.decoder.weight', 'lm_head.dense.weight']\n",
      "- This IS expected if you are initializing RobertaForSequenceClassification from the checkpoint of a model trained on another task or with another architecture (e.g. initializing a BertForSequenceClassification model from a BertForPreTraining model).\n",
      "- This IS NOT expected if you are initializing RobertaForSequenceClassification from the checkpoint of a model that you expect to be exactly identical (initializing a BertForSequenceClassification model from a BertForSequenceClassification model).\n",
      "Some weights of RobertaForSequenceClassification were not initialized from the model checkpoint at roberta-base and are newly initialized: ['classifier.out_proj.weight', 'classifier.dense.weight', 'classifier.dense.bias', 'classifier.out_proj.bias']\n",
      "You should probably TRAIN this model on a down-stream task to be able to use it for predictions and inference.\n"
     ]
    },
    {
     "data": {
      "application/vnd.jupyter.widget-view+json": {
       "model_id": "f1056faf1f3440b9808735f4c4eb86f3",
       "version_major": 2,
       "version_minor": 0
      },
      "text/plain": [
       "Epoch:   0%|          | 0/3 [00:00<?, ?it/s]"
      ]
     },
     "metadata": {},
     "output_type": "display_data"
    },
    {
     "data": {
      "application/vnd.jupyter.widget-view+json": {
       "model_id": "7c655f776d4f410d80522603174a6f43",
       "version_major": 2,
       "version_minor": 0
      },
      "text/plain": [
       "Running Epoch 0 of 3:   0%|          | 0/1772 [00:00<?, ?it/s]"
      ]
     },
     "metadata": {},
     "output_type": "display_data"
    },
    {
     "data": {
      "application/vnd.jupyter.widget-view+json": {
       "model_id": "71f39dd6b9874627b66488a68f6d5983",
       "version_major": 2,
       "version_minor": 0
      },
      "text/plain": [
       "Running Epoch 1 of 3:   0%|          | 0/1772 [00:00<?, ?it/s]"
      ]
     },
     "metadata": {},
     "output_type": "display_data"
    },
    {
     "data": {
      "application/vnd.jupyter.widget-view+json": {
       "model_id": "c6972b6f962e4f57b6640d1e21697f59",
       "version_major": 2,
       "version_minor": 0
      },
      "text/plain": [
       "Running Epoch 2 of 3:   0%|          | 0/1772 [00:00<?, ?it/s]"
      ]
     },
     "metadata": {},
     "output_type": "display_data"
    },
    {
     "data": {
      "application/vnd.jupyter.widget-view+json": {
       "model_id": "a6d01ec0847f421eaf244aa3a0a4ab89",
       "version_major": 2,
       "version_minor": 0
      },
      "text/plain": [
       "  0%|          | 0/15744 [00:00<?, ?it/s]"
      ]
     },
     "metadata": {},
     "output_type": "display_data"
    },
    {
     "data": {
      "application/vnd.jupyter.widget-view+json": {
       "model_id": "f2a3cb84108b479195a9f5437facb629",
       "version_major": 2,
       "version_minor": 0
      },
      "text/plain": [
       "Running Evaluation:   0%|          | 0/492 [00:00<?, ?it/s]"
      ]
     },
     "metadata": {},
     "output_type": "display_data"
    },
    {
     "name": "stdout",
     "output_type": "stream",
     "text": [
      "{'mcc': 0.7334076542565559, 'tp': 1860, 'tn': 12783, 'fp': 372, 'fn': 729, 'auroc': 0.946808890462661, 'auprc': 0.850401262742884, 'eval_loss': 0.21025916933256195}\n",
      "Accuracy:  0.9300685975609756\n",
      "F1 score:  0.7716241443683884\n",
      "------------------------------------------------------------\n",
      "banned count: 13120\n",
      "sample normal count: 65600\n",
      "Number of train data:  56678\n",
      "Number of validation data:  6298\n",
      "Number of test data:  15744\n"
     ]
    },
    {
     "name": "stderr",
     "output_type": "stream",
     "text": [
      "Some weights of the model checkpoint at roberta-base were not used when initializing RobertaForSequenceClassification: ['lm_head.layer_norm.bias', 'lm_head.layer_norm.weight', 'lm_head.dense.bias', 'lm_head.bias', 'lm_head.decoder.weight', 'lm_head.dense.weight']\n",
      "- This IS expected if you are initializing RobertaForSequenceClassification from the checkpoint of a model trained on another task or with another architecture (e.g. initializing a BertForSequenceClassification model from a BertForPreTraining model).\n",
      "- This IS NOT expected if you are initializing RobertaForSequenceClassification from the checkpoint of a model that you expect to be exactly identical (initializing a BertForSequenceClassification model from a BertForSequenceClassification model).\n",
      "Some weights of RobertaForSequenceClassification were not initialized from the model checkpoint at roberta-base and are newly initialized: ['classifier.out_proj.weight', 'classifier.dense.weight', 'classifier.dense.bias', 'classifier.out_proj.bias']\n",
      "You should probably TRAIN this model on a down-stream task to be able to use it for predictions and inference.\n"
     ]
    },
    {
     "data": {
      "application/vnd.jupyter.widget-view+json": {
       "model_id": "654b51c7131c41ec8178264d2102872d",
       "version_major": 2,
       "version_minor": 0
      },
      "text/plain": [
       "Epoch:   0%|          | 0/3 [00:00<?, ?it/s]"
      ]
     },
     "metadata": {},
     "output_type": "display_data"
    },
    {
     "data": {
      "application/vnd.jupyter.widget-view+json": {
       "model_id": "4869ce4a50f84db99a800086d256d134",
       "version_major": 2,
       "version_minor": 0
      },
      "text/plain": [
       "Running Epoch 0 of 3:   0%|          | 0/1772 [00:00<?, ?it/s]"
      ]
     },
     "metadata": {},
     "output_type": "display_data"
    },
    {
     "data": {
      "application/vnd.jupyter.widget-view+json": {
       "model_id": "7215f4237635498faa9542820e540f79",
       "version_major": 2,
       "version_minor": 0
      },
      "text/plain": [
       "Running Epoch 1 of 3:   0%|          | 0/1772 [00:00<?, ?it/s]"
      ]
     },
     "metadata": {},
     "output_type": "display_data"
    },
    {
     "data": {
      "application/vnd.jupyter.widget-view+json": {
       "model_id": "6c1a1c7dbd3142008b75f48debc1b1a0",
       "version_major": 2,
       "version_minor": 0
      },
      "text/plain": [
       "Running Epoch 2 of 3:   0%|          | 0/1772 [00:00<?, ?it/s]"
      ]
     },
     "metadata": {},
     "output_type": "display_data"
    },
    {
     "data": {
      "application/vnd.jupyter.widget-view+json": {
       "model_id": "f05356bb767a42d7b9ce5eade8a2a140",
       "version_major": 2,
       "version_minor": 0
      },
      "text/plain": [
       "  0%|          | 0/15744 [00:00<?, ?it/s]"
      ]
     },
     "metadata": {},
     "output_type": "display_data"
    },
    {
     "data": {
      "application/vnd.jupyter.widget-view+json": {
       "model_id": "4f76c4bbac0842828d1a99508f09bc04",
       "version_major": 2,
       "version_minor": 0
      },
      "text/plain": [
       "Running Evaluation:   0%|          | 0/492 [00:00<?, ?it/s]"
      ]
     },
     "metadata": {},
     "output_type": "display_data"
    },
    {
     "name": "stdout",
     "output_type": "stream",
     "text": [
      "{'mcc': 0.7364108808208476, 'tp': 1871, 'tn': 12783, 'fp': 372, 'fn': 718, 'auroc': 0.945275725047305, 'auprc': 0.8453696693490264, 'eval_loss': 0.22053076942428584}\n",
      "Accuracy:  0.9307672764227642\n",
      "F1 score:  0.7744205298013245\n",
      "------------------------------------------------------------\n",
      "banned count: 13120\n",
      "sample normal count: 65600\n",
      "Number of train data:  56678\n",
      "Number of validation data:  6298\n",
      "Number of test data:  15744\n"
     ]
    },
    {
     "name": "stderr",
     "output_type": "stream",
     "text": [
      "Some weights of the model checkpoint at roberta-base were not used when initializing RobertaForSequenceClassification: ['lm_head.layer_norm.bias', 'lm_head.layer_norm.weight', 'lm_head.dense.bias', 'lm_head.bias', 'lm_head.decoder.weight', 'lm_head.dense.weight']\n",
      "- This IS expected if you are initializing RobertaForSequenceClassification from the checkpoint of a model trained on another task or with another architecture (e.g. initializing a BertForSequenceClassification model from a BertForPreTraining model).\n",
      "- This IS NOT expected if you are initializing RobertaForSequenceClassification from the checkpoint of a model that you expect to be exactly identical (initializing a BertForSequenceClassification model from a BertForSequenceClassification model).\n",
      "Some weights of RobertaForSequenceClassification were not initialized from the model checkpoint at roberta-base and are newly initialized: ['classifier.out_proj.weight', 'classifier.dense.weight', 'classifier.dense.bias', 'classifier.out_proj.bias']\n",
      "You should probably TRAIN this model on a down-stream task to be able to use it for predictions and inference.\n"
     ]
    },
    {
     "data": {
      "application/vnd.jupyter.widget-view+json": {
       "model_id": "712b335c5900438eafcf077e431cb688",
       "version_major": 2,
       "version_minor": 0
      },
      "text/plain": [
       "Epoch:   0%|          | 0/3 [00:00<?, ?it/s]"
      ]
     },
     "metadata": {},
     "output_type": "display_data"
    },
    {
     "data": {
      "application/vnd.jupyter.widget-view+json": {
       "model_id": "fdddc5b67d1447d992cf563d38689618",
       "version_major": 2,
       "version_minor": 0
      },
      "text/plain": [
       "Running Epoch 0 of 3:   0%|          | 0/1772 [00:00<?, ?it/s]"
      ]
     },
     "metadata": {},
     "output_type": "display_data"
    },
    {
     "data": {
      "application/vnd.jupyter.widget-view+json": {
       "model_id": "cde08fcbe2a9494eb431cd0ede66c34c",
       "version_major": 2,
       "version_minor": 0
      },
      "text/plain": [
       "Running Epoch 1 of 3:   0%|          | 0/1772 [00:00<?, ?it/s]"
      ]
     },
     "metadata": {},
     "output_type": "display_data"
    },
    {
     "data": {
      "application/vnd.jupyter.widget-view+json": {
       "model_id": "d6665d1da9a846e7a13ae091554954ba",
       "version_major": 2,
       "version_minor": 0
      },
      "text/plain": [
       "Running Epoch 2 of 3:   0%|          | 0/1772 [00:00<?, ?it/s]"
      ]
     },
     "metadata": {},
     "output_type": "display_data"
    },
    {
     "data": {
      "application/vnd.jupyter.widget-view+json": {
       "model_id": "2e1419592b2a4bce815ec21f533aa860",
       "version_major": 2,
       "version_minor": 0
      },
      "text/plain": [
       "  0%|          | 0/15744 [00:00<?, ?it/s]"
      ]
     },
     "metadata": {},
     "output_type": "display_data"
    },
    {
     "data": {
      "application/vnd.jupyter.widget-view+json": {
       "model_id": "d4c0279d01404e8090a60dea06160265",
       "version_major": 2,
       "version_minor": 0
      },
      "text/plain": [
       "Running Evaluation:   0%|          | 0/492 [00:00<?, ?it/s]"
      ]
     },
     "metadata": {},
     "output_type": "display_data"
    },
    {
     "name": "stdout",
     "output_type": "stream",
     "text": [
      "{'mcc': 0.7352902966119302, 'tp': 1878, 'tn': 12769, 'fp': 386, 'fn': 711, 'auroc': 0.9448268035731091, 'auprc': 0.8501673972270865, 'eval_loss': 0.2221621089724718}\n",
      "Accuracy:  0.930322662601626\n",
      "F1 score:  0.7739542550999382\n",
      "------------------------------------------------------------\n",
      "banned count: 13120\n",
      "sample normal count: 65600\n",
      "Number of train data:  56678\n",
      "Number of validation data:  6298\n",
      "Number of test data:  15744\n"
     ]
    },
    {
     "name": "stderr",
     "output_type": "stream",
     "text": [
      "Some weights of the model checkpoint at roberta-base were not used when initializing RobertaForSequenceClassification: ['lm_head.layer_norm.bias', 'lm_head.layer_norm.weight', 'lm_head.dense.bias', 'lm_head.bias', 'lm_head.decoder.weight', 'lm_head.dense.weight']\n",
      "- This IS expected if you are initializing RobertaForSequenceClassification from the checkpoint of a model trained on another task or with another architecture (e.g. initializing a BertForSequenceClassification model from a BertForPreTraining model).\n",
      "- This IS NOT expected if you are initializing RobertaForSequenceClassification from the checkpoint of a model that you expect to be exactly identical (initializing a BertForSequenceClassification model from a BertForSequenceClassification model).\n",
      "Some weights of RobertaForSequenceClassification were not initialized from the model checkpoint at roberta-base and are newly initialized: ['classifier.out_proj.weight', 'classifier.dense.weight', 'classifier.dense.bias', 'classifier.out_proj.bias']\n",
      "You should probably TRAIN this model on a down-stream task to be able to use it for predictions and inference.\n"
     ]
    },
    {
     "data": {
      "application/vnd.jupyter.widget-view+json": {
       "model_id": "4da3c111bee8430f932fd697e2ab98ad",
       "version_major": 2,
       "version_minor": 0
      },
      "text/plain": [
       "Epoch:   0%|          | 0/3 [00:00<?, ?it/s]"
      ]
     },
     "metadata": {},
     "output_type": "display_data"
    },
    {
     "data": {
      "application/vnd.jupyter.widget-view+json": {
       "model_id": "a3370b82f9b04016b24dda55f1fa1243",
       "version_major": 2,
       "version_minor": 0
      },
      "text/plain": [
       "Running Epoch 0 of 3:   0%|          | 0/1772 [00:00<?, ?it/s]"
      ]
     },
     "metadata": {},
     "output_type": "display_data"
    },
    {
     "data": {
      "application/vnd.jupyter.widget-view+json": {
       "model_id": "3bd7b908bf62453bb8a674cd38dc5f7f",
       "version_major": 2,
       "version_minor": 0
      },
      "text/plain": [
       "Running Epoch 1 of 3:   0%|          | 0/1772 [00:00<?, ?it/s]"
      ]
     },
     "metadata": {},
     "output_type": "display_data"
    },
    {
     "data": {
      "application/vnd.jupyter.widget-view+json": {
       "model_id": "4fc158f7dea5438b8cde5df536733a9e",
       "version_major": 2,
       "version_minor": 0
      },
      "text/plain": [
       "Running Epoch 2 of 3:   0%|          | 0/1772 [00:00<?, ?it/s]"
      ]
     },
     "metadata": {},
     "output_type": "display_data"
    },
    {
     "data": {
      "application/vnd.jupyter.widget-view+json": {
       "model_id": "7d7d6d2149a647948ba0906a18998cf4",
       "version_major": 2,
       "version_minor": 0
      },
      "text/plain": [
       "  0%|          | 0/15744 [00:00<?, ?it/s]"
      ]
     },
     "metadata": {},
     "output_type": "display_data"
    },
    {
     "data": {
      "application/vnd.jupyter.widget-view+json": {
       "model_id": "8c07b3b69dd740c7b70bbf0c019966bc",
       "version_major": 2,
       "version_minor": 0
      },
      "text/plain": [
       "Running Evaluation:   0%|          | 0/492 [00:00<?, ?it/s]"
      ]
     },
     "metadata": {},
     "output_type": "display_data"
    },
    {
     "name": "stdout",
     "output_type": "stream",
     "text": [
      "{'mcc': 0.7364967716344245, 'tp': 1884, 'tn': 12767, 'fp': 388, 'fn': 705, 'auroc': 0.9432880154452828, 'auprc': 0.8464772422533985, 'eval_loss': 0.21759208931390772}\n",
      "Accuracy:  0.9305767276422764\n",
      "F1 score:  0.7751491462662002\n",
      "------------------------------------------------------------\n"
     ]
    }
   ],
   "source": [
    "for lr in lr_list:\n",
    "    banned_sample = chats[chats['delete']==True]\n",
    "    print('banned count:', len(banned_sample))\n",
    "    normal_sample = chats[chats['delete']==False].sample((5*len(banned_sample)),random_state=1)\n",
    "    print('sample normal count:', len(normal_sample))\n",
    "    sample_chats = normal_sample.append(banned_sample, ignore_index=True)\n",
    "\n",
    "    from sklearn.model_selection import train_test_split\n",
    "    X_train, X_test, y_train, y_test = train_test_split(sample_chats['body'], sample_chats['label'], test_size=0.2, random_state=42)\n",
    "    X_train, X_valid, y_train, y_valid = train_test_split(X_train, y_train, test_size=0.1, random_state=42)\n",
    "\n",
    "    print(\"Number of train data: \", len(X_train))\n",
    "    print(\"Number of validation data: \", len(X_valid))\n",
    "    print(\"Number of test data: \", len(X_test))\n",
    "    train_df = pd.concat([X_train, y_train], axis=1)\n",
    "    train_df.columns = [\"text\", \"labels\"]\n",
    "    valid_df = pd.concat([X_valid, y_valid], axis=1)\n",
    "    valid_df.columns = [\"text\", \"labels\"]\n",
    "    test_df = pd.concat([X_test, y_test], axis=1)\n",
    "    test_df.columns = [\"text\", \"labels\"]\n",
    "    train_df.head()\n",
    "\n",
    "\n",
    "    from simpletransformers.classification import ClassificationModel\n",
    "    output_name = \"outputs/outputs_model_lr_\"+str(lr)+\"/\"\n",
    "    train_args = {\n",
    "        \"output_dir\": output_name,\n",
    "        \"cache_dir\": \"cache/\",\n",
    "        \"overwrite_output_dir\": True,\n",
    "\n",
    "        \"fp16\": False,\n",
    "        \"fp16_opt_level\": \"O1\",\n",
    "        \"max_seq_length\": 200,\n",
    "        \"train_batch_size\": 32,\n",
    "        \"eval_batch_size\": 32,\n",
    "        \"gradient_accumulation_steps\": 1,\n",
    "        \"num_train_epochs\": 3,\n",
    "        \"weight_decay\": 0,\n",
    "        \"learning_rate\": lr,\n",
    "        \"adam_epsilon\": 1e-8,\n",
    "        \"warmup_ratio\": 0.06,\n",
    "        \"warmup_steps\": 0,\n",
    "        \"max_grad_norm\": 1.0,\n",
    "        \"optimizer\": \"AdamW\",\n",
    "        \"do_lower_case\": False,\n",
    "        \"save_model_every_epoch\": False,\n",
    "        \"reprocess_input_data\": True,\n",
    "        \"n_gpu\": 1,\n",
    "        \"silent\": False,\n",
    "        \"use_multiprocessing\": False,\n",
    "        \"use_early_stopping\": True,\n",
    "        \"early_stopping_patience\": 3,\n",
    "        \"early_stopping_delta\": 0,\n",
    "        \"early_stopping_metric\": \"eval_loss\",\n",
    "        \"early_stopping_metric_minimize\": True,\n",
    "        \"manual_seed\": None,\n",
    "        \"encoding\": None,\n",
    "    }\n",
    "    model = ClassificationModel(\"roberta\", \"roberta-base\", args=train_args)\n",
    "    model.train_model(train_df, eval_df=valid_df)\n",
    "\n",
    "    result, model_outputs, wrong_predictions = model.eval_model(test_df)\n",
    "    acc = (result['tp']+result['tn'])/(result['tp']+result['tn']+result['fp']+result['fn'])\n",
    "    precision = result['tp']/(result['tp']+result['fp']) \n",
    "    recall = result['tp']/(result['tp']+result['fn'])  \n",
    "    f1 = (2*precision*recall)/(precision+recall)\n",
    "    print(result)\n",
    "    print(\"Accuracy: \", acc)\n",
    "    print(\"F1 score: \", f1)\n",
    "    print('-'*60)\n",
    "    lr_result.append(result) "
   ]
  },
  {
   "cell_type": "code",
   "execution_count": 42,
   "metadata": {},
   "outputs": [],
   "source": [
    "# lr_result"
   ]
  },
  {
   "cell_type": "code",
   "execution_count": 43,
   "metadata": {},
   "outputs": [
    {
     "name": "stdout",
     "output_type": "stream",
     "text": [
      "----- learning rate 4e-05 -----\n",
      "Accuracy:  0.9319740853658537\n",
      "Precision:  0.8494475138121547\n",
      "Recall:  0.712630359212051\n",
      "F1 score:  0.775047258979206\n",
      "\n",
      "\n",
      "----- learning rate 1e-05 -----\n",
      "Accuracy:  0.9300685975609756\n",
      "Precision:  0.8333333333333334\n",
      "Recall:  0.7184241019698725\n",
      "F1 score:  0.7716241443683884\n",
      "\n",
      "\n",
      "----- learning rate 2e-05 -----\n",
      "Accuracy:  0.9307672764227642\n",
      "Precision:  0.8341506910387874\n",
      "Recall:  0.7226728466589417\n",
      "F1 score:  0.7744205298013245\n",
      "\n",
      "\n",
      "----- learning rate 3e-05 -----\n",
      "Accuracy:  0.930322662601626\n",
      "Precision:  0.8295053003533569\n",
      "Recall:  0.7253765932792584\n",
      "F1 score:  0.7739542550999382\n",
      "\n",
      "\n",
      "----- learning rate 5e-05 -----\n",
      "Accuracy:  0.9305767276422764\n",
      "Precision:  0.829225352112676\n",
      "Recall:  0.727694090382387\n",
      "F1 score:  0.7751491462662002\n",
      "\n",
      "\n"
     ]
    }
   ],
   "source": [
    "count = 0\n",
    "for result in lr_result:\n",
    "    print(f'----- learning rate {str(lr_list[count])} -----')\n",
    "    acc =  (result['tp']+result['tn'])/(result['tp']+result['tn']+result['fp']+result['fn'])\n",
    "    precision = result['tp']/(result['tp']+result['fp']) \n",
    "    recall = result['tp']/(result['tp']+result['fn']) \n",
    "    f1 = (2*precision*recall)/(precision+recall)\n",
    "    print('Accuracy: ', acc)\n",
    "    print('Precision: ', precision)\n",
    "    print('Recall: ', recall)\n",
    "    print(\"F1 score: \", f1)\n",
    "    print('\\n')\n",
    "    model_count += 1\n",
    "    output_df.loc[model_count] = [32, 1, lr_list[count], 1, 'AdamW', acc, precision, recall, result['auroc'], f1]\n",
    "    count += 1"
   ]
  },
  {
   "cell_type": "code",
   "execution_count": 44,
   "metadata": {},
   "outputs": [
    {
     "data": {
      "text/html": [
       "<div>\n",
       "<style scoped>\n",
       "    .dataframe tbody tr th:only-of-type {\n",
       "        vertical-align: middle;\n",
       "    }\n",
       "\n",
       "    .dataframe tbody tr th {\n",
       "        vertical-align: top;\n",
       "    }\n",
       "\n",
       "    .dataframe thead th {\n",
       "        text-align: right;\n",
       "    }\n",
       "</style>\n",
       "<table border=\"1\" class=\"dataframe\">\n",
       "  <thead>\n",
       "    <tr style=\"text-align: right;\">\n",
       "      <th></th>\n",
       "      <th>batch size</th>\n",
       "      <th>step</th>\n",
       "      <th>lr</th>\n",
       "      <th>grad_norm</th>\n",
       "      <th>optimizer</th>\n",
       "      <th>Accurcay</th>\n",
       "      <th>Precision</th>\n",
       "      <th>Recall</th>\n",
       "      <th>Auroc</th>\n",
       "      <th>F1 score</th>\n",
       "    </tr>\n",
       "  </thead>\n",
       "  <tbody>\n",
       "    <tr>\n",
       "      <th>1</th>\n",
       "      <td>32</td>\n",
       "      <td>1</td>\n",
       "      <td>0.00004</td>\n",
       "      <td>1</td>\n",
       "      <td>AdamW</td>\n",
       "      <td>0.931974</td>\n",
       "      <td>0.849448</td>\n",
       "      <td>0.712630</td>\n",
       "      <td>0.941932</td>\n",
       "      <td>0.775047</td>\n",
       "    </tr>\n",
       "    <tr>\n",
       "      <th>2</th>\n",
       "      <td>32</td>\n",
       "      <td>1</td>\n",
       "      <td>0.00001</td>\n",
       "      <td>1</td>\n",
       "      <td>AdamW</td>\n",
       "      <td>0.930069</td>\n",
       "      <td>0.833333</td>\n",
       "      <td>0.718424</td>\n",
       "      <td>0.946809</td>\n",
       "      <td>0.771624</td>\n",
       "    </tr>\n",
       "    <tr>\n",
       "      <th>3</th>\n",
       "      <td>32</td>\n",
       "      <td>1</td>\n",
       "      <td>0.00002</td>\n",
       "      <td>1</td>\n",
       "      <td>AdamW</td>\n",
       "      <td>0.930767</td>\n",
       "      <td>0.834151</td>\n",
       "      <td>0.722673</td>\n",
       "      <td>0.945276</td>\n",
       "      <td>0.774421</td>\n",
       "    </tr>\n",
       "    <tr>\n",
       "      <th>4</th>\n",
       "      <td>32</td>\n",
       "      <td>1</td>\n",
       "      <td>0.00003</td>\n",
       "      <td>1</td>\n",
       "      <td>AdamW</td>\n",
       "      <td>0.930323</td>\n",
       "      <td>0.829505</td>\n",
       "      <td>0.725377</td>\n",
       "      <td>0.944827</td>\n",
       "      <td>0.773954</td>\n",
       "    </tr>\n",
       "    <tr>\n",
       "      <th>5</th>\n",
       "      <td>32</td>\n",
       "      <td>1</td>\n",
       "      <td>0.00005</td>\n",
       "      <td>1</td>\n",
       "      <td>AdamW</td>\n",
       "      <td>0.930577</td>\n",
       "      <td>0.829225</td>\n",
       "      <td>0.727694</td>\n",
       "      <td>0.943288</td>\n",
       "      <td>0.775149</td>\n",
       "    </tr>\n",
       "  </tbody>\n",
       "</table>\n",
       "</div>"
      ],
      "text/plain": [
       "  batch size step       lr grad_norm optimizer  Accurcay  Precision    Recall  \\\n",
       "1         32    1  0.00004         1     AdamW  0.931974   0.849448  0.712630   \n",
       "2         32    1  0.00001         1     AdamW  0.930069   0.833333  0.718424   \n",
       "3         32    1  0.00002         1     AdamW  0.930767   0.834151  0.722673   \n",
       "4         32    1  0.00003         1     AdamW  0.930323   0.829505  0.725377   \n",
       "5         32    1  0.00005         1     AdamW  0.930577   0.829225  0.727694   \n",
       "\n",
       "      Auroc  F1 score  \n",
       "1  0.941932  0.775047  \n",
       "2  0.946809  0.771624  \n",
       "3  0.945276  0.774421  \n",
       "4  0.944827  0.773954  \n",
       "5  0.943288  0.775149  "
      ]
     },
     "execution_count": 44,
     "metadata": {},
     "output_type": "execute_result"
    }
   ],
   "source": [
    "output_df"
   ]
  },
  {
   "cell_type": "markdown",
   "metadata": {},
   "source": [
    "### 測試 accumulation step"
   ]
  },
  {
   "cell_type": "code",
   "execution_count": 45,
   "metadata": {},
   "outputs": [],
   "source": [
    "step_result = []\n",
    "step_list = [1, 1, 2, 4]\n",
    "batch_list = [8, 16, 32, 32]"
   ]
  },
  {
   "cell_type": "code",
   "execution_count": 46,
   "metadata": {},
   "outputs": [
    {
     "name": "stdout",
     "output_type": "stream",
     "text": [
      "banned count: 13120\n",
      "sample normal count: 65600\n",
      "Number of train data:  56678\n",
      "Number of validation data:  6298\n",
      "Number of test data:  15744\n"
     ]
    },
    {
     "name": "stderr",
     "output_type": "stream",
     "text": [
      "Some weights of the model checkpoint at roberta-base were not used when initializing RobertaForSequenceClassification: ['lm_head.layer_norm.bias', 'lm_head.layer_norm.weight', 'lm_head.dense.bias', 'lm_head.bias', 'lm_head.decoder.weight', 'lm_head.dense.weight']\n",
      "- This IS expected if you are initializing RobertaForSequenceClassification from the checkpoint of a model trained on another task or with another architecture (e.g. initializing a BertForSequenceClassification model from a BertForPreTraining model).\n",
      "- This IS NOT expected if you are initializing RobertaForSequenceClassification from the checkpoint of a model that you expect to be exactly identical (initializing a BertForSequenceClassification model from a BertForSequenceClassification model).\n",
      "Some weights of RobertaForSequenceClassification were not initialized from the model checkpoint at roberta-base and are newly initialized: ['classifier.out_proj.weight', 'classifier.dense.weight', 'classifier.dense.bias', 'classifier.out_proj.bias']\n",
      "You should probably TRAIN this model on a down-stream task to be able to use it for predictions and inference.\n"
     ]
    },
    {
     "data": {
      "application/vnd.jupyter.widget-view+json": {
       "model_id": "067b75c945d04b6481ca87abceda0cf2",
       "version_major": 2,
       "version_minor": 0
      },
      "text/plain": [
       "Epoch:   0%|          | 0/3 [00:00<?, ?it/s]"
      ]
     },
     "metadata": {},
     "output_type": "display_data"
    },
    {
     "data": {
      "application/vnd.jupyter.widget-view+json": {
       "model_id": "c07c3dcc9a02435b9069855d48f663cb",
       "version_major": 2,
       "version_minor": 0
      },
      "text/plain": [
       "Running Epoch 0 of 3:   0%|          | 0/7085 [00:00<?, ?it/s]"
      ]
     },
     "metadata": {},
     "output_type": "display_data"
    },
    {
     "data": {
      "application/vnd.jupyter.widget-view+json": {
       "model_id": "8cf2c4c6c2324d05bc39e9373d2c3af2",
       "version_major": 2,
       "version_minor": 0
      },
      "text/plain": [
       "Running Epoch 1 of 3:   0%|          | 0/7085 [00:00<?, ?it/s]"
      ]
     },
     "metadata": {},
     "output_type": "display_data"
    },
    {
     "data": {
      "application/vnd.jupyter.widget-view+json": {
       "model_id": "6ea1f5a069354f90b5100bf008201a60",
       "version_major": 2,
       "version_minor": 0
      },
      "text/plain": [
       "Running Epoch 2 of 3:   0%|          | 0/7085 [00:00<?, ?it/s]"
      ]
     },
     "metadata": {},
     "output_type": "display_data"
    },
    {
     "data": {
      "application/vnd.jupyter.widget-view+json": {
       "model_id": "393586f8e1da407a94c13986e30dffce",
       "version_major": 2,
       "version_minor": 0
      },
      "text/plain": [
       "  0%|          | 0/15744 [00:00<?, ?it/s]"
      ]
     },
     "metadata": {},
     "output_type": "display_data"
    },
    {
     "data": {
      "application/vnd.jupyter.widget-view+json": {
       "model_id": "aa59e503ef9e4d88a4cf05019b38a7e9",
       "version_major": 2,
       "version_minor": 0
      },
      "text/plain": [
       "Running Evaluation:   0%|          | 0/1968 [00:00<?, ?it/s]"
      ]
     },
     "metadata": {},
     "output_type": "display_data"
    },
    {
     "name": "stdout",
     "output_type": "stream",
     "text": [
      "{'mcc': 0.6856442154710827, 'tp': 1693, 'tn': 12777, 'fp': 378, 'fn': 896, 'auroc': 0.8759163810167245, 'auprc': 0.7858766426210845, 'eval_loss': 0.300280781116382}\n",
      "Accuracy:  0.9190802845528455\n",
      "F1 score:  0.7266094420600859\n",
      "------------------------------------------------------------\n",
      "banned count: 13120\n",
      "sample normal count: 65600\n",
      "Number of train data:  56678\n",
      "Number of validation data:  6298\n",
      "Number of test data:  15744\n"
     ]
    },
    {
     "name": "stderr",
     "output_type": "stream",
     "text": [
      "Some weights of the model checkpoint at roberta-base were not used when initializing RobertaForSequenceClassification: ['lm_head.layer_norm.bias', 'lm_head.layer_norm.weight', 'lm_head.dense.bias', 'lm_head.bias', 'lm_head.decoder.weight', 'lm_head.dense.weight']\n",
      "- This IS expected if you are initializing RobertaForSequenceClassification from the checkpoint of a model trained on another task or with another architecture (e.g. initializing a BertForSequenceClassification model from a BertForPreTraining model).\n",
      "- This IS NOT expected if you are initializing RobertaForSequenceClassification from the checkpoint of a model that you expect to be exactly identical (initializing a BertForSequenceClassification model from a BertForSequenceClassification model).\n",
      "Some weights of RobertaForSequenceClassification were not initialized from the model checkpoint at roberta-base and are newly initialized: ['classifier.out_proj.weight', 'classifier.dense.weight', 'classifier.dense.bias', 'classifier.out_proj.bias']\n",
      "You should probably TRAIN this model on a down-stream task to be able to use it for predictions and inference.\n"
     ]
    },
    {
     "data": {
      "application/vnd.jupyter.widget-view+json": {
       "model_id": "912f4a28471c4ebb9110a051d4362963",
       "version_major": 2,
       "version_minor": 0
      },
      "text/plain": [
       "Epoch:   0%|          | 0/3 [00:00<?, ?it/s]"
      ]
     },
     "metadata": {},
     "output_type": "display_data"
    },
    {
     "data": {
      "application/vnd.jupyter.widget-view+json": {
       "model_id": "7f4971e6420441da946a9f6c80e9e041",
       "version_major": 2,
       "version_minor": 0
      },
      "text/plain": [
       "Running Epoch 0 of 3:   0%|          | 0/3543 [00:00<?, ?it/s]"
      ]
     },
     "metadata": {},
     "output_type": "display_data"
    },
    {
     "data": {
      "application/vnd.jupyter.widget-view+json": {
       "model_id": "21e46022c323467db221e138fc1a9c98",
       "version_major": 2,
       "version_minor": 0
      },
      "text/plain": [
       "Running Epoch 1 of 3:   0%|          | 0/3543 [00:00<?, ?it/s]"
      ]
     },
     "metadata": {},
     "output_type": "display_data"
    },
    {
     "data": {
      "application/vnd.jupyter.widget-view+json": {
       "model_id": "d17f2bea591e4331967787b5199a3bf5",
       "version_major": 2,
       "version_minor": 0
      },
      "text/plain": [
       "Running Epoch 2 of 3:   0%|          | 0/3543 [00:00<?, ?it/s]"
      ]
     },
     "metadata": {},
     "output_type": "display_data"
    },
    {
     "data": {
      "application/vnd.jupyter.widget-view+json": {
       "model_id": "4f0762e325fe416686164d16008b7903",
       "version_major": 2,
       "version_minor": 0
      },
      "text/plain": [
       "  0%|          | 0/15744 [00:00<?, ?it/s]"
      ]
     },
     "metadata": {},
     "output_type": "display_data"
    },
    {
     "data": {
      "application/vnd.jupyter.widget-view+json": {
       "model_id": "8968e3c5f0d0402e9a37c980ee63e63c",
       "version_major": 2,
       "version_minor": 0
      },
      "text/plain": [
       "Running Evaluation:   0%|          | 0/984 [00:00<?, ?it/s]"
      ]
     },
     "metadata": {},
     "output_type": "display_data"
    },
    {
     "name": "stdout",
     "output_type": "stream",
     "text": [
      "{'mcc': 0.7248684788902873, 'tp': 1836, 'tn': 12774, 'fp': 381, 'fn': 753, 'auroc': 0.9418038689253234, 'auprc': 0.8435546260676825, 'eval_loss': 0.25274770926898044}\n",
      "Accuracy:  0.9279725609756098\n",
      "F1 score:  0.7640449438202248\n",
      "------------------------------------------------------------\n",
      "banned count: 13120\n",
      "sample normal count: 65600\n",
      "Number of train data:  56678\n",
      "Number of validation data:  6298\n",
      "Number of test data:  15744\n"
     ]
    },
    {
     "name": "stderr",
     "output_type": "stream",
     "text": [
      "Some weights of the model checkpoint at roberta-base were not used when initializing RobertaForSequenceClassification: ['lm_head.layer_norm.bias', 'lm_head.layer_norm.weight', 'lm_head.dense.bias', 'lm_head.bias', 'lm_head.decoder.weight', 'lm_head.dense.weight']\n",
      "- This IS expected if you are initializing RobertaForSequenceClassification from the checkpoint of a model trained on another task or with another architecture (e.g. initializing a BertForSequenceClassification model from a BertForPreTraining model).\n",
      "- This IS NOT expected if you are initializing RobertaForSequenceClassification from the checkpoint of a model that you expect to be exactly identical (initializing a BertForSequenceClassification model from a BertForSequenceClassification model).\n",
      "Some weights of RobertaForSequenceClassification were not initialized from the model checkpoint at roberta-base and are newly initialized: ['classifier.out_proj.weight', 'classifier.dense.weight', 'classifier.dense.bias', 'classifier.out_proj.bias']\n",
      "You should probably TRAIN this model on a down-stream task to be able to use it for predictions and inference.\n"
     ]
    },
    {
     "data": {
      "application/vnd.jupyter.widget-view+json": {
       "model_id": "82eb9c7b6ac14e5eb362a6f6948dae1e",
       "version_major": 2,
       "version_minor": 0
      },
      "text/plain": [
       "Epoch:   0%|          | 0/3 [00:00<?, ?it/s]"
      ]
     },
     "metadata": {},
     "output_type": "display_data"
    },
    {
     "data": {
      "application/vnd.jupyter.widget-view+json": {
       "model_id": "c5ca256ab2e34028b18c702981cd2cd8",
       "version_major": 2,
       "version_minor": 0
      },
      "text/plain": [
       "Running Epoch 0 of 3:   0%|          | 0/1772 [00:00<?, ?it/s]"
      ]
     },
     "metadata": {},
     "output_type": "display_data"
    },
    {
     "data": {
      "application/vnd.jupyter.widget-view+json": {
       "model_id": "5809eaa4774d4415ae3b3761c3a5b871",
       "version_major": 2,
       "version_minor": 0
      },
      "text/plain": [
       "Running Epoch 1 of 3:   0%|          | 0/1772 [00:00<?, ?it/s]"
      ]
     },
     "metadata": {},
     "output_type": "display_data"
    },
    {
     "data": {
      "application/vnd.jupyter.widget-view+json": {
       "model_id": "a251cc379b6d4fa8ba6ed6c32137ebc3",
       "version_major": 2,
       "version_minor": 0
      },
      "text/plain": [
       "Running Epoch 2 of 3:   0%|          | 0/1772 [00:00<?, ?it/s]"
      ]
     },
     "metadata": {},
     "output_type": "display_data"
    },
    {
     "data": {
      "application/vnd.jupyter.widget-view+json": {
       "model_id": "54da4ec270af420a8aa1236f9fe49ebd",
       "version_major": 2,
       "version_minor": 0
      },
      "text/plain": [
       "  0%|          | 0/15744 [00:00<?, ?it/s]"
      ]
     },
     "metadata": {},
     "output_type": "display_data"
    },
    {
     "data": {
      "application/vnd.jupyter.widget-view+json": {
       "model_id": "c2fb97af1a594335806b34e3756c2ff4",
       "version_major": 2,
       "version_minor": 0
      },
      "text/plain": [
       "Running Evaluation:   0%|          | 0/492 [00:00<?, ?it/s]"
      ]
     },
     "metadata": {},
     "output_type": "display_data"
    },
    {
     "name": "stdout",
     "output_type": "stream",
     "text": [
      "{'mcc': 0.7405573754388629, 'tp': 1891, 'tn': 12777, 'fp': 378, 'fn': 698, 'auroc': 0.9447924066662762, 'auprc': 0.8457806535928553, 'eval_loss': 0.20857996170075868}\n",
      "Accuracy:  0.9316565040650406\n",
      "F1 score:  0.7785096747632771\n",
      "------------------------------------------------------------\n",
      "banned count: 13120\n",
      "sample normal count: 65600\n",
      "Number of train data:  56678\n",
      "Number of validation data:  6298\n",
      "Number of test data:  15744\n"
     ]
    },
    {
     "name": "stderr",
     "output_type": "stream",
     "text": [
      "Some weights of the model checkpoint at roberta-base were not used when initializing RobertaForSequenceClassification: ['lm_head.layer_norm.bias', 'lm_head.layer_norm.weight', 'lm_head.dense.bias', 'lm_head.bias', 'lm_head.decoder.weight', 'lm_head.dense.weight']\n",
      "- This IS expected if you are initializing RobertaForSequenceClassification from the checkpoint of a model trained on another task or with another architecture (e.g. initializing a BertForSequenceClassification model from a BertForPreTraining model).\n",
      "- This IS NOT expected if you are initializing RobertaForSequenceClassification from the checkpoint of a model that you expect to be exactly identical (initializing a BertForSequenceClassification model from a BertForSequenceClassification model).\n",
      "Some weights of RobertaForSequenceClassification were not initialized from the model checkpoint at roberta-base and are newly initialized: ['classifier.out_proj.weight', 'classifier.dense.weight', 'classifier.dense.bias', 'classifier.out_proj.bias']\n",
      "You should probably TRAIN this model on a down-stream task to be able to use it for predictions and inference.\n"
     ]
    },
    {
     "data": {
      "application/vnd.jupyter.widget-view+json": {
       "model_id": "2b02d2cd35ea44bfae744dedc689a4c0",
       "version_major": 2,
       "version_minor": 0
      },
      "text/plain": [
       "Epoch:   0%|          | 0/3 [00:00<?, ?it/s]"
      ]
     },
     "metadata": {},
     "output_type": "display_data"
    },
    {
     "data": {
      "application/vnd.jupyter.widget-view+json": {
       "model_id": "d6f3ae61d95441cebd811f1db9873ba7",
       "version_major": 2,
       "version_minor": 0
      },
      "text/plain": [
       "Running Epoch 0 of 3:   0%|          | 0/1772 [00:00<?, ?it/s]"
      ]
     },
     "metadata": {},
     "output_type": "display_data"
    },
    {
     "data": {
      "application/vnd.jupyter.widget-view+json": {
       "model_id": "8b97a3776adc45119f61d8b94f41539e",
       "version_major": 2,
       "version_minor": 0
      },
      "text/plain": [
       "Running Epoch 1 of 3:   0%|          | 0/1772 [00:00<?, ?it/s]"
      ]
     },
     "metadata": {},
     "output_type": "display_data"
    },
    {
     "data": {
      "application/vnd.jupyter.widget-view+json": {
       "model_id": "3f308169a95d4dba91074802b64c0f20",
       "version_major": 2,
       "version_minor": 0
      },
      "text/plain": [
       "Running Epoch 2 of 3:   0%|          | 0/1772 [00:00<?, ?it/s]"
      ]
     },
     "metadata": {},
     "output_type": "display_data"
    },
    {
     "data": {
      "application/vnd.jupyter.widget-view+json": {
       "model_id": "d48d15a507f24b498c78256c9cc52a2f",
       "version_major": 2,
       "version_minor": 0
      },
      "text/plain": [
       "  0%|          | 0/15744 [00:00<?, ?it/s]"
      ]
     },
     "metadata": {},
     "output_type": "display_data"
    },
    {
     "data": {
      "application/vnd.jupyter.widget-view+json": {
       "model_id": "3a7c5f66071c4c8f8af0982caf0e3c59",
       "version_major": 2,
       "version_minor": 0
      },
      "text/plain": [
       "Running Evaluation:   0%|          | 0/492 [00:00<?, ?it/s]"
      ]
     },
     "metadata": {},
     "output_type": "display_data"
    },
    {
     "name": "stdout",
     "output_type": "stream",
     "text": [
      "{'mcc': 0.7325892861000086, 'tp': 1900, 'tn': 12728, 'fp': 427, 'fn': 689, 'auroc': 0.9468299426028226, 'auprc': 0.8479806229968972, 'eval_loss': 0.2070049055098609}\n",
      "Accuracy:  0.9291158536585366\n",
      "F1 score:  0.7729861676159481\n",
      "------------------------------------------------------------\n"
     ]
    }
   ],
   "source": [
    "for batch, step in zip(batch_list, step_list):\n",
    "    banned_sample = chats[chats['delete']==True]\n",
    "    print('banned count:', len(banned_sample))\n",
    "    normal_sample = chats[chats['delete']==False].sample((5*len(banned_sample)),random_state=1)\n",
    "    print('sample normal count:', len(normal_sample))\n",
    "    sample_chats = normal_sample.append(banned_sample, ignore_index=True)\n",
    "\n",
    "    from sklearn.model_selection import train_test_split\n",
    "    X_train, X_test, y_train, y_test = train_test_split(sample_chats['body'], sample_chats['label'], test_size=0.2, random_state=42)\n",
    "    X_train, X_valid, y_train, y_valid = train_test_split(X_train, y_train, test_size=0.1, random_state=42)\n",
    "\n",
    "    print(\"Number of train data: \", len(X_train))\n",
    "    print(\"Number of validation data: \", len(X_valid))\n",
    "    print(\"Number of test data: \", len(X_test))\n",
    "    train_df = pd.concat([X_train, y_train], axis=1)\n",
    "    train_df.columns = [\"text\", \"labels\"]\n",
    "    valid_df = pd.concat([X_valid, y_valid], axis=1)\n",
    "    valid_df.columns = [\"text\", \"labels\"]\n",
    "    test_df = pd.concat([X_test, y_test], axis=1)\n",
    "    test_df.columns = [\"text\", \"labels\"]\n",
    "    train_df.head()\n",
    "\n",
    "\n",
    "    from simpletransformers.classification import ClassificationModel\n",
    "    output_name = \"outputs/outputs_model_step_\"+str(step)+\"_batch_\"+str(batch)+\"/\"\n",
    "    train_args = {\n",
    "        \"output_dir\": output_name,\n",
    "        \"cache_dir\": \"cache/\",\n",
    "        \"overwrite_output_dir\": True,\n",
    "\n",
    "        \"fp16\": False,\n",
    "        \"fp16_opt_level\": \"O1\",\n",
    "        \"max_seq_length\": 200,\n",
    "        \"train_batch_size\": batch,\n",
    "        \"eval_batch_size\": batch,\n",
    "        \"gradient_accumulation_steps\": step,\n",
    "        \"num_train_epochs\": 3,\n",
    "        \"weight_decay\": 0,\n",
    "        \"learning_rate\": 4e-5,\n",
    "        \"adam_epsilon\": 1e-8,\n",
    "        \"warmup_ratio\": 0.06,\n",
    "        \"warmup_steps\": 0,\n",
    "        \"max_grad_norm\": 1.0,\n",
    "        \"optimizer\": \"AdamW\",\n",
    "        \"do_lower_case\": False,\n",
    "        \"save_model_every_epoch\": False,\n",
    "        \"reprocess_input_data\": True,\n",
    "        \"n_gpu\": 1,\n",
    "        \"silent\": False,\n",
    "        \"use_multiprocessing\": False,\n",
    "        \"use_early_stopping\": True,\n",
    "        \"early_stopping_patience\": 3,\n",
    "        \"early_stopping_delta\": 0,\n",
    "        \"early_stopping_metric\": \"eval_loss\",\n",
    "        \"early_stopping_metric_minimize\": True,\n",
    "        \"manual_seed\": None,\n",
    "        \"encoding\": None,\n",
    "    }\n",
    "    model = ClassificationModel(\"roberta\", \"roberta-base\", args=train_args)\n",
    "    model.train_model(train_df, eval_df=valid_df)\n",
    "\n",
    "    result, model_outputs, wrong_predictions = model.eval_model(test_df)\n",
    "    acc = (result['tp']+result['tn'])/(result['tp']+result['tn']+result['fp']+result['fn'])\n",
    "    precision = result['tp']/(result['tp']+result['fp']) \n",
    "    recall = result['tp']/(result['tp']+result['fn'])  \n",
    "    f1 = (2*precision*recall)/(precision+recall)\n",
    "    print(result)\n",
    "    print(\"Accuracy: \", acc)\n",
    "    print(\"F1 score: \", f1)\n",
    "    print('-'*60)\n",
    "    step_result.append(result) "
   ]
  },
  {
   "cell_type": "code",
   "execution_count": 47,
   "metadata": {},
   "outputs": [],
   "source": [
    "# step_result"
   ]
  },
  {
   "cell_type": "code",
   "execution_count": 48,
   "metadata": {},
   "outputs": [
    {
     "name": "stdout",
     "output_type": "stream",
     "text": [
      "----- batch size 8, accumulation step 1 -----\n",
      "Accuracy:  0.9190802845528455\n",
      "Precision:  0.8174794785127958\n",
      "Recall:  0.6539204325994592\n",
      "F1 score:  0.7266094420600859\n",
      "\n",
      "\n",
      "----- batch size 16, accumulation step 1 -----\n",
      "Accuracy:  0.9279725609756098\n",
      "Precision:  0.8281461434370772\n",
      "Recall:  0.709154113557358\n",
      "F1 score:  0.7640449438202248\n",
      "\n",
      "\n",
      "----- batch size 32, accumulation step 2 -----\n",
      "Accuracy:  0.9316565040650406\n",
      "Precision:  0.8334067871308947\n",
      "Recall:  0.7303978370027038\n",
      "F1 score:  0.7785096747632771\n",
      "\n",
      "\n",
      "----- batch size 32, accumulation step 4 -----\n",
      "Accuracy:  0.9291158536585366\n",
      "Precision:  0.8165019338203696\n",
      "Recall:  0.7338740826573967\n",
      "F1 score:  0.7729861676159481\n",
      "\n",
      "\n"
     ]
    }
   ],
   "source": [
    "count = 0\n",
    "for result in step_result:\n",
    "    print(f'----- batch size {str(batch_list[count])}, accumulation step {str(step_list[count])} -----')\n",
    "    acc =  (result['tp']+result['tn'])/(result['tp']+result['tn']+result['fp']+result['fn'])\n",
    "    precision = result['tp']/(result['tp']+result['fp']) \n",
    "    recall = result['tp']/(result['tp']+result['fn']) \n",
    "    f1 = (2*precision*recall)/(precision+recall)\n",
    "    print('Accuracy: ', acc)\n",
    "    print('Precision: ', precision)\n",
    "    print('Recall: ', recall)\n",
    "    print(\"F1 score: \", f1)\n",
    "    print('\\n')\n",
    "    model_count += 1\n",
    "    output_df.loc[model_count] = [batch_list[count], step_list[count], 4e-5, 1, 'AdamW', acc, precision, recall, result['auroc'], f1]\n",
    "    count += 1"
   ]
  },
  {
   "cell_type": "code",
   "execution_count": 49,
   "metadata": {},
   "outputs": [
    {
     "data": {
      "text/html": [
       "<div>\n",
       "<style scoped>\n",
       "    .dataframe tbody tr th:only-of-type {\n",
       "        vertical-align: middle;\n",
       "    }\n",
       "\n",
       "    .dataframe tbody tr th {\n",
       "        vertical-align: top;\n",
       "    }\n",
       "\n",
       "    .dataframe thead th {\n",
       "        text-align: right;\n",
       "    }\n",
       "</style>\n",
       "<table border=\"1\" class=\"dataframe\">\n",
       "  <thead>\n",
       "    <tr style=\"text-align: right;\">\n",
       "      <th></th>\n",
       "      <th>batch size</th>\n",
       "      <th>step</th>\n",
       "      <th>lr</th>\n",
       "      <th>grad_norm</th>\n",
       "      <th>optimizer</th>\n",
       "      <th>Accurcay</th>\n",
       "      <th>Precision</th>\n",
       "      <th>Recall</th>\n",
       "      <th>Auroc</th>\n",
       "      <th>F1 score</th>\n",
       "    </tr>\n",
       "  </thead>\n",
       "  <tbody>\n",
       "    <tr>\n",
       "      <th>1</th>\n",
       "      <td>32</td>\n",
       "      <td>1</td>\n",
       "      <td>0.00004</td>\n",
       "      <td>1</td>\n",
       "      <td>AdamW</td>\n",
       "      <td>0.931974</td>\n",
       "      <td>0.849448</td>\n",
       "      <td>0.712630</td>\n",
       "      <td>0.941932</td>\n",
       "      <td>0.775047</td>\n",
       "    </tr>\n",
       "    <tr>\n",
       "      <th>2</th>\n",
       "      <td>32</td>\n",
       "      <td>1</td>\n",
       "      <td>0.00001</td>\n",
       "      <td>1</td>\n",
       "      <td>AdamW</td>\n",
       "      <td>0.930069</td>\n",
       "      <td>0.833333</td>\n",
       "      <td>0.718424</td>\n",
       "      <td>0.946809</td>\n",
       "      <td>0.771624</td>\n",
       "    </tr>\n",
       "    <tr>\n",
       "      <th>3</th>\n",
       "      <td>32</td>\n",
       "      <td>1</td>\n",
       "      <td>0.00002</td>\n",
       "      <td>1</td>\n",
       "      <td>AdamW</td>\n",
       "      <td>0.930767</td>\n",
       "      <td>0.834151</td>\n",
       "      <td>0.722673</td>\n",
       "      <td>0.945276</td>\n",
       "      <td>0.774421</td>\n",
       "    </tr>\n",
       "    <tr>\n",
       "      <th>4</th>\n",
       "      <td>32</td>\n",
       "      <td>1</td>\n",
       "      <td>0.00003</td>\n",
       "      <td>1</td>\n",
       "      <td>AdamW</td>\n",
       "      <td>0.930323</td>\n",
       "      <td>0.829505</td>\n",
       "      <td>0.725377</td>\n",
       "      <td>0.944827</td>\n",
       "      <td>0.773954</td>\n",
       "    </tr>\n",
       "    <tr>\n",
       "      <th>5</th>\n",
       "      <td>32</td>\n",
       "      <td>1</td>\n",
       "      <td>0.00005</td>\n",
       "      <td>1</td>\n",
       "      <td>AdamW</td>\n",
       "      <td>0.930577</td>\n",
       "      <td>0.829225</td>\n",
       "      <td>0.727694</td>\n",
       "      <td>0.943288</td>\n",
       "      <td>0.775149</td>\n",
       "    </tr>\n",
       "    <tr>\n",
       "      <th>6</th>\n",
       "      <td>8</td>\n",
       "      <td>1</td>\n",
       "      <td>0.00004</td>\n",
       "      <td>1</td>\n",
       "      <td>AdamW</td>\n",
       "      <td>0.919080</td>\n",
       "      <td>0.817479</td>\n",
       "      <td>0.653920</td>\n",
       "      <td>0.875916</td>\n",
       "      <td>0.726609</td>\n",
       "    </tr>\n",
       "    <tr>\n",
       "      <th>7</th>\n",
       "      <td>16</td>\n",
       "      <td>1</td>\n",
       "      <td>0.00004</td>\n",
       "      <td>1</td>\n",
       "      <td>AdamW</td>\n",
       "      <td>0.927973</td>\n",
       "      <td>0.828146</td>\n",
       "      <td>0.709154</td>\n",
       "      <td>0.941804</td>\n",
       "      <td>0.764045</td>\n",
       "    </tr>\n",
       "    <tr>\n",
       "      <th>8</th>\n",
       "      <td>32</td>\n",
       "      <td>2</td>\n",
       "      <td>0.00004</td>\n",
       "      <td>1</td>\n",
       "      <td>AdamW</td>\n",
       "      <td>0.931657</td>\n",
       "      <td>0.833407</td>\n",
       "      <td>0.730398</td>\n",
       "      <td>0.944792</td>\n",
       "      <td>0.778510</td>\n",
       "    </tr>\n",
       "    <tr>\n",
       "      <th>9</th>\n",
       "      <td>32</td>\n",
       "      <td>4</td>\n",
       "      <td>0.00004</td>\n",
       "      <td>1</td>\n",
       "      <td>AdamW</td>\n",
       "      <td>0.929116</td>\n",
       "      <td>0.816502</td>\n",
       "      <td>0.733874</td>\n",
       "      <td>0.946830</td>\n",
       "      <td>0.772986</td>\n",
       "    </tr>\n",
       "  </tbody>\n",
       "</table>\n",
       "</div>"
      ],
      "text/plain": [
       "  batch size step       lr grad_norm optimizer  Accurcay  Precision    Recall  \\\n",
       "1         32    1  0.00004         1     AdamW  0.931974   0.849448  0.712630   \n",
       "2         32    1  0.00001         1     AdamW  0.930069   0.833333  0.718424   \n",
       "3         32    1  0.00002         1     AdamW  0.930767   0.834151  0.722673   \n",
       "4         32    1  0.00003         1     AdamW  0.930323   0.829505  0.725377   \n",
       "5         32    1  0.00005         1     AdamW  0.930577   0.829225  0.727694   \n",
       "6          8    1  0.00004         1     AdamW  0.919080   0.817479  0.653920   \n",
       "7         16    1  0.00004         1     AdamW  0.927973   0.828146  0.709154   \n",
       "8         32    2  0.00004         1     AdamW  0.931657   0.833407  0.730398   \n",
       "9         32    4  0.00004         1     AdamW  0.929116   0.816502  0.733874   \n",
       "\n",
       "      Auroc  F1 score  \n",
       "1  0.941932  0.775047  \n",
       "2  0.946809  0.771624  \n",
       "3  0.945276  0.774421  \n",
       "4  0.944827  0.773954  \n",
       "5  0.943288  0.775149  \n",
       "6  0.875916  0.726609  \n",
       "7  0.941804  0.764045  \n",
       "8  0.944792  0.778510  \n",
       "9  0.946830  0.772986  "
      ]
     },
     "execution_count": 49,
     "metadata": {},
     "output_type": "execute_result"
    }
   ],
   "source": [
    "output_df"
   ]
  },
  {
   "cell_type": "markdown",
   "metadata": {},
   "source": [
    "### 測試 gradient clipping"
   ]
  },
  {
   "cell_type": "code",
   "execution_count": 50,
   "metadata": {},
   "outputs": [],
   "source": [
    "grad_norm_result = []\n",
    "grad_norm_list = [0.05, 0.5, 1.5]"
   ]
  },
  {
   "cell_type": "code",
   "execution_count": 51,
   "metadata": {},
   "outputs": [
    {
     "name": "stdout",
     "output_type": "stream",
     "text": [
      "banned count: 13120\n",
      "sample normal count: 65600\n",
      "Number of train data:  56678\n",
      "Number of validation data:  6298\n",
      "Number of test data:  15744\n"
     ]
    },
    {
     "name": "stderr",
     "output_type": "stream",
     "text": [
      "Some weights of the model checkpoint at roberta-base were not used when initializing RobertaForSequenceClassification: ['lm_head.layer_norm.bias', 'lm_head.layer_norm.weight', 'lm_head.dense.bias', 'lm_head.bias', 'lm_head.decoder.weight', 'lm_head.dense.weight']\n",
      "- This IS expected if you are initializing RobertaForSequenceClassification from the checkpoint of a model trained on another task or with another architecture (e.g. initializing a BertForSequenceClassification model from a BertForPreTraining model).\n",
      "- This IS NOT expected if you are initializing RobertaForSequenceClassification from the checkpoint of a model that you expect to be exactly identical (initializing a BertForSequenceClassification model from a BertForSequenceClassification model).\n",
      "Some weights of RobertaForSequenceClassification were not initialized from the model checkpoint at roberta-base and are newly initialized: ['classifier.out_proj.weight', 'classifier.dense.weight', 'classifier.dense.bias', 'classifier.out_proj.bias']\n",
      "You should probably TRAIN this model on a down-stream task to be able to use it for predictions and inference.\n"
     ]
    },
    {
     "data": {
      "application/vnd.jupyter.widget-view+json": {
       "model_id": "ed3bc19d633c4dd2aad675f0f2973696",
       "version_major": 2,
       "version_minor": 0
      },
      "text/plain": [
       "Epoch:   0%|          | 0/3 [00:00<?, ?it/s]"
      ]
     },
     "metadata": {},
     "output_type": "display_data"
    },
    {
     "data": {
      "application/vnd.jupyter.widget-view+json": {
       "model_id": "4fbf3e3b58dc4a0d8e87343a8b15c1fa",
       "version_major": 2,
       "version_minor": 0
      },
      "text/plain": [
       "Running Epoch 0 of 3:   0%|          | 0/1772 [00:00<?, ?it/s]"
      ]
     },
     "metadata": {},
     "output_type": "display_data"
    },
    {
     "data": {
      "application/vnd.jupyter.widget-view+json": {
       "model_id": "5530524f30d94e0997c2c33b2d7f549b",
       "version_major": 2,
       "version_minor": 0
      },
      "text/plain": [
       "Running Epoch 1 of 3:   0%|          | 0/1772 [00:00<?, ?it/s]"
      ]
     },
     "metadata": {},
     "output_type": "display_data"
    },
    {
     "data": {
      "application/vnd.jupyter.widget-view+json": {
       "model_id": "8b3aa7dc80534de0a64d8eb480b1ae2b",
       "version_major": 2,
       "version_minor": 0
      },
      "text/plain": [
       "Running Epoch 2 of 3:   0%|          | 0/1772 [00:00<?, ?it/s]"
      ]
     },
     "metadata": {},
     "output_type": "display_data"
    },
    {
     "data": {
      "application/vnd.jupyter.widget-view+json": {
       "model_id": "0d0db7d5430443e19b3f29ecd6a2dd0c",
       "version_major": 2,
       "version_minor": 0
      },
      "text/plain": [
       "  0%|          | 0/15744 [00:00<?, ?it/s]"
      ]
     },
     "metadata": {},
     "output_type": "display_data"
    },
    {
     "data": {
      "application/vnd.jupyter.widget-view+json": {
       "model_id": "f3a7efed8b884d3281fcddd64ca0f75a",
       "version_major": 2,
       "version_minor": 0
      },
      "text/plain": [
       "Running Evaluation:   0%|          | 0/492 [00:00<?, ?it/s]"
      ]
     },
     "metadata": {},
     "output_type": "display_data"
    },
    {
     "name": "stdout",
     "output_type": "stream",
     "text": [
      "{'mcc': 0.7406036505493627, 'tp': 1884, 'tn': 12786, 'fp': 369, 'fn': 705, 'auroc': 0.9436324249349535, 'auprc': 0.8460433662867869, 'eval_loss': 0.22498383168964003}\n",
      "Accuracy:  0.9317835365853658\n",
      "F1 score:  0.7781908302354399\n",
      "------------------------------------------------------------\n",
      "banned count: 13120\n",
      "sample normal count: 65600\n",
      "Number of train data:  56678\n",
      "Number of validation data:  6298\n",
      "Number of test data:  15744\n"
     ]
    },
    {
     "name": "stderr",
     "output_type": "stream",
     "text": [
      "Some weights of the model checkpoint at roberta-base were not used when initializing RobertaForSequenceClassification: ['lm_head.layer_norm.bias', 'lm_head.layer_norm.weight', 'lm_head.dense.bias', 'lm_head.bias', 'lm_head.decoder.weight', 'lm_head.dense.weight']\n",
      "- This IS expected if you are initializing RobertaForSequenceClassification from the checkpoint of a model trained on another task or with another architecture (e.g. initializing a BertForSequenceClassification model from a BertForPreTraining model).\n",
      "- This IS NOT expected if you are initializing RobertaForSequenceClassification from the checkpoint of a model that you expect to be exactly identical (initializing a BertForSequenceClassification model from a BertForSequenceClassification model).\n",
      "Some weights of RobertaForSequenceClassification were not initialized from the model checkpoint at roberta-base and are newly initialized: ['classifier.out_proj.weight', 'classifier.dense.weight', 'classifier.dense.bias', 'classifier.out_proj.bias']\n",
      "You should probably TRAIN this model on a down-stream task to be able to use it for predictions and inference.\n"
     ]
    },
    {
     "data": {
      "application/vnd.jupyter.widget-view+json": {
       "model_id": "dbca18ee9a374e5295dffbd2926b97c9",
       "version_major": 2,
       "version_minor": 0
      },
      "text/plain": [
       "Epoch:   0%|          | 0/3 [00:00<?, ?it/s]"
      ]
     },
     "metadata": {},
     "output_type": "display_data"
    },
    {
     "data": {
      "application/vnd.jupyter.widget-view+json": {
       "model_id": "31793f3c76194fad8c5badfc57e6c3b9",
       "version_major": 2,
       "version_minor": 0
      },
      "text/plain": [
       "Running Epoch 0 of 3:   0%|          | 0/1772 [00:00<?, ?it/s]"
      ]
     },
     "metadata": {},
     "output_type": "display_data"
    },
    {
     "data": {
      "application/vnd.jupyter.widget-view+json": {
       "model_id": "21dac3010cf14ad9902229b1f6c944a7",
       "version_major": 2,
       "version_minor": 0
      },
      "text/plain": [
       "Running Epoch 1 of 3:   0%|          | 0/1772 [00:00<?, ?it/s]"
      ]
     },
     "metadata": {},
     "output_type": "display_data"
    },
    {
     "data": {
      "application/vnd.jupyter.widget-view+json": {
       "model_id": "df4b3c7f4cff43f7b6d2dc47533e2fa3",
       "version_major": 2,
       "version_minor": 0
      },
      "text/plain": [
       "Running Epoch 2 of 3:   0%|          | 0/1772 [00:00<?, ?it/s]"
      ]
     },
     "metadata": {},
     "output_type": "display_data"
    },
    {
     "data": {
      "application/vnd.jupyter.widget-view+json": {
       "model_id": "2de7a3e2ea5a4753b7307244ef6a6546",
       "version_major": 2,
       "version_minor": 0
      },
      "text/plain": [
       "  0%|          | 0/15744 [00:00<?, ?it/s]"
      ]
     },
     "metadata": {},
     "output_type": "display_data"
    },
    {
     "data": {
      "application/vnd.jupyter.widget-view+json": {
       "model_id": "80cbcb8fa08a49cc8164e295a9fdd5a9",
       "version_major": 2,
       "version_minor": 0
      },
      "text/plain": [
       "Running Evaluation:   0%|          | 0/492 [00:00<?, ?it/s]"
      ]
     },
     "metadata": {},
     "output_type": "display_data"
    },
    {
     "name": "stdout",
     "output_type": "stream",
     "text": [
      "{'mcc': 0.7352984813048397, 'tp': 1903, 'tn': 12737, 'fp': 418, 'fn': 686, 'auroc': 0.9407221794279486, 'auprc': 0.8414312458252018, 'eval_loss': 0.23170650004204818}\n",
      "Accuracy:  0.9298780487804879\n",
      "F1 score:  0.775152749490835\n",
      "------------------------------------------------------------\n",
      "banned count: 13120\n",
      "sample normal count: 65600\n",
      "Number of train data:  56678\n",
      "Number of validation data:  6298\n",
      "Number of test data:  15744\n"
     ]
    },
    {
     "name": "stderr",
     "output_type": "stream",
     "text": [
      "Some weights of the model checkpoint at roberta-base were not used when initializing RobertaForSequenceClassification: ['lm_head.layer_norm.bias', 'lm_head.layer_norm.weight', 'lm_head.dense.bias', 'lm_head.bias', 'lm_head.decoder.weight', 'lm_head.dense.weight']\n",
      "- This IS expected if you are initializing RobertaForSequenceClassification from the checkpoint of a model trained on another task or with another architecture (e.g. initializing a BertForSequenceClassification model from a BertForPreTraining model).\n",
      "- This IS NOT expected if you are initializing RobertaForSequenceClassification from the checkpoint of a model that you expect to be exactly identical (initializing a BertForSequenceClassification model from a BertForSequenceClassification model).\n",
      "Some weights of RobertaForSequenceClassification were not initialized from the model checkpoint at roberta-base and are newly initialized: ['classifier.out_proj.weight', 'classifier.dense.weight', 'classifier.dense.bias', 'classifier.out_proj.bias']\n",
      "You should probably TRAIN this model on a down-stream task to be able to use it for predictions and inference.\n"
     ]
    },
    {
     "data": {
      "application/vnd.jupyter.widget-view+json": {
       "model_id": "88069f1aa2b24835b782b7f9e56fbabd",
       "version_major": 2,
       "version_minor": 0
      },
      "text/plain": [
       "Epoch:   0%|          | 0/3 [00:00<?, ?it/s]"
      ]
     },
     "metadata": {},
     "output_type": "display_data"
    },
    {
     "data": {
      "application/vnd.jupyter.widget-view+json": {
       "model_id": "449878224019404da702246a6a302042",
       "version_major": 2,
       "version_minor": 0
      },
      "text/plain": [
       "Running Epoch 0 of 3:   0%|          | 0/1772 [00:00<?, ?it/s]"
      ]
     },
     "metadata": {},
     "output_type": "display_data"
    },
    {
     "data": {
      "application/vnd.jupyter.widget-view+json": {
       "model_id": "21060dcef39841b38be0794575d60055",
       "version_major": 2,
       "version_minor": 0
      },
      "text/plain": [
       "Running Epoch 1 of 3:   0%|          | 0/1772 [00:00<?, ?it/s]"
      ]
     },
     "metadata": {},
     "output_type": "display_data"
    },
    {
     "data": {
      "application/vnd.jupyter.widget-view+json": {
       "model_id": "c0e5a36546474abdacede85da111f424",
       "version_major": 2,
       "version_minor": 0
      },
      "text/plain": [
       "Running Epoch 2 of 3:   0%|          | 0/1772 [00:00<?, ?it/s]"
      ]
     },
     "metadata": {},
     "output_type": "display_data"
    },
    {
     "data": {
      "application/vnd.jupyter.widget-view+json": {
       "model_id": "21f616afdd95437aa095daa75fd55e44",
       "version_major": 2,
       "version_minor": 0
      },
      "text/plain": [
       "  0%|          | 0/15744 [00:00<?, ?it/s]"
      ]
     },
     "metadata": {},
     "output_type": "display_data"
    },
    {
     "data": {
      "application/vnd.jupyter.widget-view+json": {
       "model_id": "0c9f0e9a6d2d4739bc02bfa485d6e904",
       "version_major": 2,
       "version_minor": 0
      },
      "text/plain": [
       "Running Evaluation:   0%|          | 0/492 [00:00<?, ?it/s]"
      ]
     },
     "metadata": {},
     "output_type": "display_data"
    },
    {
     "name": "stdout",
     "output_type": "stream",
     "text": [
      "{'mcc': 0.7366542547372522, 'tp': 1883, 'tn': 12769, 'fp': 386, 'fn': 706, 'auroc': 0.9449922698714073, 'auprc': 0.8456107086276441, 'eval_loss': 0.2212786939831799}\n",
      "Accuracy:  0.930640243902439\n",
      "F1 score:  0.7752161383285302\n",
      "------------------------------------------------------------\n"
     ]
    }
   ],
   "source": [
    "for grad_norm in grad_norm_list:\n",
    "    banned_sample = chats[chats['delete']==True]\n",
    "    print('banned count:', len(banned_sample))\n",
    "    normal_sample = chats[chats['delete']==False].sample((5*len(banned_sample)),random_state=1)\n",
    "    print('sample normal count:', len(normal_sample))\n",
    "    sample_chats = normal_sample.append(banned_sample, ignore_index=True)\n",
    "\n",
    "    from sklearn.model_selection import train_test_split\n",
    "    X_train, X_test, y_train, y_test = train_test_split(sample_chats['body'], sample_chats['label'], test_size=0.2, random_state=42)\n",
    "    X_train, X_valid, y_train, y_valid = train_test_split(X_train, y_train, test_size=0.1, random_state=42)\n",
    "\n",
    "    print(\"Number of train data: \", len(X_train))\n",
    "    print(\"Number of validation data: \", len(X_valid))\n",
    "    print(\"Number of test data: \", len(X_test))\n",
    "    train_df = pd.concat([X_train, y_train], axis=1)\n",
    "    train_df.columns = [\"text\", \"labels\"]\n",
    "    valid_df = pd.concat([X_valid, y_valid], axis=1)\n",
    "    valid_df.columns = [\"text\", \"labels\"]\n",
    "    test_df = pd.concat([X_test, y_test], axis=1)\n",
    "    test_df.columns = [\"text\", \"labels\"]\n",
    "    train_df.head()\n",
    "\n",
    "\n",
    "    from simpletransformers.classification import ClassificationModel\n",
    "    output_name = \"outputs/outputs_model_grad_norm_\"+str(grad_norm)+\"/\"\n",
    "    train_args = {\n",
    "        \"output_dir\": output_name,\n",
    "        \"cache_dir\": \"cache/\",\n",
    "        \"overwrite_output_dir\": True,\n",
    "\n",
    "        \"fp16\": False,\n",
    "        \"fp16_opt_level\": \"O1\",\n",
    "        \"max_seq_length\": 200,\n",
    "        \"train_batch_size\": 32,\n",
    "        \"eval_batch_size\": 32,\n",
    "        \"gradient_accumulation_steps\": 1,\n",
    "        \"num_train_epochs\": 3,\n",
    "        \"weight_decay\": 0,\n",
    "        \"learning_rate\": 4e-5,\n",
    "        \"adam_epsilon\": 1e-8,\n",
    "        \"warmup_ratio\": 0.06,\n",
    "        \"warmup_steps\": 0,\n",
    "        \"max_grad_norm\": grad_norm,\n",
    "        \"optimizer\": \"AdamW\",\n",
    "        \"do_lower_case\": False,\n",
    "        \"save_model_every_epoch\": False,\n",
    "        \"reprocess_input_data\": True,\n",
    "        \"n_gpu\": 1,\n",
    "        \"silent\": False,\n",
    "        \"use_multiprocessing\": False,\n",
    "        \"use_early_stopping\": True,\n",
    "        \"early_stopping_patience\": 3,\n",
    "        \"early_stopping_delta\": 0,\n",
    "        \"early_stopping_metric\": \"eval_loss\",\n",
    "        \"early_stopping_metric_minimize\": True,\n",
    "        \"manual_seed\": None,\n",
    "        \"encoding\": None,\n",
    "    }\n",
    "    model = ClassificationModel(\"roberta\", \"roberta-base\", args=train_args)\n",
    "    model.train_model(train_df, eval_df=valid_df)\n",
    "\n",
    "    result, model_outputs, wrong_predictions = model.eval_model(test_df)\n",
    "    acc = (result['tp']+result['tn'])/(result['tp']+result['tn']+result['fp']+result['fn'])\n",
    "    precision = result['tp']/(result['tp']+result['fp']) \n",
    "    recall = result['tp']/(result['tp']+result['fn'])  \n",
    "    f1 = (2*precision*recall)/(precision+recall)\n",
    "    print(result)\n",
    "    print(\"Accuracy: \", acc)\n",
    "    print(\"F1 score: \", f1)\n",
    "    print('-'*60)\n",
    "    grad_norm_result.append(result) "
   ]
  },
  {
   "cell_type": "code",
   "execution_count": 52,
   "metadata": {},
   "outputs": [],
   "source": [
    "# grad_norm_result"
   ]
  },
  {
   "cell_type": "code",
   "execution_count": 53,
   "metadata": {},
   "outputs": [
    {
     "name": "stdout",
     "output_type": "stream",
     "text": [
      "----- gradient clipping 0.05 -----\n",
      "Accuracy:  0.9317835365853658\n",
      "Precision:  0.8362183754993342\n",
      "Recall:  0.727694090382387\n",
      "F1 score:  0.7781908302354399\n",
      "\n",
      "\n",
      "----- gradient clipping 0.5 -----\n",
      "Accuracy:  0.9298780487804879\n",
      "Precision:  0.8199052132701422\n",
      "Recall:  0.735032831208961\n",
      "F1 score:  0.775152749490835\n",
      "\n",
      "\n",
      "----- gradient clipping 1.5 -----\n",
      "Accuracy:  0.930640243902439\n",
      "Precision:  0.8298810048479507\n",
      "Recall:  0.727307840865199\n",
      "F1 score:  0.7752161383285302\n",
      "\n",
      "\n"
     ]
    }
   ],
   "source": [
    "count = 0\n",
    "for result in grad_norm_result:\n",
    "    print(f'----- gradient clipping {str(grad_norm_list[count])} -----')\n",
    "    acc =  (result['tp']+result['tn'])/(result['tp']+result['tn']+result['fp']+result['fn'])\n",
    "    precision = result['tp']/(result['tp']+result['fp']) \n",
    "    recall = result['tp']/(result['tp']+result['fn']) \n",
    "    f1 = (2*precision*recall)/(precision+recall)\n",
    "    print('Accuracy: ', acc)\n",
    "    print('Precision: ', precision)\n",
    "    print('Recall: ', recall)\n",
    "    print(\"F1 score: \", f1)\n",
    "    print('\\n')\n",
    "    model_count += 1\n",
    "    output_df.loc[model_count] = [32, 1, 4e-5, grad_norm_list[count], 'AdamW', acc, precision, recall, result['auroc'], f1]\n",
    "    count += 1"
   ]
  },
  {
   "cell_type": "code",
   "execution_count": 54,
   "metadata": {},
   "outputs": [
    {
     "data": {
      "text/html": [
       "<div>\n",
       "<style scoped>\n",
       "    .dataframe tbody tr th:only-of-type {\n",
       "        vertical-align: middle;\n",
       "    }\n",
       "\n",
       "    .dataframe tbody tr th {\n",
       "        vertical-align: top;\n",
       "    }\n",
       "\n",
       "    .dataframe thead th {\n",
       "        text-align: right;\n",
       "    }\n",
       "</style>\n",
       "<table border=\"1\" class=\"dataframe\">\n",
       "  <thead>\n",
       "    <tr style=\"text-align: right;\">\n",
       "      <th></th>\n",
       "      <th>batch size</th>\n",
       "      <th>step</th>\n",
       "      <th>lr</th>\n",
       "      <th>grad_norm</th>\n",
       "      <th>optimizer</th>\n",
       "      <th>Accurcay</th>\n",
       "      <th>Precision</th>\n",
       "      <th>Recall</th>\n",
       "      <th>Auroc</th>\n",
       "      <th>F1 score</th>\n",
       "    </tr>\n",
       "  </thead>\n",
       "  <tbody>\n",
       "    <tr>\n",
       "      <th>1</th>\n",
       "      <td>32</td>\n",
       "      <td>1</td>\n",
       "      <td>0.00004</td>\n",
       "      <td>1</td>\n",
       "      <td>AdamW</td>\n",
       "      <td>0.931974</td>\n",
       "      <td>0.849448</td>\n",
       "      <td>0.712630</td>\n",
       "      <td>0.941932</td>\n",
       "      <td>0.775047</td>\n",
       "    </tr>\n",
       "    <tr>\n",
       "      <th>2</th>\n",
       "      <td>32</td>\n",
       "      <td>1</td>\n",
       "      <td>0.00001</td>\n",
       "      <td>1</td>\n",
       "      <td>AdamW</td>\n",
       "      <td>0.930069</td>\n",
       "      <td>0.833333</td>\n",
       "      <td>0.718424</td>\n",
       "      <td>0.946809</td>\n",
       "      <td>0.771624</td>\n",
       "    </tr>\n",
       "    <tr>\n",
       "      <th>3</th>\n",
       "      <td>32</td>\n",
       "      <td>1</td>\n",
       "      <td>0.00002</td>\n",
       "      <td>1</td>\n",
       "      <td>AdamW</td>\n",
       "      <td>0.930767</td>\n",
       "      <td>0.834151</td>\n",
       "      <td>0.722673</td>\n",
       "      <td>0.945276</td>\n",
       "      <td>0.774421</td>\n",
       "    </tr>\n",
       "    <tr>\n",
       "      <th>4</th>\n",
       "      <td>32</td>\n",
       "      <td>1</td>\n",
       "      <td>0.00003</td>\n",
       "      <td>1</td>\n",
       "      <td>AdamW</td>\n",
       "      <td>0.930323</td>\n",
       "      <td>0.829505</td>\n",
       "      <td>0.725377</td>\n",
       "      <td>0.944827</td>\n",
       "      <td>0.773954</td>\n",
       "    </tr>\n",
       "    <tr>\n",
       "      <th>5</th>\n",
       "      <td>32</td>\n",
       "      <td>1</td>\n",
       "      <td>0.00005</td>\n",
       "      <td>1</td>\n",
       "      <td>AdamW</td>\n",
       "      <td>0.930577</td>\n",
       "      <td>0.829225</td>\n",
       "      <td>0.727694</td>\n",
       "      <td>0.943288</td>\n",
       "      <td>0.775149</td>\n",
       "    </tr>\n",
       "    <tr>\n",
       "      <th>6</th>\n",
       "      <td>8</td>\n",
       "      <td>1</td>\n",
       "      <td>0.00004</td>\n",
       "      <td>1</td>\n",
       "      <td>AdamW</td>\n",
       "      <td>0.919080</td>\n",
       "      <td>0.817479</td>\n",
       "      <td>0.653920</td>\n",
       "      <td>0.875916</td>\n",
       "      <td>0.726609</td>\n",
       "    </tr>\n",
       "    <tr>\n",
       "      <th>7</th>\n",
       "      <td>16</td>\n",
       "      <td>1</td>\n",
       "      <td>0.00004</td>\n",
       "      <td>1</td>\n",
       "      <td>AdamW</td>\n",
       "      <td>0.927973</td>\n",
       "      <td>0.828146</td>\n",
       "      <td>0.709154</td>\n",
       "      <td>0.941804</td>\n",
       "      <td>0.764045</td>\n",
       "    </tr>\n",
       "    <tr>\n",
       "      <th>8</th>\n",
       "      <td>32</td>\n",
       "      <td>2</td>\n",
       "      <td>0.00004</td>\n",
       "      <td>1</td>\n",
       "      <td>AdamW</td>\n",
       "      <td>0.931657</td>\n",
       "      <td>0.833407</td>\n",
       "      <td>0.730398</td>\n",
       "      <td>0.944792</td>\n",
       "      <td>0.778510</td>\n",
       "    </tr>\n",
       "    <tr>\n",
       "      <th>9</th>\n",
       "      <td>32</td>\n",
       "      <td>4</td>\n",
       "      <td>0.00004</td>\n",
       "      <td>1</td>\n",
       "      <td>AdamW</td>\n",
       "      <td>0.929116</td>\n",
       "      <td>0.816502</td>\n",
       "      <td>0.733874</td>\n",
       "      <td>0.946830</td>\n",
       "      <td>0.772986</td>\n",
       "    </tr>\n",
       "    <tr>\n",
       "      <th>10</th>\n",
       "      <td>32</td>\n",
       "      <td>1</td>\n",
       "      <td>0.00004</td>\n",
       "      <td>0.05</td>\n",
       "      <td>AdamW</td>\n",
       "      <td>0.931784</td>\n",
       "      <td>0.836218</td>\n",
       "      <td>0.727694</td>\n",
       "      <td>0.943632</td>\n",
       "      <td>0.778191</td>\n",
       "    </tr>\n",
       "    <tr>\n",
       "      <th>11</th>\n",
       "      <td>32</td>\n",
       "      <td>1</td>\n",
       "      <td>0.00004</td>\n",
       "      <td>0.5</td>\n",
       "      <td>AdamW</td>\n",
       "      <td>0.929878</td>\n",
       "      <td>0.819905</td>\n",
       "      <td>0.735033</td>\n",
       "      <td>0.940722</td>\n",
       "      <td>0.775153</td>\n",
       "    </tr>\n",
       "    <tr>\n",
       "      <th>12</th>\n",
       "      <td>32</td>\n",
       "      <td>1</td>\n",
       "      <td>0.00004</td>\n",
       "      <td>1.5</td>\n",
       "      <td>AdamW</td>\n",
       "      <td>0.930640</td>\n",
       "      <td>0.829881</td>\n",
       "      <td>0.727308</td>\n",
       "      <td>0.944992</td>\n",
       "      <td>0.775216</td>\n",
       "    </tr>\n",
       "  </tbody>\n",
       "</table>\n",
       "</div>"
      ],
      "text/plain": [
       "   batch size step       lr grad_norm optimizer  Accurcay  Precision  \\\n",
       "1          32    1  0.00004         1     AdamW  0.931974   0.849448   \n",
       "2          32    1  0.00001         1     AdamW  0.930069   0.833333   \n",
       "3          32    1  0.00002         1     AdamW  0.930767   0.834151   \n",
       "4          32    1  0.00003         1     AdamW  0.930323   0.829505   \n",
       "5          32    1  0.00005         1     AdamW  0.930577   0.829225   \n",
       "6           8    1  0.00004         1     AdamW  0.919080   0.817479   \n",
       "7          16    1  0.00004         1     AdamW  0.927973   0.828146   \n",
       "8          32    2  0.00004         1     AdamW  0.931657   0.833407   \n",
       "9          32    4  0.00004         1     AdamW  0.929116   0.816502   \n",
       "10         32    1  0.00004      0.05     AdamW  0.931784   0.836218   \n",
       "11         32    1  0.00004       0.5     AdamW  0.929878   0.819905   \n",
       "12         32    1  0.00004       1.5     AdamW  0.930640   0.829881   \n",
       "\n",
       "      Recall     Auroc  F1 score  \n",
       "1   0.712630  0.941932  0.775047  \n",
       "2   0.718424  0.946809  0.771624  \n",
       "3   0.722673  0.945276  0.774421  \n",
       "4   0.725377  0.944827  0.773954  \n",
       "5   0.727694  0.943288  0.775149  \n",
       "6   0.653920  0.875916  0.726609  \n",
       "7   0.709154  0.941804  0.764045  \n",
       "8   0.730398  0.944792  0.778510  \n",
       "9   0.733874  0.946830  0.772986  \n",
       "10  0.727694  0.943632  0.778191  \n",
       "11  0.735033  0.940722  0.775153  \n",
       "12  0.727308  0.944992  0.775216  "
      ]
     },
     "execution_count": 54,
     "metadata": {},
     "output_type": "execute_result"
    }
   ],
   "source": [
    "output_df"
   ]
  },
  {
   "cell_type": "markdown",
   "metadata": {},
   "source": [
    "### 測試 optimizer"
   ]
  },
  {
   "cell_type": "code",
   "execution_count": 55,
   "metadata": {},
   "outputs": [],
   "source": [
    "# opt_result = []\n",
    "# opt_list = [\"Adafactor\"]"
   ]
  },
  {
   "cell_type": "code",
   "execution_count": 56,
   "metadata": {},
   "outputs": [],
   "source": [
    "# for opt in opt_list:\n",
    "#     banned_sample = chats[chats['delete']==True]\n",
    "#     print('banned count:', len(banned_sample))\n",
    "#     normal_sample = chats[chats['delete']==False].sample((5*len(banned_sample)),random_state=1)\n",
    "#     print('sample normal count:', len(normal_sample))\n",
    "#     sample_chats = normal_sample.append(banned_sample, ignore_index=True)\n",
    "\n",
    "#     from sklearn.model_selection import train_test_split\n",
    "#     X_train, X_test, y_train, y_test = train_test_split(sample_chats['body'], sample_chats['label'], test_size=0.2, random_state=42)\n",
    "#     X_train, X_valid, y_train, y_valid = train_test_split(X_train, y_train, test_size=0.1, random_state=42)\n",
    "\n",
    "#     print(\"Number of train data: \", len(X_train))\n",
    "#     print(\"Number of validation data: \", len(X_valid))\n",
    "#     print(\"Number of test data: \", len(X_test))\n",
    "#     train_df = pd.concat([X_train, y_train], axis=1)\n",
    "#     train_df.columns = [\"text\", \"labels\"]\n",
    "#     valid_df = pd.concat([X_valid, y_valid], axis=1)\n",
    "#     valid_df.columns = [\"text\", \"labels\"]\n",
    "#     test_df = pd.concat([X_test, y_test], axis=1)\n",
    "#     test_df.columns = [\"text\", \"labels\"]\n",
    "#     train_df.head()\n",
    "\n",
    "\n",
    "#     from simpletransformers.classification import ClassificationModel\n",
    "#     output_name = \"outputs/outputs_model_opt_\"+opt+\"/\"\n",
    "#     train_args = {\n",
    "#         \"output_dir\": output_name,\n",
    "#         \"cache_dir\": \"cache/\",\n",
    "#         \"overwrite_output_dir\": True,\n",
    "\n",
    "#         \"fp16\": False,\n",
    "#         \"fp16_opt_level\": \"O1\",\n",
    "#         \"max_seq_length\": 200,\n",
    "#         \"train_batch_size\": 32,\n",
    "#         \"eval_batch_size\": 32,\n",
    "#         \"gradient_accumulation_steps\": 1,\n",
    "#         \"num_train_epochs\": 3,\n",
    "#         \"weight_decay\": 0,\n",
    "#         \"learning_rate\": 4e-5,\n",
    "#         \"adam_epsilon\": 1e-8,\n",
    "#         \"warmup_ratio\": 0.06,\n",
    "#         \"warmup_steps\": 0,\n",
    "#         \"max_grad_norm\": 1.0,\n",
    "#         \"optimizer\": opt,\n",
    "#         \"do_lower_case\": False,\n",
    "#         \"save_model_every_epoch\": False,\n",
    "#         \"reprocess_input_data\": True,\n",
    "#         \"n_gpu\": 1,\n",
    "#         \"silent\": False,\n",
    "#         \"use_multiprocessing\": False,\n",
    "#         \"use_early_stopping\": True,\n",
    "#         \"early_stopping_patience\": 3,\n",
    "#         \"early_stopping_delta\": 0,\n",
    "#         \"early_stopping_metric\": \"eval_loss\",\n",
    "#         \"early_stopping_metric_minimize\": True,\n",
    "#         \"manual_seed\": None,\n",
    "#         \"encoding\": None,\n",
    "#     }\n",
    "#     model = ClassificationModel(\"roberta\", \"roberta-base\", args=train_args)\n",
    "#     model.train_model(train_df, eval_df=valid_df)\n",
    "\n",
    "#     result, model_outputs, wrong_predictions = model.eval_model(test_df)\n",
    "#     acc = (result['tp']+result['tn'])/(result['tp']+result['tn']+result['fp']+result['fn'])\n",
    "#     precision = result['tp']/(result['tp']+result['fp']) \n",
    "#     recall = result['tp']/(result['tp']+result['fn'])  \n",
    "#     f1 = (2*precision*recall)/(precision+recall)\n",
    "#     print(result)\n",
    "#     print(\"Accuracy: \", acc)\n",
    "#     print(\"F1 score: \", f1)\n",
    "#     print('-'*60)\n",
    "#     opt_result.append(result) "
   ]
  },
  {
   "cell_type": "code",
   "execution_count": 57,
   "metadata": {},
   "outputs": [],
   "source": [
    "# opt_result"
   ]
  },
  {
   "cell_type": "code",
   "execution_count": 58,
   "metadata": {},
   "outputs": [],
   "source": [
    "# count = 0\n",
    "# for result in opt_result:\n",
    "#     print(f'----- optimizer {str(opt_list[count])} -----')\n",
    "#     acc =  (result['tp']+result['tn'])/(result['tp']+result['tn']+result['fp']+result['fn'])\n",
    "#     precision = result['tp']/(result['tp']+result['fp']) \n",
    "#     recall = result['tp']/(result['tp']+result['fn']) \n",
    "#     f1 = (2*precision*recall)/(precision+recall)\n",
    "#     print('Accuracy: ', acc)\n",
    "#     print('Precision: ', precision)\n",
    "#     print('Recall: ', recall)\n",
    "#     print(\"F1 score: \", f1)\n",
    "#     print('\\n')\n",
    "#     model_count += 1\n",
    "#     output_df.loc[model_count] = [32, 1, 4e-5, 1, opt_list[count], acc, precision, recall, result['auroc'], f1]\n",
    "#     count += 1"
   ]
  },
  {
   "cell_type": "code",
   "execution_count": 59,
   "metadata": {},
   "outputs": [],
   "source": [
    "# output_df"
   ]
  },
  {
   "cell_type": "code",
   "execution_count": null,
   "metadata": {},
   "outputs": [],
   "source": []
  },
  {
   "cell_type": "code",
   "execution_count": null,
   "metadata": {},
   "outputs": [],
   "source": []
  }
 ],
 "metadata": {
  "kernelspec": {
   "display_name": "Python 3",
   "language": "python",
   "name": "python3"
  },
  "language_info": {
   "codemirror_mode": {
    "name": "ipython",
    "version": 3
   },
   "file_extension": ".py",
   "mimetype": "text/x-python",
   "name": "python",
   "nbconvert_exporter": "python",
   "pygments_lexer": "ipython3",
   "version": "3.8.5"
  }
 },
 "nbformat": 4,
 "nbformat_minor": 2
}
