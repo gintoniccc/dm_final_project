{
 "cells": [
  {
   "cell_type": "code",
   "execution_count": 1,
   "metadata": {},
   "outputs": [],
   "source": [
    "# Import packages\n",
    "import time\n",
    "import pandas as pd\n",
    "import numpy as np\n",
    "import seaborn as sb\n",
    "import torch\n",
    "import torch.nn as nn\n",
    "import matplotlib.pyplot as plt\n",
    "from tqdm import tqdm \n",
    "from torch.utils.data import Dataset,DataLoader\n",
    "from sklearn.preprocessing import LabelEncoder\n",
    "from sklearn import manifold\n",
    "import os"
   ]
  },
  {
   "cell_type": "code",
   "execution_count": 2,
   "metadata": {},
   "outputs": [],
   "source": [
    "device = torch.device('cuda' if torch.cuda.is_available() else 'cpu')"
   ]
  },
  {
   "cell_type": "code",
   "execution_count": 3,
   "metadata": {},
   "outputs": [],
   "source": [
    "!mkdir -p ckpt\n",
    "!mkdir -p cache"
   ]
  },
  {
   "cell_type": "markdown",
   "metadata": {},
   "source": [
    "# Load Data"
   ]
  },
  {
   "cell_type": "code",
   "execution_count": 4,
   "metadata": {},
   "outputs": [
    {
     "data": {
      "text/plain": [
       "timestamp          0\n",
       "body               0\n",
       "membership         0\n",
       "isModerator        0\n",
       "isVerified         0\n",
       "id                 0\n",
       "channelId          0\n",
       "originVideoId      0\n",
       "originChannelId    0\n",
       "dtype: int64"
      ]
     },
     "execution_count": 4,
     "metadata": {},
     "output_type": "execute_result"
    }
   ],
   "source": [
    "chats = pd.read_csv('data/chats_2021-05.csv', na_values='', keep_default_na=False)\n",
    "chats.isna().sum()"
   ]
  },
  {
   "cell_type": "code",
   "execution_count": 5,
   "metadata": {},
   "outputs": [],
   "source": [
    "delet = pd.read_csv('data/deletion_events.csv')#, usecols=['id', 'retracted'])\n",
    "delet = delet[delet['retracted'] == 0]"
   ]
  },
  {
   "cell_type": "code",
   "execution_count": 6,
   "metadata": {},
   "outputs": [
    {
     "data": {
      "text/plain": [
       "151601"
      ]
     },
     "execution_count": 6,
     "metadata": {},
     "output_type": "execute_result"
    }
   ],
   "source": [
    "len(delet)"
   ]
  },
  {
   "cell_type": "code",
   "execution_count": 7,
   "metadata": {},
   "outputs": [
    {
     "data": {
      "text/html": [
       "<div>\n",
       "<style scoped>\n",
       "    .dataframe tbody tr th:only-of-type {\n",
       "        vertical-align: middle;\n",
       "    }\n",
       "\n",
       "    .dataframe tbody tr th {\n",
       "        vertical-align: top;\n",
       "    }\n",
       "\n",
       "    .dataframe thead th {\n",
       "        text-align: right;\n",
       "    }\n",
       "</style>\n",
       "<table border=\"1\" class=\"dataframe\">\n",
       "  <thead>\n",
       "    <tr style=\"text-align: right;\">\n",
       "      <th></th>\n",
       "      <th>timestamp</th>\n",
       "      <th>id</th>\n",
       "      <th>retracted</th>\n",
       "      <th>originVideoId</th>\n",
       "      <th>originChannelId</th>\n",
       "    </tr>\n",
       "  </thead>\n",
       "  <tbody>\n",
       "    <tr>\n",
       "      <th>53</th>\n",
       "      <td>2021-02-11T09:54:44.788000+00:00</td>\n",
       "      <td>1cd5dbe14479ed91d6e63a7591f843a1715ff070</td>\n",
       "      <td>0</td>\n",
       "      <td>blSX7M_n9RA</td>\n",
       "      <td>UCl_gCybOJRIgOXw6Qb4qJzQ</td>\n",
       "    </tr>\n",
       "    <tr>\n",
       "      <th>62</th>\n",
       "      <td>2021-02-11T10:03:10.305000+00:00</td>\n",
       "      <td>023a77c0bc231728c7b77d781e58fc64371ea96d</td>\n",
       "      <td>0</td>\n",
       "      <td>blSX7M_n9RA</td>\n",
       "      <td>UCl_gCybOJRIgOXw6Qb4qJzQ</td>\n",
       "    </tr>\n",
       "    <tr>\n",
       "      <th>113</th>\n",
       "      <td>2021-02-11T10:22:14.158000+00:00</td>\n",
       "      <td>084b4229299fd1f1ba2f75f80ca18bcd081b2feb</td>\n",
       "      <td>0</td>\n",
       "      <td>dAiMpAgmdSo</td>\n",
       "      <td>UC1DCedRgGHBdm81E1llLhOQ</td>\n",
       "    </tr>\n",
       "    <tr>\n",
       "      <th>114</th>\n",
       "      <td>2021-02-11T10:22:24.297000+00:00</td>\n",
       "      <td>084b4229299fd1f1ba2f75f80ca18bcd081b2feb</td>\n",
       "      <td>0</td>\n",
       "      <td>dAiMpAgmdSo</td>\n",
       "      <td>UC1DCedRgGHBdm81E1llLhOQ</td>\n",
       "    </tr>\n",
       "    <tr>\n",
       "      <th>146</th>\n",
       "      <td>2021-02-11T10:32:40.165000+00:00</td>\n",
       "      <td>0ffc89ef41122a147fe3d6edde10fed1e1fecd2f</td>\n",
       "      <td>0</td>\n",
       "      <td>-UbSxTkVjjU</td>\n",
       "      <td>UC-hM6YJuNYVAmUWxeIr9FeA</td>\n",
       "    </tr>\n",
       "  </tbody>\n",
       "</table>\n",
       "</div>"
      ],
      "text/plain": [
       "                            timestamp  \\\n",
       "53   2021-02-11T09:54:44.788000+00:00   \n",
       "62   2021-02-11T10:03:10.305000+00:00   \n",
       "113  2021-02-11T10:22:14.158000+00:00   \n",
       "114  2021-02-11T10:22:24.297000+00:00   \n",
       "146  2021-02-11T10:32:40.165000+00:00   \n",
       "\n",
       "                                           id  retracted originVideoId  \\\n",
       "53   1cd5dbe14479ed91d6e63a7591f843a1715ff070          0   blSX7M_n9RA   \n",
       "62   023a77c0bc231728c7b77d781e58fc64371ea96d          0   blSX7M_n9RA   \n",
       "113  084b4229299fd1f1ba2f75f80ca18bcd081b2feb          0   dAiMpAgmdSo   \n",
       "114  084b4229299fd1f1ba2f75f80ca18bcd081b2feb          0   dAiMpAgmdSo   \n",
       "146  0ffc89ef41122a147fe3d6edde10fed1e1fecd2f          0   -UbSxTkVjjU   \n",
       "\n",
       "              originChannelId  \n",
       "53   UCl_gCybOJRIgOXw6Qb4qJzQ  \n",
       "62   UCl_gCybOJRIgOXw6Qb4qJzQ  \n",
       "113  UC1DCedRgGHBdm81E1llLhOQ  \n",
       "114  UC1DCedRgGHBdm81E1llLhOQ  \n",
       "146  UC-hM6YJuNYVAmUWxeIr9FeA  "
      ]
     },
     "execution_count": 7,
     "metadata": {},
     "output_type": "execute_result"
    }
   ],
   "source": [
    "delet.head()"
   ]
  },
  {
   "cell_type": "code",
   "execution_count": 8,
   "metadata": {},
   "outputs": [],
   "source": [
    "# Merge banned data\n",
    "delet['delete'] = True\n",
    "chats = pd.merge(chats, delet[['id', 'delete']], how='left')\n",
    "chats['delete'].fillna(False, inplace=True)"
   ]
  },
  {
   "cell_type": "code",
   "execution_count": 9,
   "metadata": {},
   "outputs": [
    {
     "data": {
      "text/plain": [
       "Counter({False: 75713528, True: 13120})"
      ]
     },
     "execution_count": 9,
     "metadata": {},
     "output_type": "execute_result"
    }
   ],
   "source": [
    "from collections import Counter\n",
    "Counter(chats['delete'])"
   ]
  },
  {
   "cell_type": "code",
   "execution_count": 10,
   "metadata": {},
   "outputs": [
    {
     "data": {
      "text/html": [
       "<div>\n",
       "<style scoped>\n",
       "    .dataframe tbody tr th:only-of-type {\n",
       "        vertical-align: middle;\n",
       "    }\n",
       "\n",
       "    .dataframe tbody tr th {\n",
       "        vertical-align: top;\n",
       "    }\n",
       "\n",
       "    .dataframe thead th {\n",
       "        text-align: right;\n",
       "    }\n",
       "</style>\n",
       "<table border=\"1\" class=\"dataframe\">\n",
       "  <thead>\n",
       "    <tr style=\"text-align: right;\">\n",
       "      <th></th>\n",
       "      <th>timestamp</th>\n",
       "      <th>body</th>\n",
       "      <th>membership</th>\n",
       "      <th>isModerator</th>\n",
       "      <th>isVerified</th>\n",
       "      <th>id</th>\n",
       "      <th>channelId</th>\n",
       "      <th>originVideoId</th>\n",
       "      <th>originChannelId</th>\n",
       "      <th>delete</th>\n",
       "    </tr>\n",
       "  </thead>\n",
       "  <tbody>\n",
       "    <tr>\n",
       "      <th>0</th>\n",
       "      <td>2021-05-01T00:00:00.112000+00:00</td>\n",
       "      <td>そうじゃないｗ</td>\n",
       "      <td>1 year</td>\n",
       "      <td>0</td>\n",
       "      <td>0</td>\n",
       "      <td>66b9d029a3e93df01b2626a77a5230c71abe5890</td>\n",
       "      <td>606b88eef42cc40a9e055d9af6deaf5e76244c02</td>\n",
       "      <td>S8tYbUIoHM0</td>\n",
       "      <td>UCp-5t9SrOQwXMU7iIjQfARg</td>\n",
       "      <td>False</td>\n",
       "    </tr>\n",
       "    <tr>\n",
       "      <th>1</th>\n",
       "      <td>2021-05-01T00:00:00.141000+00:00</td>\n",
       "      <td>いーやバナナだね</td>\n",
       "      <td>2 months</td>\n",
       "      <td>0</td>\n",
       "      <td>0</td>\n",
       "      <td>63cc28b37c760c52156ad2ea8d3e4036a29b19d9</td>\n",
       "      <td>ed808b843c98965376208c6e7aeb12ee122aa9f1</td>\n",
       "      <td>TfRFrbFbE2k</td>\n",
       "      <td>UChUJbHiTVeGrSkTdBzVfNCQ</td>\n",
       "      <td>False</td>\n",
       "    </tr>\n",
       "    <tr>\n",
       "      <th>2</th>\n",
       "      <td>2021-05-01T00:00:00.153000+00:00</td>\n",
       "      <td>���</td>\n",
       "      <td>6 months</td>\n",
       "      <td>0</td>\n",
       "      <td>0</td>\n",
       "      <td>60485bda906da346c40671a687884c8c40a012d2</td>\n",
       "      <td>13fce698eba3f1b1617efa6715c618293183b178</td>\n",
       "      <td>S8tYbUIoHM0</td>\n",
       "      <td>UCp-5t9SrOQwXMU7iIjQfARg</td>\n",
       "      <td>False</td>\n",
       "    </tr>\n",
       "    <tr>\n",
       "      <th>3</th>\n",
       "      <td>2021-05-01T00:00:00.172000+00:00</td>\n",
       "      <td>大成功でしょ</td>\n",
       "      <td>non-member</td>\n",
       "      <td>0</td>\n",
       "      <td>0</td>\n",
       "      <td>ff9d8bee4c9608299f7c99a286efd19de1cef0ec</td>\n",
       "      <td>116707993d9886a42c32bc5a1a2b9db2e3524e50</td>\n",
       "      <td>S8tYbUIoHM0</td>\n",
       "      <td>UCp-5t9SrOQwXMU7iIjQfARg</td>\n",
       "      <td>False</td>\n",
       "    </tr>\n",
       "    <tr>\n",
       "      <th>4</th>\n",
       "      <td>2021-05-01T00:00:00.216000+00:00</td>\n",
       "      <td>大成功やろ！</td>\n",
       "      <td>non-member</td>\n",
       "      <td>0</td>\n",
       "      <td>0</td>\n",
       "      <td>b7b75f473487a932093e1852eafd2e7741c74e28</td>\n",
       "      <td>d8b410fab159d1c7c6aef425312d3d948c26ee8d</td>\n",
       "      <td>S8tYbUIoHM0</td>\n",
       "      <td>UCp-5t9SrOQwXMU7iIjQfARg</td>\n",
       "      <td>False</td>\n",
       "    </tr>\n",
       "    <tr>\n",
       "      <th>...</th>\n",
       "      <td>...</td>\n",
       "      <td>...</td>\n",
       "      <td>...</td>\n",
       "      <td>...</td>\n",
       "      <td>...</td>\n",
       "      <td>...</td>\n",
       "      <td>...</td>\n",
       "      <td>...</td>\n",
       "      <td>...</td>\n",
       "      <td>...</td>\n",
       "    </tr>\n",
       "    <tr>\n",
       "      <th>75726643</th>\n",
       "      <td>2021-05-31T23:59:59.679000+00:00</td>\n",
       "      <td>Early Shark!</td>\n",
       "      <td>6 months</td>\n",
       "      <td>0</td>\n",
       "      <td>0</td>\n",
       "      <td>c3fbee73ae9db20b7ddb6455c7bfeebfd3e21def</td>\n",
       "      <td>00dcc57ab797acf161a5dceddf359a41d979fc37</td>\n",
       "      <td>lNVQfuc6D4Y</td>\n",
       "      <td>UCoSrY_IQQVpmIRZ9Xf-y93g</td>\n",
       "      <td>False</td>\n",
       "    </tr>\n",
       "    <tr>\n",
       "      <th>75726644</th>\n",
       "      <td>2021-05-31T23:59:59.805000+00:00</td>\n",
       "      <td>\"you like jazz?\"</td>\n",
       "      <td>6 months</td>\n",
       "      <td>0</td>\n",
       "      <td>0</td>\n",
       "      <td>58efdd0a936bb8afc2e56fc0db4d7e227d614f5d</td>\n",
       "      <td>e323bdfe0c1e04bae4acb9dd7a4729af44a82f77</td>\n",
       "      <td>lNVQfuc6D4Y</td>\n",
       "      <td>UCoSrY_IQQVpmIRZ9Xf-y93g</td>\n",
       "      <td>False</td>\n",
       "    </tr>\n",
       "    <tr>\n",
       "      <th>75726645</th>\n",
       "      <td>2021-05-31T23:59:59.832000+00:00</td>\n",
       "      <td>���</td>\n",
       "      <td>6 months</td>\n",
       "      <td>0</td>\n",
       "      <td>0</td>\n",
       "      <td>34d9a82dff9d3b31e4089869ebb100adae561043</td>\n",
       "      <td>d633141e6d0cc0581c5b38d28e6f9de4737ddca4</td>\n",
       "      <td>lNVQfuc6D4Y</td>\n",
       "      <td>UCoSrY_IQQVpmIRZ9Xf-y93g</td>\n",
       "      <td>False</td>\n",
       "    </tr>\n",
       "    <tr>\n",
       "      <th>75726646</th>\n",
       "      <td>2021-05-31T23:59:59.872000+00:00</td>\n",
       "      <td>Hellooooo �</td>\n",
       "      <td>6 months</td>\n",
       "      <td>0</td>\n",
       "      <td>0</td>\n",
       "      <td>1c426edd1dbdeea09fbd716e4ba5e078ea794733</td>\n",
       "      <td>f6860156395b32a8da4d76a75884ce8f43f3e623</td>\n",
       "      <td>lNVQfuc6D4Y</td>\n",
       "      <td>UCoSrY_IQQVpmIRZ9Xf-y93g</td>\n",
       "      <td>False</td>\n",
       "    </tr>\n",
       "    <tr>\n",
       "      <th>75726647</th>\n",
       "      <td>2021-05-31T23:59:59.958000+00:00</td>\n",
       "      <td>Shark on a roomba</td>\n",
       "      <td>non-member</td>\n",
       "      <td>0</td>\n",
       "      <td>0</td>\n",
       "      <td>1e94f59092706474d81242eef86f9e90a1710836</td>\n",
       "      <td>f5fd09bca83446f95dcecd4046d9e02effd9ca69</td>\n",
       "      <td>lNVQfuc6D4Y</td>\n",
       "      <td>UCoSrY_IQQVpmIRZ9Xf-y93g</td>\n",
       "      <td>False</td>\n",
       "    </tr>\n",
       "  </tbody>\n",
       "</table>\n",
       "<p>75726648 rows × 10 columns</p>\n",
       "</div>"
      ],
      "text/plain": [
       "                                 timestamp                body  membership  \\\n",
       "0         2021-05-01T00:00:00.112000+00:00             そうじゃないｗ      1 year   \n",
       "1         2021-05-01T00:00:00.141000+00:00            いーやバナナだね    2 months   \n",
       "2         2021-05-01T00:00:00.153000+00:00                 ���    6 months   \n",
       "3         2021-05-01T00:00:00.172000+00:00              大成功でしょ  non-member   \n",
       "4         2021-05-01T00:00:00.216000+00:00              大成功やろ！  non-member   \n",
       "...                                    ...                 ...         ...   \n",
       "75726643  2021-05-31T23:59:59.679000+00:00        Early Shark!    6 months   \n",
       "75726644  2021-05-31T23:59:59.805000+00:00    \"you like jazz?\"    6 months   \n",
       "75726645  2021-05-31T23:59:59.832000+00:00                 ���    6 months   \n",
       "75726646  2021-05-31T23:59:59.872000+00:00         Hellooooo �    6 months   \n",
       "75726647  2021-05-31T23:59:59.958000+00:00  Shark on a roomba   non-member   \n",
       "\n",
       "          isModerator  isVerified                                        id  \\\n",
       "0                   0           0  66b9d029a3e93df01b2626a77a5230c71abe5890   \n",
       "1                   0           0  63cc28b37c760c52156ad2ea8d3e4036a29b19d9   \n",
       "2                   0           0  60485bda906da346c40671a687884c8c40a012d2   \n",
       "3                   0           0  ff9d8bee4c9608299f7c99a286efd19de1cef0ec   \n",
       "4                   0           0  b7b75f473487a932093e1852eafd2e7741c74e28   \n",
       "...               ...         ...                                       ...   \n",
       "75726643            0           0  c3fbee73ae9db20b7ddb6455c7bfeebfd3e21def   \n",
       "75726644            0           0  58efdd0a936bb8afc2e56fc0db4d7e227d614f5d   \n",
       "75726645            0           0  34d9a82dff9d3b31e4089869ebb100adae561043   \n",
       "75726646            0           0  1c426edd1dbdeea09fbd716e4ba5e078ea794733   \n",
       "75726647            0           0  1e94f59092706474d81242eef86f9e90a1710836   \n",
       "\n",
       "                                         channelId originVideoId  \\\n",
       "0         606b88eef42cc40a9e055d9af6deaf5e76244c02   S8tYbUIoHM0   \n",
       "1         ed808b843c98965376208c6e7aeb12ee122aa9f1   TfRFrbFbE2k   \n",
       "2         13fce698eba3f1b1617efa6715c618293183b178   S8tYbUIoHM0   \n",
       "3         116707993d9886a42c32bc5a1a2b9db2e3524e50   S8tYbUIoHM0   \n",
       "4         d8b410fab159d1c7c6aef425312d3d948c26ee8d   S8tYbUIoHM0   \n",
       "...                                            ...           ...   \n",
       "75726643  00dcc57ab797acf161a5dceddf359a41d979fc37   lNVQfuc6D4Y   \n",
       "75726644  e323bdfe0c1e04bae4acb9dd7a4729af44a82f77   lNVQfuc6D4Y   \n",
       "75726645  d633141e6d0cc0581c5b38d28e6f9de4737ddca4   lNVQfuc6D4Y   \n",
       "75726646  f6860156395b32a8da4d76a75884ce8f43f3e623   lNVQfuc6D4Y   \n",
       "75726647  f5fd09bca83446f95dcecd4046d9e02effd9ca69   lNVQfuc6D4Y   \n",
       "\n",
       "                   originChannelId  delete  \n",
       "0         UCp-5t9SrOQwXMU7iIjQfARg   False  \n",
       "1         UChUJbHiTVeGrSkTdBzVfNCQ   False  \n",
       "2         UCp-5t9SrOQwXMU7iIjQfARg   False  \n",
       "3         UCp-5t9SrOQwXMU7iIjQfARg   False  \n",
       "4         UCp-5t9SrOQwXMU7iIjQfARg   False  \n",
       "...                            ...     ...  \n",
       "75726643  UCoSrY_IQQVpmIRZ9Xf-y93g   False  \n",
       "75726644  UCoSrY_IQQVpmIRZ9Xf-y93g   False  \n",
       "75726645  UCoSrY_IQQVpmIRZ9Xf-y93g   False  \n",
       "75726646  UCoSrY_IQQVpmIRZ9Xf-y93g   False  \n",
       "75726647  UCoSrY_IQQVpmIRZ9Xf-y93g   False  \n",
       "\n",
       "[75726648 rows x 10 columns]"
      ]
     },
     "execution_count": 10,
     "metadata": {},
     "output_type": "execute_result"
    }
   ],
   "source": [
    "chats"
   ]
  },
  {
   "cell_type": "code",
   "execution_count": 11,
   "metadata": {},
   "outputs": [
    {
     "data": {
      "text/html": [
       "<div>\n",
       "<style scoped>\n",
       "    .dataframe tbody tr th:only-of-type {\n",
       "        vertical-align: middle;\n",
       "    }\n",
       "\n",
       "    .dataframe tbody tr th {\n",
       "        vertical-align: top;\n",
       "    }\n",
       "\n",
       "    .dataframe thead th {\n",
       "        text-align: right;\n",
       "    }\n",
       "</style>\n",
       "<table border=\"1\" class=\"dataframe\">\n",
       "  <thead>\n",
       "    <tr style=\"text-align: right;\">\n",
       "      <th></th>\n",
       "      <th>timestamp</th>\n",
       "      <th>body</th>\n",
       "      <th>membership</th>\n",
       "      <th>isModerator</th>\n",
       "      <th>isVerified</th>\n",
       "      <th>id</th>\n",
       "      <th>channelId</th>\n",
       "      <th>originVideoId</th>\n",
       "      <th>originChannelId</th>\n",
       "      <th>delete</th>\n",
       "    </tr>\n",
       "  </thead>\n",
       "  <tbody>\n",
       "    <tr>\n",
       "      <th>48932655</th>\n",
       "      <td>2021-05-20T16:54:57.350000+00:00</td>\n",
       "      <td>鋼の精神</td>\n",
       "      <td>1 year</td>\n",
       "      <td>0</td>\n",
       "      <td>0</td>\n",
       "      <td>49d6d7edb1a8cf7d76ad4a371f729d077efae064</td>\n",
       "      <td>9a96c4572b63c3623d2e90ec1437f50561e5ca18</td>\n",
       "      <td>d9Kzx2nYxcw</td>\n",
       "      <td>UCqm3BQLlJfvkTsX_hvm0UmA</td>\n",
       "      <td>False</td>\n",
       "    </tr>\n",
       "    <tr>\n",
       "      <th>19130452</th>\n",
       "      <td>2021-05-08T06:34:53.763000+00:00</td>\n",
       "      <td>団長スタイル</td>\n",
       "      <td>non-member</td>\n",
       "      <td>0</td>\n",
       "      <td>0</td>\n",
       "      <td>0ef62fbcf1dd6f9b2bd29c2a242096978b6acd60</td>\n",
       "      <td>f88a6b7c33bcfa892816042e6ad8ac01fcb17a6c</td>\n",
       "      <td>nrvuETc_vbw</td>\n",
       "      <td>UCdyqAaZDKHXg4Ahi7VENThQ</td>\n",
       "      <td>False</td>\n",
       "    </tr>\n",
       "    <tr>\n",
       "      <th>66102785</th>\n",
       "      <td>2021-05-27T16:05:33.909000+00:00</td>\n",
       "      <td>けっせい、な？</td>\n",
       "      <td>non-member</td>\n",
       "      <td>0</td>\n",
       "      <td>0</td>\n",
       "      <td>7d53abe70387de8afadb0b6b79525bee9c3f02f9</td>\n",
       "      <td>f4e660c48faae44d7dcd3b118beb73341eb958f2</td>\n",
       "      <td>i8Qp2UQnveM</td>\n",
       "      <td>UCvInZx9h3jC2JzsIzoOebWg</td>\n",
       "      <td>False</td>\n",
       "    </tr>\n",
       "    <tr>\n",
       "      <th>17972191</th>\n",
       "      <td>2021-05-07T16:22:12.394000+00:00</td>\n",
       "      <td>これはエリート３５ｐ</td>\n",
       "      <td>non-member</td>\n",
       "      <td>0</td>\n",
       "      <td>0</td>\n",
       "      <td>31c4c603d9345bdc3ebe6c254e47f4035e71182a</td>\n",
       "      <td>7883b4d9e56324c2da8fb34dada0ef0b39e0522a</td>\n",
       "      <td>fa7g_9UsX-E</td>\n",
       "      <td>UC-hM6YJuNYVAmUWxeIr9FeA</td>\n",
       "      <td>False</td>\n",
       "    </tr>\n",
       "    <tr>\n",
       "      <th>61265549</th>\n",
       "      <td>2021-05-25T14:00:55.399000+00:00</td>\n",
       "      <td>あ</td>\n",
       "      <td>non-member</td>\n",
       "      <td>0</td>\n",
       "      <td>0</td>\n",
       "      <td>c2120c8f38a75a73f2654394baa5c861fb2d8b56</td>\n",
       "      <td>dcebfe29f8e5432ab9aa6f8f2eb2e3fc54b4967d</td>\n",
       "      <td>vHSspT0yNlI</td>\n",
       "      <td>UCL_O_HXgLJx3Auteer0n0pA</td>\n",
       "      <td>False</td>\n",
       "    </tr>\n",
       "  </tbody>\n",
       "</table>\n",
       "</div>"
      ],
      "text/plain": [
       "                                 timestamp        body  membership  \\\n",
       "48932655  2021-05-20T16:54:57.350000+00:00        鋼の精神      1 year   \n",
       "19130452  2021-05-08T06:34:53.763000+00:00      団長スタイル  non-member   \n",
       "66102785  2021-05-27T16:05:33.909000+00:00     けっせい、な？  non-member   \n",
       "17972191  2021-05-07T16:22:12.394000+00:00  これはエリート３５ｐ  non-member   \n",
       "61265549  2021-05-25T14:00:55.399000+00:00           あ  non-member   \n",
       "\n",
       "          isModerator  isVerified                                        id  \\\n",
       "48932655            0           0  49d6d7edb1a8cf7d76ad4a371f729d077efae064   \n",
       "19130452            0           0  0ef62fbcf1dd6f9b2bd29c2a242096978b6acd60   \n",
       "66102785            0           0  7d53abe70387de8afadb0b6b79525bee9c3f02f9   \n",
       "17972191            0           0  31c4c603d9345bdc3ebe6c254e47f4035e71182a   \n",
       "61265549            0           0  c2120c8f38a75a73f2654394baa5c861fb2d8b56   \n",
       "\n",
       "                                         channelId originVideoId  \\\n",
       "48932655  9a96c4572b63c3623d2e90ec1437f50561e5ca18   d9Kzx2nYxcw   \n",
       "19130452  f88a6b7c33bcfa892816042e6ad8ac01fcb17a6c   nrvuETc_vbw   \n",
       "66102785  f4e660c48faae44d7dcd3b118beb73341eb958f2   i8Qp2UQnveM   \n",
       "17972191  7883b4d9e56324c2da8fb34dada0ef0b39e0522a   fa7g_9UsX-E   \n",
       "61265549  dcebfe29f8e5432ab9aa6f8f2eb2e3fc54b4967d   vHSspT0yNlI   \n",
       "\n",
       "                   originChannelId  delete  \n",
       "48932655  UCqm3BQLlJfvkTsX_hvm0UmA   False  \n",
       "19130452  UCdyqAaZDKHXg4Ahi7VENThQ   False  \n",
       "66102785  UCvInZx9h3jC2JzsIzoOebWg   False  \n",
       "17972191  UC-hM6YJuNYVAmUWxeIr9FeA   False  \n",
       "61265549  UCL_O_HXgLJx3Auteer0n0pA   False  "
      ]
     },
     "execution_count": 11,
     "metadata": {},
     "output_type": "execute_result"
    }
   ],
   "source": [
    "chats[chats['delete']==False].sample(5)"
   ]
  },
  {
   "cell_type": "code",
   "execution_count": 12,
   "metadata": {},
   "outputs": [
    {
     "data": {
      "text/html": [
       "<div>\n",
       "<style scoped>\n",
       "    .dataframe tbody tr th:only-of-type {\n",
       "        vertical-align: middle;\n",
       "    }\n",
       "\n",
       "    .dataframe tbody tr th {\n",
       "        vertical-align: top;\n",
       "    }\n",
       "\n",
       "    .dataframe thead th {\n",
       "        text-align: right;\n",
       "    }\n",
       "</style>\n",
       "<table border=\"1\" class=\"dataframe\">\n",
       "  <thead>\n",
       "    <tr style=\"text-align: right;\">\n",
       "      <th></th>\n",
       "      <th>timestamp</th>\n",
       "      <th>body</th>\n",
       "      <th>membership</th>\n",
       "      <th>isModerator</th>\n",
       "      <th>isVerified</th>\n",
       "      <th>id</th>\n",
       "      <th>channelId</th>\n",
       "      <th>originVideoId</th>\n",
       "      <th>originChannelId</th>\n",
       "      <th>delete</th>\n",
       "    </tr>\n",
       "  </thead>\n",
       "  <tbody>\n",
       "    <tr>\n",
       "      <th>24092710</th>\n",
       "      <td>2021-05-09T22:37:35.121000+00:00</td>\n",
       "      <td>Damn shrimps</td>\n",
       "      <td>non-member</td>\n",
       "      <td>0</td>\n",
       "      <td>0</td>\n",
       "      <td>f91a45dc66598570303cd40139a092d93ddc5c03</td>\n",
       "      <td>60b8f8ba5c1be187305156315b8e7d5920790bfb</td>\n",
       "      <td>mUJawV1I6Y8</td>\n",
       "      <td>UCyl1z3jo3XHR1riLFKG5UAg</td>\n",
       "      <td>True</td>\n",
       "    </tr>\n",
       "    <tr>\n",
       "      <th>3358408</th>\n",
       "      <td>2021-05-02T07:14:25.377000+00:00</td>\n",
       "      <td>tenshi please unprivate your song!!</td>\n",
       "      <td>non-member</td>\n",
       "      <td>0</td>\n",
       "      <td>0</td>\n",
       "      <td>9b79f6fbda0d8a83dc6c7fe34e1a04c46ce05b06</td>\n",
       "      <td>5775392fbec2092288a8fb12f7907ce01a968b3f</td>\n",
       "      <td>f1hYonTIXpk</td>\n",
       "      <td>UCdYR5Oyz8Q4g0ZmB4PkTD7g</td>\n",
       "      <td>True</td>\n",
       "    </tr>\n",
       "    <tr>\n",
       "      <th>60414838</th>\n",
       "      <td>2021-05-25T04:56:54.861000+00:00</td>\n",
       "      <td>LEWD</td>\n",
       "      <td>non-member</td>\n",
       "      <td>0</td>\n",
       "      <td>0</td>\n",
       "      <td>47bc6ec76b85892192061f5d84f4a5c87e72698f</td>\n",
       "      <td>d3001e9c7b84e56e1a46989a683188c326210de7</td>\n",
       "      <td>DrQQc4Z9BJ0</td>\n",
       "      <td>UCyl1z3jo3XHR1riLFKG5UAg</td>\n",
       "      <td>True</td>\n",
       "    </tr>\n",
       "    <tr>\n",
       "      <th>24262604</th>\n",
       "      <td>2021-05-10T01:54:46.393000+00:00</td>\n",
       "      <td>S U C C</td>\n",
       "      <td>non-member</td>\n",
       "      <td>0</td>\n",
       "      <td>0</td>\n",
       "      <td>54027a05b5bee3b8b0b5a07fe65575658a71b318</td>\n",
       "      <td>53d0fa032b7941c83906dfdadad8522da8d534e0</td>\n",
       "      <td>mUJawV1I6Y8</td>\n",
       "      <td>UCyl1z3jo3XHR1riLFKG5UAg</td>\n",
       "      <td>True</td>\n",
       "    </tr>\n",
       "    <tr>\n",
       "      <th>70535882</th>\n",
       "      <td>2021-05-29T22:30:57.240000+00:00</td>\n",
       "      <td>thicc</td>\n",
       "      <td>6 months</td>\n",
       "      <td>0</td>\n",
       "      <td>0</td>\n",
       "      <td>eecde52af1029d1b8f90992e1f4f5c763ec0fbe2</td>\n",
       "      <td>7e81e213e69268e4eaa3be154448a710432cadf8</td>\n",
       "      <td>VAgn-bhgXeM</td>\n",
       "      <td>UCyl1z3jo3XHR1riLFKG5UAg</td>\n",
       "      <td>True</td>\n",
       "    </tr>\n",
       "  </tbody>\n",
       "</table>\n",
       "</div>"
      ],
      "text/plain": [
       "                                 timestamp  \\\n",
       "24092710  2021-05-09T22:37:35.121000+00:00   \n",
       "3358408   2021-05-02T07:14:25.377000+00:00   \n",
       "60414838  2021-05-25T04:56:54.861000+00:00   \n",
       "24262604  2021-05-10T01:54:46.393000+00:00   \n",
       "70535882  2021-05-29T22:30:57.240000+00:00   \n",
       "\n",
       "                                         body  membership  isModerator  \\\n",
       "24092710                         Damn shrimps  non-member            0   \n",
       "3358408   tenshi please unprivate your song!!  non-member            0   \n",
       "60414838                                 LEWD  non-member            0   \n",
       "24262604                              S U C C  non-member            0   \n",
       "70535882                                thicc    6 months            0   \n",
       "\n",
       "          isVerified                                        id  \\\n",
       "24092710           0  f91a45dc66598570303cd40139a092d93ddc5c03   \n",
       "3358408            0  9b79f6fbda0d8a83dc6c7fe34e1a04c46ce05b06   \n",
       "60414838           0  47bc6ec76b85892192061f5d84f4a5c87e72698f   \n",
       "24262604           0  54027a05b5bee3b8b0b5a07fe65575658a71b318   \n",
       "70535882           0  eecde52af1029d1b8f90992e1f4f5c763ec0fbe2   \n",
       "\n",
       "                                         channelId originVideoId  \\\n",
       "24092710  60b8f8ba5c1be187305156315b8e7d5920790bfb   mUJawV1I6Y8   \n",
       "3358408   5775392fbec2092288a8fb12f7907ce01a968b3f   f1hYonTIXpk   \n",
       "60414838  d3001e9c7b84e56e1a46989a683188c326210de7   DrQQc4Z9BJ0   \n",
       "24262604  53d0fa032b7941c83906dfdadad8522da8d534e0   mUJawV1I6Y8   \n",
       "70535882  7e81e213e69268e4eaa3be154448a710432cadf8   VAgn-bhgXeM   \n",
       "\n",
       "                   originChannelId  delete  \n",
       "24092710  UCyl1z3jo3XHR1riLFKG5UAg    True  \n",
       "3358408   UCdYR5Oyz8Q4g0ZmB4PkTD7g    True  \n",
       "60414838  UCyl1z3jo3XHR1riLFKG5UAg    True  \n",
       "24262604  UCyl1z3jo3XHR1riLFKG5UAg    True  \n",
       "70535882  UCyl1z3jo3XHR1riLFKG5UAg    True  "
      ]
     },
     "execution_count": 12,
     "metadata": {},
     "output_type": "execute_result"
    }
   ],
   "source": [
    "chats[chats['delete']==True].sample(5)"
   ]
  },
  {
   "cell_type": "code",
   "execution_count": 13,
   "metadata": {},
   "outputs": [
    {
     "data": {
      "text/plain": [
       "timestamp          0\n",
       "body               0\n",
       "membership         0\n",
       "isModerator        0\n",
       "isVerified         0\n",
       "id                 0\n",
       "channelId          0\n",
       "originVideoId      0\n",
       "originChannelId    0\n",
       "delete             0\n",
       "dtype: int64"
      ]
     },
     "execution_count": 13,
     "metadata": {},
     "output_type": "execute_result"
    }
   ],
   "source": [
    "chats.isnull().sum()"
   ]
  },
  {
   "cell_type": "markdown",
   "metadata": {},
   "source": [
    "# Data Preprocessing and data exploration"
   ]
  },
  {
   "cell_type": "markdown",
   "metadata": {},
   "source": [
    "### Label"
   ]
  },
  {
   "cell_type": "code",
   "execution_count": 14,
   "metadata": {},
   "outputs": [
    {
     "data": {
      "text/plain": [
       "Counter({0: 75713528, 1: 13120})"
      ]
     },
     "execution_count": 14,
     "metadata": {},
     "output_type": "execute_result"
    }
   ],
   "source": [
    "# 轉化成 1 跟 0 的 label\n",
    "chats['label'] = chats['delete'].apply(lambda x: 1 if x == True else 0)\n",
    "Counter(chats['label'])"
   ]
  },
  {
   "cell_type": "markdown",
   "metadata": {},
   "source": [
    "### 看一下個月份delete data"
   ]
  },
  {
   "cell_type": "code",
   "execution_count": 15,
   "metadata": {},
   "outputs": [
    {
     "name": "stderr",
     "output_type": "stream",
     "text": [
      "/home/mmt/miniconda3/envs/test/lib/python3.9/site-packages/pandas/core/arrays/datetimes.py:1101: UserWarning: Converting to PeriodArray/Index representation will drop timezone information.\n",
      "  warnings.warn(\n"
     ]
    },
    {
     "data": {
      "text/plain": [
       "timestamp\n",
       "2021-02    27294\n",
       "2021-03    74348\n",
       "2021-04    34370\n",
       "2021-05    15366\n",
       "2021-06      201\n",
       "Freq: M, Name: timestamp, dtype: int64"
      ]
     },
     "execution_count": 15,
     "metadata": {},
     "output_type": "execute_result"
    }
   ],
   "source": [
    "delet['timestamp'] = pd.to_datetime(delet['timestamp'])\n",
    "delet['timestamp'].groupby(delet.timestamp.dt.to_period(\"M\")).agg('count')"
   ]
  },
  {
   "cell_type": "markdown",
   "metadata": {},
   "source": [
    "### Membership"
   ]
  },
  {
   "cell_type": "code",
   "execution_count": 16,
   "metadata": {},
   "outputs": [
    {
     "data": {
      "text/plain": [
       "Counter({'1 year': 6541987,\n",
       "         '2 months': 11227493,\n",
       "         '6 months': 12556213,\n",
       "         'non-member': 38108618,\n",
       "         '2 years': 1000641,\n",
       "         '1 month': 2877472,\n",
       "         'less than 1 month': 3414224})"
      ]
     },
     "execution_count": 16,
     "metadata": {},
     "output_type": "execute_result"
    }
   ],
   "source": [
    "Counter(chats['membership'])"
   ]
  },
  {
   "cell_type": "code",
   "execution_count": 17,
   "metadata": {},
   "outputs": [
    {
     "data": {
      "text/html": [
       "<div>\n",
       "<style scoped>\n",
       "    .dataframe tbody tr th:only-of-type {\n",
       "        vertical-align: middle;\n",
       "    }\n",
       "\n",
       "    .dataframe tbody tr th {\n",
       "        vertical-align: top;\n",
       "    }\n",
       "\n",
       "    .dataframe thead th {\n",
       "        text-align: right;\n",
       "    }\n",
       "</style>\n",
       "<table border=\"1\" class=\"dataframe\">\n",
       "  <thead>\n",
       "    <tr style=\"text-align: right;\">\n",
       "      <th></th>\n",
       "      <th>timestamp</th>\n",
       "      <th>body</th>\n",
       "      <th>membership</th>\n",
       "      <th>isModerator</th>\n",
       "      <th>isVerified</th>\n",
       "      <th>id</th>\n",
       "      <th>channelId</th>\n",
       "      <th>originVideoId</th>\n",
       "      <th>originChannelId</th>\n",
       "      <th>delete</th>\n",
       "      <th>label</th>\n",
       "    </tr>\n",
       "  </thead>\n",
       "  <tbody>\n",
       "    <tr>\n",
       "      <th>0</th>\n",
       "      <td>2021-05-01T00:00:00.112000+00:00</td>\n",
       "      <td>そうじゃないｗ</td>\n",
       "      <td>1</td>\n",
       "      <td>0</td>\n",
       "      <td>0</td>\n",
       "      <td>66b9d029a3e93df01b2626a77a5230c71abe5890</td>\n",
       "      <td>606b88eef42cc40a9e055d9af6deaf5e76244c02</td>\n",
       "      <td>S8tYbUIoHM0</td>\n",
       "      <td>UCp-5t9SrOQwXMU7iIjQfARg</td>\n",
       "      <td>False</td>\n",
       "      <td>0</td>\n",
       "    </tr>\n",
       "    <tr>\n",
       "      <th>1</th>\n",
       "      <td>2021-05-01T00:00:00.141000+00:00</td>\n",
       "      <td>いーやバナナだね</td>\n",
       "      <td>2</td>\n",
       "      <td>0</td>\n",
       "      <td>0</td>\n",
       "      <td>63cc28b37c760c52156ad2ea8d3e4036a29b19d9</td>\n",
       "      <td>ed808b843c98965376208c6e7aeb12ee122aa9f1</td>\n",
       "      <td>TfRFrbFbE2k</td>\n",
       "      <td>UChUJbHiTVeGrSkTdBzVfNCQ</td>\n",
       "      <td>False</td>\n",
       "      <td>0</td>\n",
       "    </tr>\n",
       "    <tr>\n",
       "      <th>2</th>\n",
       "      <td>2021-05-01T00:00:00.153000+00:00</td>\n",
       "      <td>���</td>\n",
       "      <td>4</td>\n",
       "      <td>0</td>\n",
       "      <td>0</td>\n",
       "      <td>60485bda906da346c40671a687884c8c40a012d2</td>\n",
       "      <td>13fce698eba3f1b1617efa6715c618293183b178</td>\n",
       "      <td>S8tYbUIoHM0</td>\n",
       "      <td>UCp-5t9SrOQwXMU7iIjQfARg</td>\n",
       "      <td>False</td>\n",
       "      <td>0</td>\n",
       "    </tr>\n",
       "    <tr>\n",
       "      <th>3</th>\n",
       "      <td>2021-05-01T00:00:00.172000+00:00</td>\n",
       "      <td>大成功でしょ</td>\n",
       "      <td>6</td>\n",
       "      <td>0</td>\n",
       "      <td>0</td>\n",
       "      <td>ff9d8bee4c9608299f7c99a286efd19de1cef0ec</td>\n",
       "      <td>116707993d9886a42c32bc5a1a2b9db2e3524e50</td>\n",
       "      <td>S8tYbUIoHM0</td>\n",
       "      <td>UCp-5t9SrOQwXMU7iIjQfARg</td>\n",
       "      <td>False</td>\n",
       "      <td>0</td>\n",
       "    </tr>\n",
       "    <tr>\n",
       "      <th>4</th>\n",
       "      <td>2021-05-01T00:00:00.216000+00:00</td>\n",
       "      <td>大成功やろ！</td>\n",
       "      <td>6</td>\n",
       "      <td>0</td>\n",
       "      <td>0</td>\n",
       "      <td>b7b75f473487a932093e1852eafd2e7741c74e28</td>\n",
       "      <td>d8b410fab159d1c7c6aef425312d3d948c26ee8d</td>\n",
       "      <td>S8tYbUIoHM0</td>\n",
       "      <td>UCp-5t9SrOQwXMU7iIjQfARg</td>\n",
       "      <td>False</td>\n",
       "      <td>0</td>\n",
       "    </tr>\n",
       "  </tbody>\n",
       "</table>\n",
       "</div>"
      ],
      "text/plain": [
       "                          timestamp      body  membership  isModerator  \\\n",
       "0  2021-05-01T00:00:00.112000+00:00   そうじゃないｗ           1            0   \n",
       "1  2021-05-01T00:00:00.141000+00:00  いーやバナナだね           2            0   \n",
       "2  2021-05-01T00:00:00.153000+00:00       ���           4            0   \n",
       "3  2021-05-01T00:00:00.172000+00:00    大成功でしょ           6            0   \n",
       "4  2021-05-01T00:00:00.216000+00:00    大成功やろ！           6            0   \n",
       "\n",
       "   isVerified                                        id  \\\n",
       "0           0  66b9d029a3e93df01b2626a77a5230c71abe5890   \n",
       "1           0  63cc28b37c760c52156ad2ea8d3e4036a29b19d9   \n",
       "2           0  60485bda906da346c40671a687884c8c40a012d2   \n",
       "3           0  ff9d8bee4c9608299f7c99a286efd19de1cef0ec   \n",
       "4           0  b7b75f473487a932093e1852eafd2e7741c74e28   \n",
       "\n",
       "                                  channelId originVideoId  \\\n",
       "0  606b88eef42cc40a9e055d9af6deaf5e76244c02   S8tYbUIoHM0   \n",
       "1  ed808b843c98965376208c6e7aeb12ee122aa9f1   TfRFrbFbE2k   \n",
       "2  13fce698eba3f1b1617efa6715c618293183b178   S8tYbUIoHM0   \n",
       "3  116707993d9886a42c32bc5a1a2b9db2e3524e50   S8tYbUIoHM0   \n",
       "4  d8b410fab159d1c7c6aef425312d3d948c26ee8d   S8tYbUIoHM0   \n",
       "\n",
       "            originChannelId  delete  label  \n",
       "0  UCp-5t9SrOQwXMU7iIjQfARg   False      0  \n",
       "1  UChUJbHiTVeGrSkTdBzVfNCQ   False      0  \n",
       "2  UCp-5t9SrOQwXMU7iIjQfARg   False      0  \n",
       "3  UCp-5t9SrOQwXMU7iIjQfARg   False      0  \n",
       "4  UCp-5t9SrOQwXMU7iIjQfARg   False      0  "
      ]
     },
     "execution_count": 17,
     "metadata": {},
     "output_type": "execute_result"
    }
   ],
   "source": [
    "labelencoder = LabelEncoder()\n",
    "chats[\"membership\"] = labelencoder.fit_transform(chats[\"membership\"])\n",
    "chats.head(5)"
   ]
  },
  {
   "cell_type": "markdown",
   "metadata": {},
   "source": [
    "### isModerator"
   ]
  },
  {
   "cell_type": "code",
   "execution_count": 18,
   "metadata": {},
   "outputs": [
    {
     "data": {
      "text/plain": [
       "Counter({0: 75587864, 1: 138784})"
      ]
     },
     "execution_count": 18,
     "metadata": {},
     "output_type": "execute_result"
    }
   ],
   "source": [
    "Counter(chats['isModerator'])"
   ]
  },
  {
   "cell_type": "code",
   "execution_count": 19,
   "metadata": {},
   "outputs": [
    {
     "name": "stdout",
     "output_type": "stream",
     "text": [
      "is Moderator, banned: 0, normal: 138784\n",
      "not Moderator, banned: 13120, normal: 75574744\n"
     ]
    }
   ],
   "source": [
    "import plotly.graph_objects as go\n",
    "labels=['True', 'False']\n",
    "a = [len(chats[(chats.label == 1) & (chats.isModerator == 1)]), len(chats[(chats.label == 1) & (chats.isModerator == 0)])]\n",
    "b = [len(chats[(chats.label == 0) & (chats.isModerator == 1)]), len(chats[(chats.label == 0) & (chats.isModerator == 0)])]\n",
    "print(f'is Moderator, banned: {a[0]}, normal: {b[0]}')\n",
    "print(f'not Moderator, banned: {a[1]}, normal: {b[1]}')\n",
    "\n",
    "# fig = go.Figure(data=[\n",
    "#     go.Bar(name='Banned', x=labels, y=a),\n",
    "#     go.Bar(name='Normal', x=labels, y=b)\n",
    "# ])\n",
    "\n",
    "# # Change the bar mode\n",
    "# fig.update_layout(barmode='group')\n",
    "# fig.update_layout(title_text='isModerator')\n",
    "# fig.show()"
   ]
  },
  {
   "cell_type": "markdown",
   "metadata": {},
   "source": [
    "### isVerified"
   ]
  },
  {
   "cell_type": "code",
   "execution_count": 20,
   "metadata": {},
   "outputs": [
    {
     "data": {
      "text/plain": [
       "Counter({0: 75706841, 1: 19807})"
      ]
     },
     "execution_count": 20,
     "metadata": {},
     "output_type": "execute_result"
    }
   ],
   "source": [
    "Counter(chats['isVerified'])"
   ]
  },
  {
   "cell_type": "code",
   "execution_count": 21,
   "metadata": {},
   "outputs": [
    {
     "name": "stdout",
     "output_type": "stream",
     "text": [
      "is Verified, banned: 10, normal: 19797\n",
      "not Verified, banned: 13110, normal: 75693731\n"
     ]
    }
   ],
   "source": [
    "import plotly.graph_objects as go\n",
    "labels=['True', 'False']\n",
    "a = [len(chats[(chats.label == 1) & (chats.isVerified == 1)]), len(chats[(chats.label == 1) & (chats.isVerified == 0)])]\n",
    "b = [len(chats[(chats.label == 0) & (chats.isVerified == 1)]), len(chats[(chats.label == 0) & (chats.isVerified == 0)])]\n",
    "print(f'is Verified, banned: {a[0]}, normal: {b[0]}')\n",
    "print(f'not Verified, banned: {a[1]}, normal: {b[1]}')\n",
    "\n",
    "# fig = go.Figure(data=[\n",
    "#     go.Bar(name='Banned', x=labels, y=a),\n",
    "#     go.Bar(name='Normal', x=labels, y=b)\n",
    "# ])\n",
    "\n",
    "# # Change the bar mode\n",
    "# fig.update_layout(barmode='group')\n",
    "# fig.update_layout(title_text='isVerified')\n",
    "# fig.show()"
   ]
  },
  {
   "cell_type": "markdown",
   "metadata": {},
   "source": [
    "### Corr"
   ]
  },
  {
   "cell_type": "code",
   "execution_count": 22,
   "metadata": {},
   "outputs": [],
   "source": [
    "# alpha = ['label', 'membership', 'isModerator', 'isVerified']\n",
    "# dataframe = chats[['label', 'membership', 'isModerator', 'isVerified']]\n",
    "\n",
    "# fig = plt.figure(figsize=(8,8))\n",
    "# ax = fig.add_subplot(111)\n",
    "# cax = ax.matshow(dataframe.corr(), interpolation='nearest')\n",
    "# fig.colorbar(cax)\n",
    "\n",
    "# ax.set_xticklabels(['']+alpha)\n",
    "# ax.set_yticklabels(['']+alpha)\n",
    "\n",
    "# plt.show()"
   ]
  },
  {
   "cell_type": "markdown",
   "metadata": {},
   "source": [
    "# Experiment"
   ]
  },
  {
   "cell_type": "markdown",
   "metadata": {},
   "source": [
    "## 0. Sample Data\n",
    "- Hyper parameter: sample_rate (normal / banned)"
   ]
  },
  {
   "cell_type": "code",
   "execution_count": 23,
   "metadata": {},
   "outputs": [
    {
     "name": "stdout",
     "output_type": "stream",
     "text": [
      "banned count: 13120\n",
      "sample normal count: 65600\n"
     ]
    }
   ],
   "source": [
    "sample_rate = 5\n",
    "banned_sample = chats[chats['delete']==True]\n",
    "print('banned count:', len(banned_sample))\n",
    "normal_sample = chats[chats['delete']==False].sample((sample_rate*len(banned_sample)))\n",
    "print('sample normal count:', len(normal_sample))"
   ]
  },
  {
   "cell_type": "code",
   "execution_count": 24,
   "metadata": {
    "scrolled": false
   },
   "outputs": [
    {
     "data": {
      "text/html": [
       "<div>\n",
       "<style scoped>\n",
       "    .dataframe tbody tr th:only-of-type {\n",
       "        vertical-align: middle;\n",
       "    }\n",
       "\n",
       "    .dataframe tbody tr th {\n",
       "        vertical-align: top;\n",
       "    }\n",
       "\n",
       "    .dataframe thead th {\n",
       "        text-align: right;\n",
       "    }\n",
       "</style>\n",
       "<table border=\"1\" class=\"dataframe\">\n",
       "  <thead>\n",
       "    <tr style=\"text-align: right;\">\n",
       "      <th></th>\n",
       "      <th>timestamp</th>\n",
       "      <th>body</th>\n",
       "      <th>membership</th>\n",
       "      <th>isModerator</th>\n",
       "      <th>isVerified</th>\n",
       "      <th>id</th>\n",
       "      <th>channelId</th>\n",
       "      <th>originVideoId</th>\n",
       "      <th>originChannelId</th>\n",
       "      <th>delete</th>\n",
       "      <th>label</th>\n",
       "    </tr>\n",
       "  </thead>\n",
       "  <tbody>\n",
       "    <tr>\n",
       "      <th>0</th>\n",
       "      <td>2021-05-29T23:57:07.747000+00:00</td>\n",
       "      <td>stealth is optional</td>\n",
       "      <td>6</td>\n",
       "      <td>0</td>\n",
       "      <td>0</td>\n",
       "      <td>600df8159cf358e645735d570bef7db0808a8fd5</td>\n",
       "      <td>e4af43263c121ee76225e1b5d43fd93412f9d48b</td>\n",
       "      <td>i6eUuy9XhRs</td>\n",
       "      <td>UCWImOidHDmm0KK20bkF-rSQ</td>\n",
       "      <td>False</td>\n",
       "      <td>0</td>\n",
       "    </tr>\n",
       "    <tr>\n",
       "      <th>1</th>\n",
       "      <td>2021-05-29T11:21:57.002000+00:00</td>\n",
       "      <td>❤❤❤❤❤❤</td>\n",
       "      <td>6</td>\n",
       "      <td>0</td>\n",
       "      <td>0</td>\n",
       "      <td>0a1bf73dc5166e6fc62c1833c6142f2d1e728e13</td>\n",
       "      <td>ca9b78ce6838090b0996535df72bf74be959da0b</td>\n",
       "      <td>R90QTRX35LE</td>\n",
       "      <td>UCpNu3ngL8XHyQ0-T5I8dB2g</td>\n",
       "      <td>False</td>\n",
       "      <td>0</td>\n",
       "    </tr>\n",
       "    <tr>\n",
       "      <th>2</th>\n",
       "      <td>2021-05-11T08:40:16.946000+00:00</td>\n",
       "      <td>��</td>\n",
       "      <td>3</td>\n",
       "      <td>0</td>\n",
       "      <td>0</td>\n",
       "      <td>d4d0b6ae0bad8b976b6c7ce4fc455f7030ed05eb</td>\n",
       "      <td>af84878d6e66162bb884126b7f26bc3d7be8657b</td>\n",
       "      <td>LRwBHd9EacM</td>\n",
       "      <td>UCDqI2jOz0weumE8s7paEk6g</td>\n",
       "      <td>False</td>\n",
       "      <td>0</td>\n",
       "    </tr>\n",
       "    <tr>\n",
       "      <th>3</th>\n",
       "      <td>2021-05-03T14:08:12.628000+00:00</td>\n",
       "      <td>71K �</td>\n",
       "      <td>4</td>\n",
       "      <td>0</td>\n",
       "      <td>0</td>\n",
       "      <td>e6148ab141b4c4f044e8b4a261490b6eb8672557</td>\n",
       "      <td>061096dd840020719cb4991d978a9341c54dfaac</td>\n",
       "      <td>i9H07Z-ZOOM</td>\n",
       "      <td>UCL_qhgtOy0dy1Agp8vkySQg</td>\n",
       "      <td>False</td>\n",
       "      <td>0</td>\n",
       "    </tr>\n",
       "    <tr>\n",
       "      <th>4</th>\n",
       "      <td>2021-05-21T03:59:06.136000+00:00</td>\n",
       "      <td>NEVER GONNA GIVE YOU UP</td>\n",
       "      <td>2</td>\n",
       "      <td>0</td>\n",
       "      <td>0</td>\n",
       "      <td>1369d2203db71b186e3ba89c580003b6d35f3487</td>\n",
       "      <td>002216fd680d93ef88768c01fcb20859f5b339f9</td>\n",
       "      <td>0YjRYNhPtXA</td>\n",
       "      <td>UCdYR5Oyz8Q4g0ZmB4PkTD7g</td>\n",
       "      <td>False</td>\n",
       "      <td>0</td>\n",
       "    </tr>\n",
       "    <tr>\n",
       "      <th>...</th>\n",
       "      <td>...</td>\n",
       "      <td>...</td>\n",
       "      <td>...</td>\n",
       "      <td>...</td>\n",
       "      <td>...</td>\n",
       "      <td>...</td>\n",
       "      <td>...</td>\n",
       "      <td>...</td>\n",
       "      <td>...</td>\n",
       "      <td>...</td>\n",
       "      <td>...</td>\n",
       "    </tr>\n",
       "    <tr>\n",
       "      <th>78715</th>\n",
       "      <td>2021-05-31T23:13:17.161000+00:00</td>\n",
       "      <td>You got me so bored my insomnia got cured fina...</td>\n",
       "      <td>6</td>\n",
       "      <td>0</td>\n",
       "      <td>0</td>\n",
       "      <td>ec8928aacc085a86b305ac493c03a7e2af541bf3</td>\n",
       "      <td>1af8d348ce055a1bfa883eda3520d20c4f174955</td>\n",
       "      <td>_2jtFfRfGA4</td>\n",
       "      <td>UCyl1z3jo3XHR1riLFKG5UAg</td>\n",
       "      <td>True</td>\n",
       "      <td>1</td>\n",
       "    </tr>\n",
       "    <tr>\n",
       "      <th>78716</th>\n",
       "      <td>2021-05-31T23:17:03.082000+00:00</td>\n",
       "      <td>ETERNAL IS MORE THAN BEING ABLE TO AIM AND SHOOT</td>\n",
       "      <td>6</td>\n",
       "      <td>0</td>\n",
       "      <td>0</td>\n",
       "      <td>885a772450171f9bc7c3929d1ad5f09896ba1924</td>\n",
       "      <td>4041027d4d5d50c44e15680e786ccd18dd1947f3</td>\n",
       "      <td>_2jtFfRfGA4</td>\n",
       "      <td>UCyl1z3jo3XHR1riLFKG5UAg</td>\n",
       "      <td>True</td>\n",
       "      <td>1</td>\n",
       "    </tr>\n",
       "    <tr>\n",
       "      <th>78717</th>\n",
       "      <td>2021-05-31T23:18:15.719000+00:00</td>\n",
       "      <td>eat me</td>\n",
       "      <td>6</td>\n",
       "      <td>0</td>\n",
       "      <td>0</td>\n",
       "      <td>07b6b100c711ab1a0008b69d3373940da43f3d11</td>\n",
       "      <td>92e2ca9746b0b4970704a6ec4a36aac01c84202c</td>\n",
       "      <td>nnwZu3fUEcw</td>\n",
       "      <td>UCw-jEa3_788VkvM2zHzrDnw</td>\n",
       "      <td>True</td>\n",
       "      <td>1</td>\n",
       "    </tr>\n",
       "    <tr>\n",
       "      <th>78718</th>\n",
       "      <td>2021-05-31T23:27:28.888000+00:00</td>\n",
       "      <td>codigo konami</td>\n",
       "      <td>6</td>\n",
       "      <td>0</td>\n",
       "      <td>0</td>\n",
       "      <td>5759b74e5beb20e6508c398ee01f48c371d1e2dd</td>\n",
       "      <td>e9d05788ca511f62603bef7edb260f30ac007de0</td>\n",
       "      <td>nnwZu3fUEcw</td>\n",
       "      <td>UCw-jEa3_788VkvM2zHzrDnw</td>\n",
       "      <td>True</td>\n",
       "      <td>1</td>\n",
       "    </tr>\n",
       "    <tr>\n",
       "      <th>78719</th>\n",
       "      <td>2021-05-31T23:56:28.121000+00:00</td>\n",
       "      <td>THE LONGER THE ICON OF SIN IS ON EARTH THE STR...</td>\n",
       "      <td>6</td>\n",
       "      <td>0</td>\n",
       "      <td>0</td>\n",
       "      <td>2042bf56c87031d21325b8785c37c8dcfb48c0d0</td>\n",
       "      <td>bd58573973c14660e67f7ccedb217119db177c71</td>\n",
       "      <td>_2jtFfRfGA4</td>\n",
       "      <td>UCyl1z3jo3XHR1riLFKG5UAg</td>\n",
       "      <td>True</td>\n",
       "      <td>1</td>\n",
       "    </tr>\n",
       "  </tbody>\n",
       "</table>\n",
       "<p>78720 rows × 11 columns</p>\n",
       "</div>"
      ],
      "text/plain": [
       "                              timestamp  \\\n",
       "0      2021-05-29T23:57:07.747000+00:00   \n",
       "1      2021-05-29T11:21:57.002000+00:00   \n",
       "2      2021-05-11T08:40:16.946000+00:00   \n",
       "3      2021-05-03T14:08:12.628000+00:00   \n",
       "4      2021-05-21T03:59:06.136000+00:00   \n",
       "...                                 ...   \n",
       "78715  2021-05-31T23:13:17.161000+00:00   \n",
       "78716  2021-05-31T23:17:03.082000+00:00   \n",
       "78717  2021-05-31T23:18:15.719000+00:00   \n",
       "78718  2021-05-31T23:27:28.888000+00:00   \n",
       "78719  2021-05-31T23:56:28.121000+00:00   \n",
       "\n",
       "                                                    body  membership  \\\n",
       "0                                    stealth is optional           6   \n",
       "1                                                 ❤❤❤❤❤❤           6   \n",
       "2                                                     ��           3   \n",
       "3                                                  71K �           4   \n",
       "4                                NEVER GONNA GIVE YOU UP           2   \n",
       "...                                                  ...         ...   \n",
       "78715  You got me so bored my insomnia got cured fina...           6   \n",
       "78716   ETERNAL IS MORE THAN BEING ABLE TO AIM AND SHOOT           6   \n",
       "78717                                             eat me           6   \n",
       "78718                                      codigo konami           6   \n",
       "78719  THE LONGER THE ICON OF SIN IS ON EARTH THE STR...           6   \n",
       "\n",
       "       isModerator  isVerified                                        id  \\\n",
       "0                0           0  600df8159cf358e645735d570bef7db0808a8fd5   \n",
       "1                0           0  0a1bf73dc5166e6fc62c1833c6142f2d1e728e13   \n",
       "2                0           0  d4d0b6ae0bad8b976b6c7ce4fc455f7030ed05eb   \n",
       "3                0           0  e6148ab141b4c4f044e8b4a261490b6eb8672557   \n",
       "4                0           0  1369d2203db71b186e3ba89c580003b6d35f3487   \n",
       "...            ...         ...                                       ...   \n",
       "78715            0           0  ec8928aacc085a86b305ac493c03a7e2af541bf3   \n",
       "78716            0           0  885a772450171f9bc7c3929d1ad5f09896ba1924   \n",
       "78717            0           0  07b6b100c711ab1a0008b69d3373940da43f3d11   \n",
       "78718            0           0  5759b74e5beb20e6508c398ee01f48c371d1e2dd   \n",
       "78719            0           0  2042bf56c87031d21325b8785c37c8dcfb48c0d0   \n",
       "\n",
       "                                      channelId originVideoId  \\\n",
       "0      e4af43263c121ee76225e1b5d43fd93412f9d48b   i6eUuy9XhRs   \n",
       "1      ca9b78ce6838090b0996535df72bf74be959da0b   R90QTRX35LE   \n",
       "2      af84878d6e66162bb884126b7f26bc3d7be8657b   LRwBHd9EacM   \n",
       "3      061096dd840020719cb4991d978a9341c54dfaac   i9H07Z-ZOOM   \n",
       "4      002216fd680d93ef88768c01fcb20859f5b339f9   0YjRYNhPtXA   \n",
       "...                                         ...           ...   \n",
       "78715  1af8d348ce055a1bfa883eda3520d20c4f174955   _2jtFfRfGA4   \n",
       "78716  4041027d4d5d50c44e15680e786ccd18dd1947f3   _2jtFfRfGA4   \n",
       "78717  92e2ca9746b0b4970704a6ec4a36aac01c84202c   nnwZu3fUEcw   \n",
       "78718  e9d05788ca511f62603bef7edb260f30ac007de0   nnwZu3fUEcw   \n",
       "78719  bd58573973c14660e67f7ccedb217119db177c71   _2jtFfRfGA4   \n",
       "\n",
       "                originChannelId  delete  label  \n",
       "0      UCWImOidHDmm0KK20bkF-rSQ   False      0  \n",
       "1      UCpNu3ngL8XHyQ0-T5I8dB2g   False      0  \n",
       "2      UCDqI2jOz0weumE8s7paEk6g   False      0  \n",
       "3      UCL_qhgtOy0dy1Agp8vkySQg   False      0  \n",
       "4      UCdYR5Oyz8Q4g0ZmB4PkTD7g   False      0  \n",
       "...                         ...     ...    ...  \n",
       "78715  UCyl1z3jo3XHR1riLFKG5UAg    True      1  \n",
       "78716  UCyl1z3jo3XHR1riLFKG5UAg    True      1  \n",
       "78717  UCw-jEa3_788VkvM2zHzrDnw    True      1  \n",
       "78718  UCw-jEa3_788VkvM2zHzrDnw    True      1  \n",
       "78719  UCyl1z3jo3XHR1riLFKG5UAg    True      1  \n",
       "\n",
       "[78720 rows x 11 columns]"
      ]
     },
     "execution_count": 24,
     "metadata": {},
     "output_type": "execute_result"
    }
   ],
   "source": [
    "sample_chats = normal_sample.append(banned_sample, ignore_index=True)\n",
    "sample_chats"
   ]
  },
  {
   "cell_type": "markdown",
   "metadata": {},
   "source": [
    "# Tuning"
   ]
  },
  {
   "cell_type": "code",
   "execution_count": 32,
   "metadata": {},
   "outputs": [],
   "source": [
    "def set_seed(seed):\n",
    "    torch.manual_seed(seed)\n",
    "    torch.cuda.manual_seed_all(seed)\n",
    "    torch.backends.cudnn.deterministic = True\n",
    "    torch.backends.cudnn.benchmark = False\n",
    "    np.random.seed(seed)\n",
    "    os.environ['PYTHONHASHSEED'] = str(seed)"
   ]
  },
  {
   "cell_type": "code",
   "execution_count": 33,
   "metadata": {},
   "outputs": [],
   "source": [
    "model_count = 0\n",
    "output_df = pd.DataFrame(columns = ['batch size', 'step', 'lr', 'grad_norm', 'optimizer', 'Accurcay', 'Precision', 'Recall', 'Auroc', 'F1 score'])\n",
    "set_seed(0)"
   ]
  },
  {
   "cell_type": "markdown",
   "metadata": {},
   "source": [
    "### 測試 learning rate"
   ]
  },
  {
   "cell_type": "code",
   "execution_count": 34,
   "metadata": {},
   "outputs": [],
   "source": [
    "lr_result = []\n",
    "lr_list = [4e-5, 2e-5, 3e-5, 5e-5]"
   ]
  },
  {
   "cell_type": "code",
   "execution_count": 36,
   "metadata": {},
   "outputs": [
    {
     "name": "stdout",
     "output_type": "stream",
     "text": [
      "banned count: 13120\n",
      "sample normal count: 65600\n",
      "Number of train data:  56678\n",
      "Number of validation data:  6298\n",
      "Number of test data:  15744\n"
     ]
    },
    {
     "name": "stderr",
     "output_type": "stream",
     "text": [
      "Some weights of the model checkpoint at roberta-base were not used when initializing RobertaForSequenceClassification: ['lm_head.bias', 'lm_head.dense.weight', 'lm_head.dense.bias', 'lm_head.layer_norm.weight', 'lm_head.layer_norm.bias', 'lm_head.decoder.weight']\n",
      "- This IS expected if you are initializing RobertaForSequenceClassification from the checkpoint of a model trained on another task or with another architecture (e.g. initializing a BertForSequenceClassification model from a BertForPreTraining model).\n",
      "- This IS NOT expected if you are initializing RobertaForSequenceClassification from the checkpoint of a model that you expect to be exactly identical (initializing a BertForSequenceClassification model from a BertForSequenceClassification model).\n",
      "Some weights of RobertaForSequenceClassification were not initialized from the model checkpoint at roberta-base and are newly initialized: ['classifier.dense.weight', 'classifier.dense.bias', 'classifier.out_proj.weight', 'classifier.out_proj.bias']\n",
      "You should probably TRAIN this model on a down-stream task to be able to use it for predictions and inference.\n"
     ]
    },
    {
     "data": {
      "application/vnd.jupyter.widget-view+json": {
       "model_id": "016c854fc083462c85d4fa19da840c16",
       "version_major": 2,
       "version_minor": 0
      },
      "text/plain": [
       "HBox(children=(FloatProgress(value=0.0, description='Epoch', max=3.0, style=ProgressStyle(description_width='i…"
      ]
     },
     "metadata": {},
     "output_type": "display_data"
    },
    {
     "data": {
      "application/vnd.jupyter.widget-view+json": {
       "model_id": "5e475cc1a583441d931bc3dbdb7eb39c",
       "version_major": 2,
       "version_minor": 0
      },
      "text/plain": [
       "HBox(children=(FloatProgress(value=0.0, description='Running Epoch 0 of 3', max=1772.0, style=ProgressStyle(de…"
      ]
     },
     "metadata": {},
     "output_type": "display_data"
    },
    {
     "name": "stdout",
     "output_type": "stream",
     "text": [
      "\n"
     ]
    },
    {
     "data": {
      "application/vnd.jupyter.widget-view+json": {
       "model_id": "eea7bc116f4e471e804b6a2ed879c786",
       "version_major": 2,
       "version_minor": 0
      },
      "text/plain": [
       "HBox(children=(FloatProgress(value=0.0, description='Running Epoch 1 of 3', max=1772.0, style=ProgressStyle(de…"
      ]
     },
     "metadata": {},
     "output_type": "display_data"
    },
    {
     "name": "stdout",
     "output_type": "stream",
     "text": [
      "\n"
     ]
    },
    {
     "data": {
      "application/vnd.jupyter.widget-view+json": {
       "model_id": "971e8bcc9f71453084ba1972e3c613a1",
       "version_major": 2,
       "version_minor": 0
      },
      "text/plain": [
       "HBox(children=(FloatProgress(value=0.0, description='Running Epoch 2 of 3', max=1772.0, style=ProgressStyle(de…"
      ]
     },
     "metadata": {},
     "output_type": "display_data"
    },
    {
     "name": "stdout",
     "output_type": "stream",
     "text": [
      "\n",
      "\n"
     ]
    },
    {
     "data": {
      "application/vnd.jupyter.widget-view+json": {
       "model_id": "c8afce64af0f4f9c9fad66ecf78d6169",
       "version_major": 2,
       "version_minor": 0
      },
      "text/plain": [
       "HBox(children=(FloatProgress(value=0.0, max=15744.0), HTML(value='')))"
      ]
     },
     "metadata": {},
     "output_type": "display_data"
    },
    {
     "name": "stdout",
     "output_type": "stream",
     "text": [
      "\n"
     ]
    },
    {
     "data": {
      "application/vnd.jupyter.widget-view+json": {
       "model_id": "76e0b3a852394d6691af640ff64d909a",
       "version_major": 2,
       "version_minor": 0
      },
      "text/plain": [
       "HBox(children=(FloatProgress(value=0.0, description='Running Evaluation', max=492.0, style=ProgressStyle(descr…"
      ]
     },
     "metadata": {},
     "output_type": "display_data"
    },
    {
     "name": "stdout",
     "output_type": "stream",
     "text": [
      "\n",
      "{'mcc': 0.739138004248938, 'tp': 1914, 'tn': 12741, 'fp': 414, 'fn': 675, 'auroc': 0.945003192320696, 'auprc': 0.8448763075437244, 'eval_loss': 0.22632056117300095}\n",
      "Accuracy:  0.9308307926829268\n",
      "F1 score:  0.7785234899328859\n",
      "------------------------------------------------------------\n",
      "banned count: 13120\n",
      "sample normal count: 65600\n",
      "Number of train data:  56678\n",
      "Number of validation data:  6298\n",
      "Number of test data:  15744\n"
     ]
    },
    {
     "name": "stderr",
     "output_type": "stream",
     "text": [
      "Some weights of the model checkpoint at roberta-base were not used when initializing RobertaForSequenceClassification: ['lm_head.bias', 'lm_head.dense.weight', 'lm_head.dense.bias', 'lm_head.layer_norm.weight', 'lm_head.layer_norm.bias', 'lm_head.decoder.weight']\n",
      "- This IS expected if you are initializing RobertaForSequenceClassification from the checkpoint of a model trained on another task or with another architecture (e.g. initializing a BertForSequenceClassification model from a BertForPreTraining model).\n",
      "- This IS NOT expected if you are initializing RobertaForSequenceClassification from the checkpoint of a model that you expect to be exactly identical (initializing a BertForSequenceClassification model from a BertForSequenceClassification model).\n",
      "Some weights of RobertaForSequenceClassification were not initialized from the model checkpoint at roberta-base and are newly initialized: ['classifier.dense.weight', 'classifier.dense.bias', 'classifier.out_proj.weight', 'classifier.out_proj.bias']\n",
      "You should probably TRAIN this model on a down-stream task to be able to use it for predictions and inference.\n"
     ]
    },
    {
     "data": {
      "application/vnd.jupyter.widget-view+json": {
       "model_id": "6ebf94275921484cb2d13fe98cfd791e",
       "version_major": 2,
       "version_minor": 0
      },
      "text/plain": [
       "HBox(children=(FloatProgress(value=0.0, description='Epoch', max=3.0, style=ProgressStyle(description_width='i…"
      ]
     },
     "metadata": {},
     "output_type": "display_data"
    },
    {
     "data": {
      "application/vnd.jupyter.widget-view+json": {
       "model_id": "d10461bf58fe41bdbec30041883fe309",
       "version_major": 2,
       "version_minor": 0
      },
      "text/plain": [
       "HBox(children=(FloatProgress(value=0.0, description='Running Epoch 0 of 3', max=1772.0, style=ProgressStyle(de…"
      ]
     },
     "metadata": {},
     "output_type": "display_data"
    },
    {
     "name": "stdout",
     "output_type": "stream",
     "text": [
      "\n"
     ]
    },
    {
     "data": {
      "application/vnd.jupyter.widget-view+json": {
       "model_id": "5e7a32e79778420c83b7994ee3be7046",
       "version_major": 2,
       "version_minor": 0
      },
      "text/plain": [
       "HBox(children=(FloatProgress(value=0.0, description='Running Epoch 1 of 3', max=1772.0, style=ProgressStyle(de…"
      ]
     },
     "metadata": {},
     "output_type": "display_data"
    },
    {
     "name": "stdout",
     "output_type": "stream",
     "text": [
      "\n"
     ]
    },
    {
     "data": {
      "application/vnd.jupyter.widget-view+json": {
       "model_id": "41a82a2fafaf4fe884144dc204340fe4",
       "version_major": 2,
       "version_minor": 0
      },
      "text/plain": [
       "HBox(children=(FloatProgress(value=0.0, description='Running Epoch 2 of 3', max=1772.0, style=ProgressStyle(de…"
      ]
     },
     "metadata": {},
     "output_type": "display_data"
    },
    {
     "name": "stdout",
     "output_type": "stream",
     "text": [
      "\n",
      "\n"
     ]
    },
    {
     "data": {
      "application/vnd.jupyter.widget-view+json": {
       "model_id": "ac00c32d7db9478c83c6fc242fd5a79d",
       "version_major": 2,
       "version_minor": 0
      },
      "text/plain": [
       "HBox(children=(FloatProgress(value=0.0, max=15744.0), HTML(value='')))"
      ]
     },
     "metadata": {},
     "output_type": "display_data"
    },
    {
     "name": "stdout",
     "output_type": "stream",
     "text": [
      "\n"
     ]
    },
    {
     "data": {
      "application/vnd.jupyter.widget-view+json": {
       "model_id": "5df2270bcc834e8bbc82f9362bae8f00",
       "version_major": 2,
       "version_minor": 0
      },
      "text/plain": [
       "HBox(children=(FloatProgress(value=0.0, description='Running Evaluation', max=492.0, style=ProgressStyle(descr…"
      ]
     },
     "metadata": {},
     "output_type": "display_data"
    },
    {
     "name": "stdout",
     "output_type": "stream",
     "text": [
      "\n",
      "{'mcc': 0.7433918842891463, 'tp': 1925, 'tn': 12747, 'fp': 408, 'fn': 664, 'auroc': 0.9473194709247776, 'auprc': 0.8512180775500278, 'eval_loss': 0.21170345575707714}\n",
      "Accuracy:  0.931910569105691\n",
      "F1 score:  0.7822023567655425\n",
      "------------------------------------------------------------\n",
      "banned count: 13120\n",
      "sample normal count: 65600\n",
      "Number of train data:  56678\n",
      "Number of validation data:  6298\n",
      "Number of test data:  15744\n"
     ]
    },
    {
     "name": "stderr",
     "output_type": "stream",
     "text": [
      "Some weights of the model checkpoint at roberta-base were not used when initializing RobertaForSequenceClassification: ['lm_head.bias', 'lm_head.dense.weight', 'lm_head.dense.bias', 'lm_head.layer_norm.weight', 'lm_head.layer_norm.bias', 'lm_head.decoder.weight']\n",
      "- This IS expected if you are initializing RobertaForSequenceClassification from the checkpoint of a model trained on another task or with another architecture (e.g. initializing a BertForSequenceClassification model from a BertForPreTraining model).\n",
      "- This IS NOT expected if you are initializing RobertaForSequenceClassification from the checkpoint of a model that you expect to be exactly identical (initializing a BertForSequenceClassification model from a BertForSequenceClassification model).\n",
      "Some weights of RobertaForSequenceClassification were not initialized from the model checkpoint at roberta-base and are newly initialized: ['classifier.dense.weight', 'classifier.dense.bias', 'classifier.out_proj.weight', 'classifier.out_proj.bias']\n",
      "You should probably TRAIN this model on a down-stream task to be able to use it for predictions and inference.\n"
     ]
    },
    {
     "data": {
      "application/vnd.jupyter.widget-view+json": {
       "model_id": "0e599da2020a4bcb90b6c7a734ffbf05",
       "version_major": 2,
       "version_minor": 0
      },
      "text/plain": [
       "HBox(children=(FloatProgress(value=0.0, description='Epoch', max=3.0, style=ProgressStyle(description_width='i…"
      ]
     },
     "metadata": {},
     "output_type": "display_data"
    },
    {
     "data": {
      "application/vnd.jupyter.widget-view+json": {
       "model_id": "a02aadebebf84922b0d14d9160ba86f0",
       "version_major": 2,
       "version_minor": 0
      },
      "text/plain": [
       "HBox(children=(FloatProgress(value=0.0, description='Running Epoch 0 of 3', max=1772.0, style=ProgressStyle(de…"
      ]
     },
     "metadata": {},
     "output_type": "display_data"
    },
    {
     "name": "stdout",
     "output_type": "stream",
     "text": [
      "\n"
     ]
    },
    {
     "data": {
      "application/vnd.jupyter.widget-view+json": {
       "model_id": "f846dc9e164f4c20b20b8282bed6b52b",
       "version_major": 2,
       "version_minor": 0
      },
      "text/plain": [
       "HBox(children=(FloatProgress(value=0.0, description='Running Epoch 1 of 3', max=1772.0, style=ProgressStyle(de…"
      ]
     },
     "metadata": {},
     "output_type": "display_data"
    },
    {
     "name": "stdout",
     "output_type": "stream",
     "text": [
      "\n"
     ]
    },
    {
     "data": {
      "application/vnd.jupyter.widget-view+json": {
       "model_id": "c6df55ca201d47a89e0e0692ca250ac5",
       "version_major": 2,
       "version_minor": 0
      },
      "text/plain": [
       "HBox(children=(FloatProgress(value=0.0, description='Running Epoch 2 of 3', max=1772.0, style=ProgressStyle(de…"
      ]
     },
     "metadata": {},
     "output_type": "display_data"
    },
    {
     "name": "stdout",
     "output_type": "stream",
     "text": [
      "\n",
      "\n"
     ]
    },
    {
     "data": {
      "application/vnd.jupyter.widget-view+json": {
       "model_id": "a7227af148ed4e04bd485a6891d09242",
       "version_major": 2,
       "version_minor": 0
      },
      "text/plain": [
       "HBox(children=(FloatProgress(value=0.0, max=15744.0), HTML(value='')))"
      ]
     },
     "metadata": {},
     "output_type": "display_data"
    },
    {
     "name": "stdout",
     "output_type": "stream",
     "text": [
      "\n"
     ]
    },
    {
     "data": {
      "application/vnd.jupyter.widget-view+json": {
       "model_id": "3edcaee830dd49a187d9152b678bb40d",
       "version_major": 2,
       "version_minor": 0
      },
      "text/plain": [
       "HBox(children=(FloatProgress(value=0.0, description='Running Evaluation', max=492.0, style=ProgressStyle(descr…"
      ]
     },
     "metadata": {},
     "output_type": "display_data"
    },
    {
     "name": "stdout",
     "output_type": "stream",
     "text": [
      "\n",
      "{'mcc': 0.7415981174198665, 'tp': 1898, 'tn': 12773, 'fp': 382, 'fn': 691, 'auroc': 0.9452794245865802, 'auprc': 0.8483353926915936, 'eval_loss': 0.21759718121975902}\n",
      "Accuracy:  0.9318470528455285\n",
      "F1 score:  0.7796262066132675\n",
      "------------------------------------------------------------\n",
      "banned count: 13120\n",
      "sample normal count: 65600\n",
      "Number of train data:  56678\n",
      "Number of validation data:  6298\n",
      "Number of test data:  15744\n"
     ]
    },
    {
     "name": "stderr",
     "output_type": "stream",
     "text": [
      "Some weights of the model checkpoint at roberta-base were not used when initializing RobertaForSequenceClassification: ['lm_head.bias', 'lm_head.dense.weight', 'lm_head.dense.bias', 'lm_head.layer_norm.weight', 'lm_head.layer_norm.bias', 'lm_head.decoder.weight']\n",
      "- This IS expected if you are initializing RobertaForSequenceClassification from the checkpoint of a model trained on another task or with another architecture (e.g. initializing a BertForSequenceClassification model from a BertForPreTraining model).\n",
      "- This IS NOT expected if you are initializing RobertaForSequenceClassification from the checkpoint of a model that you expect to be exactly identical (initializing a BertForSequenceClassification model from a BertForSequenceClassification model).\n",
      "Some weights of RobertaForSequenceClassification were not initialized from the model checkpoint at roberta-base and are newly initialized: ['classifier.dense.weight', 'classifier.dense.bias', 'classifier.out_proj.weight', 'classifier.out_proj.bias']\n",
      "You should probably TRAIN this model on a down-stream task to be able to use it for predictions and inference.\n"
     ]
    },
    {
     "data": {
      "application/vnd.jupyter.widget-view+json": {
       "model_id": "2967e61779d546dc91ca4578071246a1",
       "version_major": 2,
       "version_minor": 0
      },
      "text/plain": [
       "HBox(children=(FloatProgress(value=0.0, description='Epoch', max=3.0, style=ProgressStyle(description_width='i…"
      ]
     },
     "metadata": {},
     "output_type": "display_data"
    },
    {
     "data": {
      "application/vnd.jupyter.widget-view+json": {
       "model_id": "d9773a7444cb4449a98e235e6b05dd50",
       "version_major": 2,
       "version_minor": 0
      },
      "text/plain": [
       "HBox(children=(FloatProgress(value=0.0, description='Running Epoch 0 of 3', max=1772.0, style=ProgressStyle(de…"
      ]
     },
     "metadata": {},
     "output_type": "display_data"
    },
    {
     "name": "stdout",
     "output_type": "stream",
     "text": [
      "\n"
     ]
    },
    {
     "data": {
      "application/vnd.jupyter.widget-view+json": {
       "model_id": "2009186e579d454996c0e2bf08873cb2",
       "version_major": 2,
       "version_minor": 0
      },
      "text/plain": [
       "HBox(children=(FloatProgress(value=0.0, description='Running Epoch 1 of 3', max=1772.0, style=ProgressStyle(de…"
      ]
     },
     "metadata": {},
     "output_type": "display_data"
    },
    {
     "name": "stdout",
     "output_type": "stream",
     "text": [
      "\n"
     ]
    },
    {
     "data": {
      "application/vnd.jupyter.widget-view+json": {
       "model_id": "5be9ce44840346d582682cfa42754775",
       "version_major": 2,
       "version_minor": 0
      },
      "text/plain": [
       "HBox(children=(FloatProgress(value=0.0, description='Running Epoch 2 of 3', max=1772.0, style=ProgressStyle(de…"
      ]
     },
     "metadata": {},
     "output_type": "display_data"
    },
    {
     "name": "stdout",
     "output_type": "stream",
     "text": [
      "\n",
      "\n"
     ]
    },
    {
     "data": {
      "application/vnd.jupyter.widget-view+json": {
       "model_id": "0f2c489be68c4c9aa5636fcbce754d80",
       "version_major": 2,
       "version_minor": 0
      },
      "text/plain": [
       "HBox(children=(FloatProgress(value=0.0, max=15744.0), HTML(value='')))"
      ]
     },
     "metadata": {},
     "output_type": "display_data"
    },
    {
     "name": "stdout",
     "output_type": "stream",
     "text": [
      "\n"
     ]
    },
    {
     "data": {
      "application/vnd.jupyter.widget-view+json": {
       "model_id": "f5a900512fb0444fbb571cf4329e88d5",
       "version_major": 2,
       "version_minor": 0
      },
      "text/plain": [
       "HBox(children=(FloatProgress(value=0.0, description='Running Evaluation', max=492.0, style=ProgressStyle(descr…"
      ]
     },
     "metadata": {},
     "output_type": "display_data"
    },
    {
     "name": "stdout",
     "output_type": "stream",
     "text": [
      "\n",
      "{'mcc': 0.7416115256971604, 'tp': 1861, 'tn': 12819, 'fp': 336, 'fn': 728, 'auroc': 0.9424098740116028, 'auprc': 0.8457894429137015, 'eval_loss': 0.22556846606643582}\n",
      "Accuracy:  0.9324186991869918\n",
      "F1 score:  0.7776849143334728\n",
      "------------------------------------------------------------\n"
     ]
    }
   ],
   "source": [
    "for lr in lr_list:\n",
    "    banned_sample = chats[chats['delete']==True]\n",
    "    print('banned count:', len(banned_sample))\n",
    "    normal_sample = chats[chats['delete']==False].sample((5*len(banned_sample)),random_state=1)\n",
    "    print('sample normal count:', len(normal_sample))\n",
    "    sample_chats = normal_sample.append(banned_sample, ignore_index=True)\n",
    "\n",
    "    from sklearn.model_selection import train_test_split\n",
    "    X_train, X_test, y_train, y_test = train_test_split(sample_chats['body'], sample_chats['label'], test_size=0.2, random_state=42)\n",
    "    X_train, X_valid, y_train, y_valid = train_test_split(X_train, y_train, test_size=0.1, random_state=42)\n",
    "\n",
    "    print(\"Number of train data: \", len(X_train))\n",
    "    print(\"Number of validation data: \", len(X_valid))\n",
    "    print(\"Number of test data: \", len(X_test))\n",
    "    train_df = pd.concat([X_train, y_train], axis=1)\n",
    "    train_df.columns = [\"text\", \"labels\"]\n",
    "    valid_df = pd.concat([X_valid, y_valid], axis=1)\n",
    "    valid_df.columns = [\"text\", \"labels\"]\n",
    "    test_df = pd.concat([X_test, y_test], axis=1)\n",
    "    test_df.columns = [\"text\", \"labels\"]\n",
    "    train_df.head()\n",
    "\n",
    "\n",
    "    from simpletransformers.classification import ClassificationModel\n",
    "    output_name = \"outputs/outputs_model_lr_\"+str(lr)+\"/\"\n",
    "    train_args = {\n",
    "        \"output_dir\": output_name,\n",
    "        \"cache_dir\": \"cache/\",\n",
    "        \"overwrite_output_dir\": True,\n",
    "\n",
    "        \"fp16\": False,\n",
    "        \"fp16_opt_level\": \"O1\",\n",
    "        \"max_seq_length\": 200,\n",
    "        \"train_batch_size\": 32,\n",
    "        \"eval_batch_size\": 32,\n",
    "        \"gradient_accumulation_steps\": 1,\n",
    "        \"num_train_epochs\": 3,\n",
    "        \"weight_decay\": 0,\n",
    "        \"learning_rate\": lr,\n",
    "        \"adam_epsilon\": 1e-8,\n",
    "        \"warmup_ratio\": 0.06,\n",
    "        \"warmup_steps\": 0,\n",
    "        \"max_grad_norm\": 1.0,\n",
    "        \"optimizer\": \"AdamW\",\n",
    "        \"do_lower_case\": False,\n",
    "        \"save_model_every_epoch\": False,\n",
    "        \"reprocess_input_data\": True,\n",
    "        \"n_gpu\": 1,\n",
    "        \"silent\": False,\n",
    "        \"use_multiprocessing\": False,\n",
    "        \"use_early_stopping\": True,\n",
    "        \"early_stopping_patience\": 3,\n",
    "        \"early_stopping_delta\": 0,\n",
    "        \"early_stopping_metric\": \"eval_loss\",\n",
    "        \"early_stopping_metric_minimize\": True,\n",
    "        \"manual_seed\": None,\n",
    "        \"encoding\": None,\n",
    "    }\n",
    "    model = ClassificationModel(\"roberta\", \"roberta-base\", args=train_args)\n",
    "    model.train_model(train_df, eval_df=valid_df)\n",
    "\n",
    "    result, model_outputs, wrong_predictions = model.eval_model(test_df)\n",
    "    acc = (result['tp']+result['tn'])/(result['tp']+result['tn']+result['fp']+result['fn'])\n",
    "    precision = result['tp']/(result['tp']+result['fp']) \n",
    "    recall = result['tp']/(result['tp']+result['fn'])  \n",
    "    f1 = (2*precision*recall)/(precision+recall)\n",
    "    print(result)\n",
    "    print(\"Accuracy: \", acc)\n",
    "    print(\"F1 score: \", f1)\n",
    "    print('-'*60)\n",
    "    lr_result.append(result) "
   ]
  },
  {
   "cell_type": "code",
   "execution_count": 37,
   "metadata": {},
   "outputs": [
    {
     "data": {
      "text/plain": [
       "[{'mcc': 0.739138004248938,\n",
       "  'tp': 1914,\n",
       "  'tn': 12741,\n",
       "  'fp': 414,\n",
       "  'fn': 675,\n",
       "  'auroc': 0.945003192320696,\n",
       "  'auprc': 0.8448763075437244,\n",
       "  'eval_loss': 0.22632056117300095},\n",
       " {'mcc': 0.7433918842891463,\n",
       "  'tp': 1925,\n",
       "  'tn': 12747,\n",
       "  'fp': 408,\n",
       "  'fn': 664,\n",
       "  'auroc': 0.9473194709247776,\n",
       "  'auprc': 0.8512180775500278,\n",
       "  'eval_loss': 0.21170345575707714},\n",
       " {'mcc': 0.7415981174198665,\n",
       "  'tp': 1898,\n",
       "  'tn': 12773,\n",
       "  'fp': 382,\n",
       "  'fn': 691,\n",
       "  'auroc': 0.9452794245865802,\n",
       "  'auprc': 0.8483353926915936,\n",
       "  'eval_loss': 0.21759718121975902},\n",
       " {'mcc': 0.7416115256971604,\n",
       "  'tp': 1861,\n",
       "  'tn': 12819,\n",
       "  'fp': 336,\n",
       "  'fn': 728,\n",
       "  'auroc': 0.9424098740116028,\n",
       "  'auprc': 0.8457894429137015,\n",
       "  'eval_loss': 0.22556846606643582}]"
      ]
     },
     "execution_count": 37,
     "metadata": {},
     "output_type": "execute_result"
    }
   ],
   "source": [
    "lr_result"
   ]
  },
  {
   "cell_type": "code",
   "execution_count": 38,
   "metadata": {},
   "outputs": [
    {
     "name": "stdout",
     "output_type": "stream",
     "text": [
      "----- learning rate 4e-05 -----\n",
      "Accuracy:  0.9308307926829268\n",
      "Precision:  0.8221649484536082\n",
      "Recall:  0.7392815758980301\n",
      "F1 score:  0.7785234899328859\n",
      "\n",
      "\n",
      "----- learning rate 2e-05 -----\n",
      "Accuracy:  0.931910569105691\n",
      "Precision:  0.8251178739819974\n",
      "Recall:  0.7435303205870992\n",
      "F1 score:  0.7822023567655425\n",
      "\n",
      "\n",
      "----- learning rate 3e-05 -----\n",
      "Accuracy:  0.9318470528455285\n",
      "Precision:  0.8324561403508772\n",
      "Recall:  0.7331015836230205\n",
      "F1 score:  0.7796262066132675\n",
      "\n",
      "\n",
      "----- learning rate 5e-05 -----\n",
      "Accuracy:  0.9324186991869918\n",
      "Precision:  0.8470641784251252\n",
      "Recall:  0.7188103514870606\n",
      "F1 score:  0.7776849143334728\n",
      "\n",
      "\n"
     ]
    }
   ],
   "source": [
    "count = 0\n",
    "for result in lr_result:\n",
    "    print(f'----- learning rate {str(lr_list[count])} -----')\n",
    "    acc =  (result['tp']+result['tn'])/(result['tp']+result['tn']+result['fp']+result['fn'])\n",
    "    precision = result['tp']/(result['tp']+result['fp']) \n",
    "    recall = result['tp']/(result['tp']+result['fn']) \n",
    "    f1 = (2*precision*recall)/(precision+recall)\n",
    "    print('Accuracy: ', acc)\n",
    "    print('Precision: ', precision)\n",
    "    print('Recall: ', recall)\n",
    "    print(\"F1 score: \", f1)\n",
    "    print('\\n')\n",
    "    model_count += 1\n",
    "    output_df.loc[model_count] = [32, 1, lr_list[count], 1, 'AdamW', acc, precision, recall, result['auroc'], f1]\n",
    "    count += 1"
   ]
  },
  {
   "cell_type": "code",
   "execution_count": 39,
   "metadata": {},
   "outputs": [
    {
     "data": {
      "text/html": [
       "<div>\n",
       "<style scoped>\n",
       "    .dataframe tbody tr th:only-of-type {\n",
       "        vertical-align: middle;\n",
       "    }\n",
       "\n",
       "    .dataframe tbody tr th {\n",
       "        vertical-align: top;\n",
       "    }\n",
       "\n",
       "    .dataframe thead th {\n",
       "        text-align: right;\n",
       "    }\n",
       "</style>\n",
       "<table border=\"1\" class=\"dataframe\">\n",
       "  <thead>\n",
       "    <tr style=\"text-align: right;\">\n",
       "      <th></th>\n",
       "      <th>batch size</th>\n",
       "      <th>step</th>\n",
       "      <th>lr</th>\n",
       "      <th>grad_norm</th>\n",
       "      <th>optimizer</th>\n",
       "      <th>Accurcay</th>\n",
       "      <th>Precision</th>\n",
       "      <th>Recall</th>\n",
       "      <th>Auroc</th>\n",
       "      <th>F1 score</th>\n",
       "    </tr>\n",
       "  </thead>\n",
       "  <tbody>\n",
       "    <tr>\n",
       "      <th>1</th>\n",
       "      <td>32</td>\n",
       "      <td>1</td>\n",
       "      <td>0.00004</td>\n",
       "      <td>1</td>\n",
       "      <td>AdamW</td>\n",
       "      <td>0.930831</td>\n",
       "      <td>0.822165</td>\n",
       "      <td>0.739282</td>\n",
       "      <td>0.945003</td>\n",
       "      <td>0.778523</td>\n",
       "    </tr>\n",
       "    <tr>\n",
       "      <th>2</th>\n",
       "      <td>32</td>\n",
       "      <td>1</td>\n",
       "      <td>0.00002</td>\n",
       "      <td>1</td>\n",
       "      <td>AdamW</td>\n",
       "      <td>0.931911</td>\n",
       "      <td>0.825118</td>\n",
       "      <td>0.743530</td>\n",
       "      <td>0.947319</td>\n",
       "      <td>0.782202</td>\n",
       "    </tr>\n",
       "    <tr>\n",
       "      <th>3</th>\n",
       "      <td>32</td>\n",
       "      <td>1</td>\n",
       "      <td>0.00003</td>\n",
       "      <td>1</td>\n",
       "      <td>AdamW</td>\n",
       "      <td>0.931847</td>\n",
       "      <td>0.832456</td>\n",
       "      <td>0.733102</td>\n",
       "      <td>0.945279</td>\n",
       "      <td>0.779626</td>\n",
       "    </tr>\n",
       "    <tr>\n",
       "      <th>4</th>\n",
       "      <td>32</td>\n",
       "      <td>1</td>\n",
       "      <td>0.00005</td>\n",
       "      <td>1</td>\n",
       "      <td>AdamW</td>\n",
       "      <td>0.932419</td>\n",
       "      <td>0.847064</td>\n",
       "      <td>0.718810</td>\n",
       "      <td>0.942410</td>\n",
       "      <td>0.777685</td>\n",
       "    </tr>\n",
       "  </tbody>\n",
       "</table>\n",
       "</div>"
      ],
      "text/plain": [
       "  batch size step       lr grad_norm optimizer  Accurcay  Precision    Recall  \\\n",
       "1         32    1  0.00004         1     AdamW  0.930831   0.822165  0.739282   \n",
       "2         32    1  0.00002         1     AdamW  0.931911   0.825118  0.743530   \n",
       "3         32    1  0.00003         1     AdamW  0.931847   0.832456  0.733102   \n",
       "4         32    1  0.00005         1     AdamW  0.932419   0.847064  0.718810   \n",
       "\n",
       "      Auroc  F1 score  \n",
       "1  0.945003  0.778523  \n",
       "2  0.947319  0.782202  \n",
       "3  0.945279  0.779626  \n",
       "4  0.942410  0.777685  "
      ]
     },
     "execution_count": 39,
     "metadata": {},
     "output_type": "execute_result"
    }
   ],
   "source": [
    "output_df"
   ]
  },
  {
   "cell_type": "markdown",
   "metadata": {},
   "source": [
    "### 測試 accumulation state"
   ]
  },
  {
   "cell_type": "code",
   "execution_count": 40,
   "metadata": {},
   "outputs": [],
   "source": [
    "step_result = []\n",
    "step_list = [2, 4]"
   ]
  },
  {
   "cell_type": "code",
   "execution_count": 41,
   "metadata": {},
   "outputs": [
    {
     "name": "stdout",
     "output_type": "stream",
     "text": [
      "banned count: 13120\n",
      "sample normal count: 65600\n",
      "Number of train data:  56678\n",
      "Number of validation data:  6298\n",
      "Number of test data:  15744\n"
     ]
    },
    {
     "name": "stderr",
     "output_type": "stream",
     "text": [
      "Some weights of the model checkpoint at roberta-base were not used when initializing RobertaForSequenceClassification: ['lm_head.bias', 'lm_head.dense.weight', 'lm_head.dense.bias', 'lm_head.layer_norm.weight', 'lm_head.layer_norm.bias', 'lm_head.decoder.weight']\n",
      "- This IS expected if you are initializing RobertaForSequenceClassification from the checkpoint of a model trained on another task or with another architecture (e.g. initializing a BertForSequenceClassification model from a BertForPreTraining model).\n",
      "- This IS NOT expected if you are initializing RobertaForSequenceClassification from the checkpoint of a model that you expect to be exactly identical (initializing a BertForSequenceClassification model from a BertForSequenceClassification model).\n",
      "Some weights of RobertaForSequenceClassification were not initialized from the model checkpoint at roberta-base and are newly initialized: ['classifier.dense.weight', 'classifier.dense.bias', 'classifier.out_proj.weight', 'classifier.out_proj.bias']\n",
      "You should probably TRAIN this model on a down-stream task to be able to use it for predictions and inference.\n"
     ]
    },
    {
     "data": {
      "application/vnd.jupyter.widget-view+json": {
       "model_id": "54d876a459944945b732daec0a78f6f4",
       "version_major": 2,
       "version_minor": 0
      },
      "text/plain": [
       "HBox(children=(FloatProgress(value=0.0, description='Epoch', max=3.0, style=ProgressStyle(description_width='i…"
      ]
     },
     "metadata": {},
     "output_type": "display_data"
    },
    {
     "data": {
      "application/vnd.jupyter.widget-view+json": {
       "model_id": "c0a931883eae4727aa8fd02f6d9753ff",
       "version_major": 2,
       "version_minor": 0
      },
      "text/plain": [
       "HBox(children=(FloatProgress(value=0.0, description='Running Epoch 0 of 3', max=1772.0, style=ProgressStyle(de…"
      ]
     },
     "metadata": {},
     "output_type": "display_data"
    },
    {
     "name": "stdout",
     "output_type": "stream",
     "text": [
      "\n"
     ]
    },
    {
     "data": {
      "application/vnd.jupyter.widget-view+json": {
       "model_id": "785ded40ce104975b78bd59768afada4",
       "version_major": 2,
       "version_minor": 0
      },
      "text/plain": [
       "HBox(children=(FloatProgress(value=0.0, description='Running Epoch 1 of 3', max=1772.0, style=ProgressStyle(de…"
      ]
     },
     "metadata": {},
     "output_type": "display_data"
    },
    {
     "name": "stdout",
     "output_type": "stream",
     "text": [
      "\n"
     ]
    },
    {
     "data": {
      "application/vnd.jupyter.widget-view+json": {
       "model_id": "867b755553cf498ca46dfcd8d8c2375a",
       "version_major": 2,
       "version_minor": 0
      },
      "text/plain": [
       "HBox(children=(FloatProgress(value=0.0, description='Running Epoch 2 of 3', max=1772.0, style=ProgressStyle(de…"
      ]
     },
     "metadata": {},
     "output_type": "display_data"
    },
    {
     "name": "stdout",
     "output_type": "stream",
     "text": [
      "\n",
      "\n"
     ]
    },
    {
     "data": {
      "application/vnd.jupyter.widget-view+json": {
       "model_id": "9981bc4e7df9488ab07f43254bc7d647",
       "version_major": 2,
       "version_minor": 0
      },
      "text/plain": [
       "HBox(children=(FloatProgress(value=0.0, max=15744.0), HTML(value='')))"
      ]
     },
     "metadata": {},
     "output_type": "display_data"
    },
    {
     "name": "stdout",
     "output_type": "stream",
     "text": [
      "\n"
     ]
    },
    {
     "data": {
      "application/vnd.jupyter.widget-view+json": {
       "model_id": "9f02d1907b664e7baa123ded28923756",
       "version_major": 2,
       "version_minor": 0
      },
      "text/plain": [
       "HBox(children=(FloatProgress(value=0.0, description='Running Evaluation', max=492.0, style=ProgressStyle(descr…"
      ]
     },
     "metadata": {},
     "output_type": "display_data"
    },
    {
     "name": "stdout",
     "output_type": "stream",
     "text": [
      "\n",
      "{'mcc': 0.7385491703582749, 'tp': 1886, 'tn': 12774, 'fp': 381, 'fn': 703, 'auroc': 0.9468835565608907, 'auprc': 0.8517128589323928, 'eval_loss': 0.20756719092179726}\n",
      "Accuracy:  0.9311483739837398\n",
      "F1 score:  0.7767710049423394\n",
      "------------------------------------------------------------\n",
      "banned count: 13120\n",
      "sample normal count: 65600\n",
      "Number of train data:  56678\n",
      "Number of validation data:  6298\n",
      "Number of test data:  15744\n"
     ]
    },
    {
     "name": "stderr",
     "output_type": "stream",
     "text": [
      "Some weights of the model checkpoint at roberta-base were not used when initializing RobertaForSequenceClassification: ['lm_head.bias', 'lm_head.dense.weight', 'lm_head.dense.bias', 'lm_head.layer_norm.weight', 'lm_head.layer_norm.bias', 'lm_head.decoder.weight']\n",
      "- This IS expected if you are initializing RobertaForSequenceClassification from the checkpoint of a model trained on another task or with another architecture (e.g. initializing a BertForSequenceClassification model from a BertForPreTraining model).\n",
      "- This IS NOT expected if you are initializing RobertaForSequenceClassification from the checkpoint of a model that you expect to be exactly identical (initializing a BertForSequenceClassification model from a BertForSequenceClassification model).\n",
      "Some weights of RobertaForSequenceClassification were not initialized from the model checkpoint at roberta-base and are newly initialized: ['classifier.dense.weight', 'classifier.dense.bias', 'classifier.out_proj.weight', 'classifier.out_proj.bias']\n",
      "You should probably TRAIN this model on a down-stream task to be able to use it for predictions and inference.\n"
     ]
    },
    {
     "data": {
      "application/vnd.jupyter.widget-view+json": {
       "model_id": "c7ef65d7ab304e1c93ba03c74015442b",
       "version_major": 2,
       "version_minor": 0
      },
      "text/plain": [
       "HBox(children=(FloatProgress(value=0.0, description='Epoch', max=3.0, style=ProgressStyle(description_width='i…"
      ]
     },
     "metadata": {},
     "output_type": "display_data"
    },
    {
     "data": {
      "application/vnd.jupyter.widget-view+json": {
       "model_id": "3d8a77c85c4140a78ee061335fead168",
       "version_major": 2,
       "version_minor": 0
      },
      "text/plain": [
       "HBox(children=(FloatProgress(value=0.0, description='Running Epoch 0 of 3', max=1772.0, style=ProgressStyle(de…"
      ]
     },
     "metadata": {},
     "output_type": "display_data"
    },
    {
     "name": "stdout",
     "output_type": "stream",
     "text": [
      "\n"
     ]
    },
    {
     "data": {
      "application/vnd.jupyter.widget-view+json": {
       "model_id": "a50ebb0dda434157939a1623c5680cb1",
       "version_major": 2,
       "version_minor": 0
      },
      "text/plain": [
       "HBox(children=(FloatProgress(value=0.0, description='Running Epoch 1 of 3', max=1772.0, style=ProgressStyle(de…"
      ]
     },
     "metadata": {},
     "output_type": "display_data"
    },
    {
     "name": "stdout",
     "output_type": "stream",
     "text": [
      "\n"
     ]
    },
    {
     "data": {
      "application/vnd.jupyter.widget-view+json": {
       "model_id": "a8197b2242e246199d0b1d909e662e7a",
       "version_major": 2,
       "version_minor": 0
      },
      "text/plain": [
       "HBox(children=(FloatProgress(value=0.0, description='Running Epoch 2 of 3', max=1772.0, style=ProgressStyle(de…"
      ]
     },
     "metadata": {},
     "output_type": "display_data"
    },
    {
     "name": "stdout",
     "output_type": "stream",
     "text": [
      "\n",
      "\n"
     ]
    },
    {
     "data": {
      "application/vnd.jupyter.widget-view+json": {
       "model_id": "9aa163583cda42d5b9a1d399e67f3978",
       "version_major": 2,
       "version_minor": 0
      },
      "text/plain": [
       "HBox(children=(FloatProgress(value=0.0, max=15744.0), HTML(value='')))"
      ]
     },
     "metadata": {},
     "output_type": "display_data"
    },
    {
     "name": "stdout",
     "output_type": "stream",
     "text": [
      "\n"
     ]
    },
    {
     "data": {
      "application/vnd.jupyter.widget-view+json": {
       "model_id": "7cde16c4a7c6474a96fbf18de2120e67",
       "version_major": 2,
       "version_minor": 0
      },
      "text/plain": [
       "HBox(children=(FloatProgress(value=0.0, description='Running Evaluation', max=492.0, style=ProgressStyle(descr…"
      ]
     },
     "metadata": {},
     "output_type": "display_data"
    },
    {
     "name": "stdout",
     "output_type": "stream",
     "text": [
      "\n",
      "{'mcc': 0.7349374862002304, 'tp': 1917, 'tn': 12717, 'fp': 438, 'fn': 672, 'auroc': 0.9470865614382634, 'auprc': 0.8529646581775358, 'eval_loss': 0.2051246868147386}\n",
      "Accuracy:  0.9294969512195121\n",
      "F1 score:  0.775485436893204\n",
      "------------------------------------------------------------\n"
     ]
    }
   ],
   "source": [
    "for step in step_list:\n",
    "    banned_sample = chats[chats['delete']==True]\n",
    "    print('banned count:', len(banned_sample))\n",
    "    normal_sample = chats[chats['delete']==False].sample((5*len(banned_sample)),random_state=1)\n",
    "    print('sample normal count:', len(normal_sample))\n",
    "    sample_chats = normal_sample.append(banned_sample, ignore_index=True)\n",
    "\n",
    "    from sklearn.model_selection import train_test_split\n",
    "    X_train, X_test, y_train, y_test = train_test_split(sample_chats['body'], sample_chats['label'], test_size=0.2, random_state=42)\n",
    "    X_train, X_valid, y_train, y_valid = train_test_split(X_train, y_train, test_size=0.1, random_state=42)\n",
    "\n",
    "    print(\"Number of train data: \", len(X_train))\n",
    "    print(\"Number of validation data: \", len(X_valid))\n",
    "    print(\"Number of test data: \", len(X_test))\n",
    "    train_df = pd.concat([X_train, y_train], axis=1)\n",
    "    train_df.columns = [\"text\", \"labels\"]\n",
    "    valid_df = pd.concat([X_valid, y_valid], axis=1)\n",
    "    valid_df.columns = [\"text\", \"labels\"]\n",
    "    test_df = pd.concat([X_test, y_test], axis=1)\n",
    "    test_df.columns = [\"text\", \"labels\"]\n",
    "    train_df.head()\n",
    "\n",
    "\n",
    "    from simpletransformers.classification import ClassificationModel\n",
    "    output_name = \"outputs/outputs_model_step_\"+str(step)+\"/\"\n",
    "    train_args = {\n",
    "        \"output_dir\": output_name,\n",
    "        \"cache_dir\": \"cache/\",\n",
    "        \"overwrite_output_dir\": True,\n",
    "\n",
    "        \"fp16\": False,\n",
    "        \"fp16_opt_level\": \"O1\",\n",
    "        \"max_seq_length\": 200,\n",
    "        \"train_batch_size\": 32,\n",
    "        \"eval_batch_size\": 32,\n",
    "        \"gradient_accumulation_steps\": step,\n",
    "        \"num_train_epochs\": 3,\n",
    "        \"weight_decay\": 0,\n",
    "        \"learning_rate\": 4e-5,\n",
    "        \"adam_epsilon\": 1e-8,\n",
    "        \"warmup_ratio\": 0.06,\n",
    "        \"warmup_steps\": 0,\n",
    "        \"max_grad_norm\": 1.0,\n",
    "        \"optimizer\": \"AdamW\",\n",
    "        \"do_lower_case\": False,\n",
    "        \"save_model_every_epoch\": False,\n",
    "        \"reprocess_input_data\": True,\n",
    "        \"n_gpu\": 1,\n",
    "        \"silent\": False,\n",
    "        \"use_multiprocessing\": False,\n",
    "        \"use_early_stopping\": True,\n",
    "        \"early_stopping_patience\": 3,\n",
    "        \"early_stopping_delta\": 0,\n",
    "        \"early_stopping_metric\": \"eval_loss\",\n",
    "        \"early_stopping_metric_minimize\": True,\n",
    "        \"manual_seed\": None,\n",
    "        \"encoding\": None,\n",
    "    }\n",
    "    model = ClassificationModel(\"roberta\", \"roberta-base\", args=train_args)\n",
    "    model.train_model(train_df, eval_df=valid_df)\n",
    "\n",
    "    result, model_outputs, wrong_predictions = model.eval_model(test_df)\n",
    "    acc = (result['tp']+result['tn'])/(result['tp']+result['tn']+result['fp']+result['fn'])\n",
    "    precision = result['tp']/(result['tp']+result['fp']) \n",
    "    recall = result['tp']/(result['tp']+result['fn'])  \n",
    "    f1 = (2*precision*recall)/(precision+recall)\n",
    "    print(result)\n",
    "    print(\"Accuracy: \", acc)\n",
    "    print(\"F1 score: \", f1)\n",
    "    print('-'*60)\n",
    "    step_result.append(result) "
   ]
  },
  {
   "cell_type": "code",
   "execution_count": 42,
   "metadata": {},
   "outputs": [
    {
     "data": {
      "text/plain": [
       "[{'mcc': 0.7385491703582749,\n",
       "  'tp': 1886,\n",
       "  'tn': 12774,\n",
       "  'fp': 381,\n",
       "  'fn': 703,\n",
       "  'auroc': 0.9468835565608907,\n",
       "  'auprc': 0.8517128589323928,\n",
       "  'eval_loss': 0.20756719092179726},\n",
       " {'mcc': 0.7349374862002304,\n",
       "  'tp': 1917,\n",
       "  'tn': 12717,\n",
       "  'fp': 438,\n",
       "  'fn': 672,\n",
       "  'auroc': 0.9470865614382634,\n",
       "  'auprc': 0.8529646581775358,\n",
       "  'eval_loss': 0.2051246868147386}]"
      ]
     },
     "execution_count": 42,
     "metadata": {},
     "output_type": "execute_result"
    }
   ],
   "source": [
    "step_result"
   ]
  },
  {
   "cell_type": "code",
   "execution_count": 43,
   "metadata": {},
   "outputs": [
    {
     "name": "stdout",
     "output_type": "stream",
     "text": [
      "----- accumulation step 2 -----\n",
      "Accuracy:  0.9311483739837398\n",
      "Precision:  0.8319364799294221\n",
      "Recall:  0.7284665894167632\n",
      "F1 score:  0.7767710049423394\n",
      "\n",
      "\n",
      "----- accumulation step 4 -----\n",
      "Accuracy:  0.9294969512195121\n",
      "Precision:  0.8140127388535032\n",
      "Recall:  0.7404403244495944\n",
      "F1 score:  0.775485436893204\n",
      "\n",
      "\n"
     ]
    }
   ],
   "source": [
    "count = 0\n",
    "for result in step_result:\n",
    "    print(f'----- accumulation step {str(step_list[count])} -----')\n",
    "    acc =  (result['tp']+result['tn'])/(result['tp']+result['tn']+result['fp']+result['fn'])\n",
    "    precision = result['tp']/(result['tp']+result['fp']) \n",
    "    recall = result['tp']/(result['tp']+result['fn']) \n",
    "    f1 = (2*precision*recall)/(precision+recall)\n",
    "    print('Accuracy: ', acc)\n",
    "    print('Precision: ', precision)\n",
    "    print('Recall: ', recall)\n",
    "    print(\"F1 score: \", f1)\n",
    "    print('\\n')\n",
    "    model_count += 1\n",
    "    output_df.loc[model_count] = [32, step_list[count], 4e-5, 1, 'AdamW', acc, precision, recall, result['auroc'], f1]\n",
    "    count += 1"
   ]
  },
  {
   "cell_type": "code",
   "execution_count": 44,
   "metadata": {},
   "outputs": [
    {
     "data": {
      "text/html": [
       "<div>\n",
       "<style scoped>\n",
       "    .dataframe tbody tr th:only-of-type {\n",
       "        vertical-align: middle;\n",
       "    }\n",
       "\n",
       "    .dataframe tbody tr th {\n",
       "        vertical-align: top;\n",
       "    }\n",
       "\n",
       "    .dataframe thead th {\n",
       "        text-align: right;\n",
       "    }\n",
       "</style>\n",
       "<table border=\"1\" class=\"dataframe\">\n",
       "  <thead>\n",
       "    <tr style=\"text-align: right;\">\n",
       "      <th></th>\n",
       "      <th>batch size</th>\n",
       "      <th>step</th>\n",
       "      <th>lr</th>\n",
       "      <th>grad_norm</th>\n",
       "      <th>optimizer</th>\n",
       "      <th>Accurcay</th>\n",
       "      <th>Precision</th>\n",
       "      <th>Recall</th>\n",
       "      <th>Auroc</th>\n",
       "      <th>F1 score</th>\n",
       "    </tr>\n",
       "  </thead>\n",
       "  <tbody>\n",
       "    <tr>\n",
       "      <th>1</th>\n",
       "      <td>32</td>\n",
       "      <td>1</td>\n",
       "      <td>0.00004</td>\n",
       "      <td>1</td>\n",
       "      <td>AdamW</td>\n",
       "      <td>0.930831</td>\n",
       "      <td>0.822165</td>\n",
       "      <td>0.739282</td>\n",
       "      <td>0.945003</td>\n",
       "      <td>0.778523</td>\n",
       "    </tr>\n",
       "    <tr>\n",
       "      <th>2</th>\n",
       "      <td>32</td>\n",
       "      <td>1</td>\n",
       "      <td>0.00002</td>\n",
       "      <td>1</td>\n",
       "      <td>AdamW</td>\n",
       "      <td>0.931911</td>\n",
       "      <td>0.825118</td>\n",
       "      <td>0.743530</td>\n",
       "      <td>0.947319</td>\n",
       "      <td>0.782202</td>\n",
       "    </tr>\n",
       "    <tr>\n",
       "      <th>3</th>\n",
       "      <td>32</td>\n",
       "      <td>1</td>\n",
       "      <td>0.00003</td>\n",
       "      <td>1</td>\n",
       "      <td>AdamW</td>\n",
       "      <td>0.931847</td>\n",
       "      <td>0.832456</td>\n",
       "      <td>0.733102</td>\n",
       "      <td>0.945279</td>\n",
       "      <td>0.779626</td>\n",
       "    </tr>\n",
       "    <tr>\n",
       "      <th>4</th>\n",
       "      <td>32</td>\n",
       "      <td>1</td>\n",
       "      <td>0.00005</td>\n",
       "      <td>1</td>\n",
       "      <td>AdamW</td>\n",
       "      <td>0.932419</td>\n",
       "      <td>0.847064</td>\n",
       "      <td>0.718810</td>\n",
       "      <td>0.942410</td>\n",
       "      <td>0.777685</td>\n",
       "    </tr>\n",
       "    <tr>\n",
       "      <th>5</th>\n",
       "      <td>32</td>\n",
       "      <td>2</td>\n",
       "      <td>0.00004</td>\n",
       "      <td>1</td>\n",
       "      <td>AdamW</td>\n",
       "      <td>0.931148</td>\n",
       "      <td>0.831936</td>\n",
       "      <td>0.728467</td>\n",
       "      <td>0.946884</td>\n",
       "      <td>0.776771</td>\n",
       "    </tr>\n",
       "    <tr>\n",
       "      <th>6</th>\n",
       "      <td>32</td>\n",
       "      <td>4</td>\n",
       "      <td>0.00004</td>\n",
       "      <td>1</td>\n",
       "      <td>AdamW</td>\n",
       "      <td>0.929497</td>\n",
       "      <td>0.814013</td>\n",
       "      <td>0.740440</td>\n",
       "      <td>0.947087</td>\n",
       "      <td>0.775485</td>\n",
       "    </tr>\n",
       "  </tbody>\n",
       "</table>\n",
       "</div>"
      ],
      "text/plain": [
       "  batch size step       lr grad_norm optimizer  Accurcay  Precision    Recall  \\\n",
       "1         32    1  0.00004         1     AdamW  0.930831   0.822165  0.739282   \n",
       "2         32    1  0.00002         1     AdamW  0.931911   0.825118  0.743530   \n",
       "3         32    1  0.00003         1     AdamW  0.931847   0.832456  0.733102   \n",
       "4         32    1  0.00005         1     AdamW  0.932419   0.847064  0.718810   \n",
       "5         32    2  0.00004         1     AdamW  0.931148   0.831936  0.728467   \n",
       "6         32    4  0.00004         1     AdamW  0.929497   0.814013  0.740440   \n",
       "\n",
       "      Auroc  F1 score  \n",
       "1  0.945003  0.778523  \n",
       "2  0.947319  0.782202  \n",
       "3  0.945279  0.779626  \n",
       "4  0.942410  0.777685  \n",
       "5  0.946884  0.776771  \n",
       "6  0.947087  0.775485  "
      ]
     },
     "execution_count": 44,
     "metadata": {},
     "output_type": "execute_result"
    }
   ],
   "source": [
    "output_df"
   ]
  },
  {
   "cell_type": "markdown",
   "metadata": {},
   "source": [
    "### 測試 gradient clipping"
   ]
  },
  {
   "cell_type": "code",
   "execution_count": 48,
   "metadata": {},
   "outputs": [],
   "source": [
    "grad_norm_result = []\n",
    "grad_norm_list = [0.5, 1.5]"
   ]
  },
  {
   "cell_type": "code",
   "execution_count": 49,
   "metadata": {},
   "outputs": [
    {
     "name": "stdout",
     "output_type": "stream",
     "text": [
      "banned count: 13120\n",
      "sample normal count: 65600\n",
      "Number of train data:  56678\n",
      "Number of validation data:  6298\n",
      "Number of test data:  15744\n"
     ]
    },
    {
     "name": "stderr",
     "output_type": "stream",
     "text": [
      "Some weights of the model checkpoint at roberta-base were not used when initializing RobertaForSequenceClassification: ['lm_head.bias', 'lm_head.dense.weight', 'lm_head.dense.bias', 'lm_head.layer_norm.weight', 'lm_head.layer_norm.bias', 'lm_head.decoder.weight']\n",
      "- This IS expected if you are initializing RobertaForSequenceClassification from the checkpoint of a model trained on another task or with another architecture (e.g. initializing a BertForSequenceClassification model from a BertForPreTraining model).\n",
      "- This IS NOT expected if you are initializing RobertaForSequenceClassification from the checkpoint of a model that you expect to be exactly identical (initializing a BertForSequenceClassification model from a BertForSequenceClassification model).\n",
      "Some weights of RobertaForSequenceClassification were not initialized from the model checkpoint at roberta-base and are newly initialized: ['classifier.dense.weight', 'classifier.dense.bias', 'classifier.out_proj.weight', 'classifier.out_proj.bias']\n",
      "You should probably TRAIN this model on a down-stream task to be able to use it for predictions and inference.\n"
     ]
    },
    {
     "data": {
      "application/vnd.jupyter.widget-view+json": {
       "model_id": "9164d6cef5de4722b47a3cfbc78e4735",
       "version_major": 2,
       "version_minor": 0
      },
      "text/plain": [
       "HBox(children=(FloatProgress(value=0.0, description='Epoch', max=3.0, style=ProgressStyle(description_width='i…"
      ]
     },
     "metadata": {},
     "output_type": "display_data"
    },
    {
     "data": {
      "application/vnd.jupyter.widget-view+json": {
       "model_id": "30e01060b3004d87b98b5783a6918f42",
       "version_major": 2,
       "version_minor": 0
      },
      "text/plain": [
       "HBox(children=(FloatProgress(value=0.0, description='Running Epoch 0 of 3', max=1772.0, style=ProgressStyle(de…"
      ]
     },
     "metadata": {},
     "output_type": "display_data"
    },
    {
     "name": "stdout",
     "output_type": "stream",
     "text": [
      "\n"
     ]
    },
    {
     "data": {
      "application/vnd.jupyter.widget-view+json": {
       "model_id": "81cd7d11e1e14151a14582c714c21d92",
       "version_major": 2,
       "version_minor": 0
      },
      "text/plain": [
       "HBox(children=(FloatProgress(value=0.0, description='Running Epoch 1 of 3', max=1772.0, style=ProgressStyle(de…"
      ]
     },
     "metadata": {},
     "output_type": "display_data"
    },
    {
     "name": "stdout",
     "output_type": "stream",
     "text": [
      "\n"
     ]
    },
    {
     "data": {
      "application/vnd.jupyter.widget-view+json": {
       "model_id": "a4b1a26f5feb4281bf84746a0ee26c86",
       "version_major": 2,
       "version_minor": 0
      },
      "text/plain": [
       "HBox(children=(FloatProgress(value=0.0, description='Running Epoch 2 of 3', max=1772.0, style=ProgressStyle(de…"
      ]
     },
     "metadata": {},
     "output_type": "display_data"
    },
    {
     "name": "stdout",
     "output_type": "stream",
     "text": [
      "\n",
      "\n"
     ]
    },
    {
     "data": {
      "application/vnd.jupyter.widget-view+json": {
       "model_id": "965a3b827e8946dd96f040d3ae726a2b",
       "version_major": 2,
       "version_minor": 0
      },
      "text/plain": [
       "HBox(children=(FloatProgress(value=0.0, max=15744.0), HTML(value='')))"
      ]
     },
     "metadata": {},
     "output_type": "display_data"
    },
    {
     "name": "stdout",
     "output_type": "stream",
     "text": [
      "\n"
     ]
    },
    {
     "data": {
      "application/vnd.jupyter.widget-view+json": {
       "model_id": "d54f7884dce049fabb8b1196718e0f59",
       "version_major": 2,
       "version_minor": 0
      },
      "text/plain": [
       "HBox(children=(FloatProgress(value=0.0, description='Running Evaluation', max=492.0, style=ProgressStyle(descr…"
      ]
     },
     "metadata": {},
     "output_type": "display_data"
    },
    {
     "name": "stdout",
     "output_type": "stream",
     "text": [
      "\n",
      "{'mcc': 0.7393017158313341, 'tp': 1884, 'tn': 12780, 'fp': 375, 'fn': 705, 'auroc': 0.9435800735180666, 'auprc': 0.8420443556109192, 'eval_loss': 0.22675367663765886}\n",
      "Accuracy:  0.9314024390243902\n",
      "F1 score:  0.7772277227722771\n",
      "------------------------------------------------------------\n",
      "banned count: 13120\n",
      "sample normal count: 65600\n",
      "Number of train data:  56678\n",
      "Number of validation data:  6298\n",
      "Number of test data:  15744\n"
     ]
    },
    {
     "name": "stderr",
     "output_type": "stream",
     "text": [
      "Some weights of the model checkpoint at roberta-base were not used when initializing RobertaForSequenceClassification: ['lm_head.bias', 'lm_head.dense.weight', 'lm_head.dense.bias', 'lm_head.layer_norm.weight', 'lm_head.layer_norm.bias', 'lm_head.decoder.weight']\n",
      "- This IS expected if you are initializing RobertaForSequenceClassification from the checkpoint of a model trained on another task or with another architecture (e.g. initializing a BertForSequenceClassification model from a BertForPreTraining model).\n",
      "- This IS NOT expected if you are initializing RobertaForSequenceClassification from the checkpoint of a model that you expect to be exactly identical (initializing a BertForSequenceClassification model from a BertForSequenceClassification model).\n",
      "Some weights of RobertaForSequenceClassification were not initialized from the model checkpoint at roberta-base and are newly initialized: ['classifier.dense.weight', 'classifier.dense.bias', 'classifier.out_proj.weight', 'classifier.out_proj.bias']\n",
      "You should probably TRAIN this model on a down-stream task to be able to use it for predictions and inference.\n"
     ]
    },
    {
     "data": {
      "application/vnd.jupyter.widget-view+json": {
       "model_id": "a13e47562a5849d4b4e984c2a242c6cb",
       "version_major": 2,
       "version_minor": 0
      },
      "text/plain": [
       "HBox(children=(FloatProgress(value=0.0, description='Epoch', max=3.0, style=ProgressStyle(description_width='i…"
      ]
     },
     "metadata": {},
     "output_type": "display_data"
    },
    {
     "data": {
      "application/vnd.jupyter.widget-view+json": {
       "model_id": "9ccbaf40d208492b938d6cccadfd1f56",
       "version_major": 2,
       "version_minor": 0
      },
      "text/plain": [
       "HBox(children=(FloatProgress(value=0.0, description='Running Epoch 0 of 3', max=1772.0, style=ProgressStyle(de…"
      ]
     },
     "metadata": {},
     "output_type": "display_data"
    },
    {
     "name": "stdout",
     "output_type": "stream",
     "text": [
      "\n"
     ]
    },
    {
     "data": {
      "application/vnd.jupyter.widget-view+json": {
       "model_id": "2a5cce1e0638482ca8f3f1241f9d5cf5",
       "version_major": 2,
       "version_minor": 0
      },
      "text/plain": [
       "HBox(children=(FloatProgress(value=0.0, description='Running Epoch 1 of 3', max=1772.0, style=ProgressStyle(de…"
      ]
     },
     "metadata": {},
     "output_type": "display_data"
    },
    {
     "name": "stdout",
     "output_type": "stream",
     "text": [
      "\n"
     ]
    },
    {
     "data": {
      "application/vnd.jupyter.widget-view+json": {
       "model_id": "7ab5f1c36ed448c4a1b3f206fd784711",
       "version_major": 2,
       "version_minor": 0
      },
      "text/plain": [
       "HBox(children=(FloatProgress(value=0.0, description='Running Epoch 2 of 3', max=1772.0, style=ProgressStyle(de…"
      ]
     },
     "metadata": {},
     "output_type": "display_data"
    },
    {
     "name": "stdout",
     "output_type": "stream",
     "text": [
      "\n",
      "\n"
     ]
    },
    {
     "data": {
      "application/vnd.jupyter.widget-view+json": {
       "model_id": "1a1ff99e44f04e079cfbc89d0429be0f",
       "version_major": 2,
       "version_minor": 0
      },
      "text/plain": [
       "HBox(children=(FloatProgress(value=0.0, max=15744.0), HTML(value='')))"
      ]
     },
     "metadata": {},
     "output_type": "display_data"
    },
    {
     "name": "stdout",
     "output_type": "stream",
     "text": [
      "\n"
     ]
    },
    {
     "data": {
      "application/vnd.jupyter.widget-view+json": {
       "model_id": "81c444d9497840509f254d9834ed7dd0",
       "version_major": 2,
       "version_minor": 0
      },
      "text/plain": [
       "HBox(children=(FloatProgress(value=0.0, description='Running Evaluation', max=492.0, style=ProgressStyle(descr…"
      ]
     },
     "metadata": {},
     "output_type": "display_data"
    },
    {
     "name": "stdout",
     "output_type": "stream",
     "text": [
      "\n",
      "{'mcc': 0.7404674875914924, 'tp': 1908, 'tn': 12755, 'fp': 400, 'fn': 681, 'auroc': 0.9459435799707532, 'auprc': 0.8500412145567546, 'eval_loss': 0.21412375615720403}\n",
      "Accuracy:  0.9313389227642277\n",
      "F1 score:  0.7792526036348786\n",
      "------------------------------------------------------------\n"
     ]
    }
   ],
   "source": [
    "for grad_norm in grad_norm_list:\n",
    "    banned_sample = chats[chats['delete']==True]\n",
    "    print('banned count:', len(banned_sample))\n",
    "    normal_sample = chats[chats['delete']==False].sample((5*len(banned_sample)),random_state=1)\n",
    "    print('sample normal count:', len(normal_sample))\n",
    "    sample_chats = normal_sample.append(banned_sample, ignore_index=True)\n",
    "\n",
    "    from sklearn.model_selection import train_test_split\n",
    "    X_train, X_test, y_train, y_test = train_test_split(sample_chats['body'], sample_chats['label'], test_size=0.2, random_state=42)\n",
    "    X_train, X_valid, y_train, y_valid = train_test_split(X_train, y_train, test_size=0.1, random_state=42)\n",
    "\n",
    "    print(\"Number of train data: \", len(X_train))\n",
    "    print(\"Number of validation data: \", len(X_valid))\n",
    "    print(\"Number of test data: \", len(X_test))\n",
    "    train_df = pd.concat([X_train, y_train], axis=1)\n",
    "    train_df.columns = [\"text\", \"labels\"]\n",
    "    valid_df = pd.concat([X_valid, y_valid], axis=1)\n",
    "    valid_df.columns = [\"text\", \"labels\"]\n",
    "    test_df = pd.concat([X_test, y_test], axis=1)\n",
    "    test_df.columns = [\"text\", \"labels\"]\n",
    "    train_df.head()\n",
    "\n",
    "\n",
    "    from simpletransformers.classification import ClassificationModel\n",
    "    output_name = \"outputs/outputs_model_grad_norm_\"+str(grad_norm)+\"/\"\n",
    "    train_args = {\n",
    "        \"output_dir\": output_name,\n",
    "        \"cache_dir\": \"cache/\",\n",
    "        \"overwrite_output_dir\": True,\n",
    "\n",
    "        \"fp16\": False,\n",
    "        \"fp16_opt_level\": \"O1\",\n",
    "        \"max_seq_length\": 200,\n",
    "        \"train_batch_size\": 32,\n",
    "        \"eval_batch_size\": 32,\n",
    "        \"gradient_accumulation_steps\": 1,\n",
    "        \"num_train_epochs\": 3,\n",
    "        \"weight_decay\": 0,\n",
    "        \"learning_rate\": 4e-5,\n",
    "        \"adam_epsilon\": 1e-8,\n",
    "        \"warmup_ratio\": 0.06,\n",
    "        \"warmup_steps\": 0,\n",
    "        \"max_grad_norm\": grad_norm,\n",
    "        \"optimizer\": \"AdamW\",\n",
    "        \"do_lower_case\": False,\n",
    "        \"save_model_every_epoch\": False,\n",
    "        \"reprocess_input_data\": True,\n",
    "        \"n_gpu\": 1,\n",
    "        \"silent\": False,\n",
    "        \"use_multiprocessing\": False,\n",
    "        \"use_early_stopping\": True,\n",
    "        \"early_stopping_patience\": 3,\n",
    "        \"early_stopping_delta\": 0,\n",
    "        \"early_stopping_metric\": \"eval_loss\",\n",
    "        \"early_stopping_metric_minimize\": True,\n",
    "        \"manual_seed\": None,\n",
    "        \"encoding\": None,\n",
    "    }\n",
    "    model = ClassificationModel(\"roberta\", \"roberta-base\", args=train_args)\n",
    "    model.train_model(train_df, eval_df=valid_df)\n",
    "\n",
    "    result, model_outputs, wrong_predictions = model.eval_model(test_df)\n",
    "    acc = (result['tp']+result['tn'])/(result['tp']+result['tn']+result['fp']+result['fn'])\n",
    "    precision = result['tp']/(result['tp']+result['fp']) \n",
    "    recall = result['tp']/(result['tp']+result['fn'])  \n",
    "    f1 = (2*precision*recall)/(precision+recall)\n",
    "    print(result)\n",
    "    print(\"Accuracy: \", acc)\n",
    "    print(\"F1 score: \", f1)\n",
    "    print('-'*60)\n",
    "    grad_norm_result.append(result) "
   ]
  },
  {
   "cell_type": "code",
   "execution_count": 50,
   "metadata": {},
   "outputs": [
    {
     "data": {
      "text/plain": [
       "[{'mcc': 0.7393017158313341,\n",
       "  'tp': 1884,\n",
       "  'tn': 12780,\n",
       "  'fp': 375,\n",
       "  'fn': 705,\n",
       "  'auroc': 0.9435800735180666,\n",
       "  'auprc': 0.8420443556109192,\n",
       "  'eval_loss': 0.22675367663765886},\n",
       " {'mcc': 0.7404674875914924,\n",
       "  'tp': 1908,\n",
       "  'tn': 12755,\n",
       "  'fp': 400,\n",
       "  'fn': 681,\n",
       "  'auroc': 0.9459435799707532,\n",
       "  'auprc': 0.8500412145567546,\n",
       "  'eval_loss': 0.21412375615720403}]"
      ]
     },
     "execution_count": 50,
     "metadata": {},
     "output_type": "execute_result"
    }
   ],
   "source": [
    "grad_norm_result"
   ]
  },
  {
   "cell_type": "code",
   "execution_count": 51,
   "metadata": {},
   "outputs": [
    {
     "name": "stdout",
     "output_type": "stream",
     "text": [
      "----- gradient clipping 0.5 -----\n",
      "Accuracy:  0.9314024390243902\n",
      "Precision:  0.8339973439575034\n",
      "Recall:  0.727694090382387\n",
      "F1 score:  0.7772277227722771\n",
      "\n",
      "\n",
      "----- gradient clipping 1.5 -----\n",
      "Accuracy:  0.9313389227642277\n",
      "Precision:  0.8266897746967071\n",
      "Recall:  0.7369640787949016\n",
      "F1 score:  0.7792526036348786\n",
      "\n",
      "\n"
     ]
    }
   ],
   "source": [
    "count = 0\n",
    "for result in grad_norm_result:\n",
    "    print(f'----- gradient clipping {str(grad_norm_list[count])} -----')\n",
    "    acc =  (result['tp']+result['tn'])/(result['tp']+result['tn']+result['fp']+result['fn'])\n",
    "    precision = result['tp']/(result['tp']+result['fp']) \n",
    "    recall = result['tp']/(result['tp']+result['fn']) \n",
    "    f1 = (2*precision*recall)/(precision+recall)\n",
    "    print('Accuracy: ', acc)\n",
    "    print('Precision: ', precision)\n",
    "    print('Recall: ', recall)\n",
    "    print(\"F1 score: \", f1)\n",
    "    print('\\n')\n",
    "    model_count += 1\n",
    "    output_df.loc[model_count] = [32, 1, 4e-5, grad_norm_list[count], 'AdamW', acc, precision, recall, result['auroc'], f1]\n",
    "    count += 1"
   ]
  },
  {
   "cell_type": "code",
   "execution_count": 52,
   "metadata": {},
   "outputs": [
    {
     "data": {
      "text/html": [
       "<div>\n",
       "<style scoped>\n",
       "    .dataframe tbody tr th:only-of-type {\n",
       "        vertical-align: middle;\n",
       "    }\n",
       "\n",
       "    .dataframe tbody tr th {\n",
       "        vertical-align: top;\n",
       "    }\n",
       "\n",
       "    .dataframe thead th {\n",
       "        text-align: right;\n",
       "    }\n",
       "</style>\n",
       "<table border=\"1\" class=\"dataframe\">\n",
       "  <thead>\n",
       "    <tr style=\"text-align: right;\">\n",
       "      <th></th>\n",
       "      <th>batch size</th>\n",
       "      <th>step</th>\n",
       "      <th>lr</th>\n",
       "      <th>grad_norm</th>\n",
       "      <th>optimizer</th>\n",
       "      <th>Accurcay</th>\n",
       "      <th>Precision</th>\n",
       "      <th>Recall</th>\n",
       "      <th>Auroc</th>\n",
       "      <th>F1 score</th>\n",
       "    </tr>\n",
       "  </thead>\n",
       "  <tbody>\n",
       "    <tr>\n",
       "      <th>1</th>\n",
       "      <td>32</td>\n",
       "      <td>1</td>\n",
       "      <td>0.00004</td>\n",
       "      <td>1</td>\n",
       "      <td>AdamW</td>\n",
       "      <td>0.930831</td>\n",
       "      <td>0.822165</td>\n",
       "      <td>0.739282</td>\n",
       "      <td>0.945003</td>\n",
       "      <td>0.778523</td>\n",
       "    </tr>\n",
       "    <tr>\n",
       "      <th>2</th>\n",
       "      <td>32</td>\n",
       "      <td>1</td>\n",
       "      <td>0.00002</td>\n",
       "      <td>1</td>\n",
       "      <td>AdamW</td>\n",
       "      <td>0.931911</td>\n",
       "      <td>0.825118</td>\n",
       "      <td>0.743530</td>\n",
       "      <td>0.947319</td>\n",
       "      <td>0.782202</td>\n",
       "    </tr>\n",
       "    <tr>\n",
       "      <th>3</th>\n",
       "      <td>32</td>\n",
       "      <td>1</td>\n",
       "      <td>0.00003</td>\n",
       "      <td>1</td>\n",
       "      <td>AdamW</td>\n",
       "      <td>0.931847</td>\n",
       "      <td>0.832456</td>\n",
       "      <td>0.733102</td>\n",
       "      <td>0.945279</td>\n",
       "      <td>0.779626</td>\n",
       "    </tr>\n",
       "    <tr>\n",
       "      <th>4</th>\n",
       "      <td>32</td>\n",
       "      <td>1</td>\n",
       "      <td>0.00005</td>\n",
       "      <td>1</td>\n",
       "      <td>AdamW</td>\n",
       "      <td>0.932419</td>\n",
       "      <td>0.847064</td>\n",
       "      <td>0.718810</td>\n",
       "      <td>0.942410</td>\n",
       "      <td>0.777685</td>\n",
       "    </tr>\n",
       "    <tr>\n",
       "      <th>5</th>\n",
       "      <td>32</td>\n",
       "      <td>2</td>\n",
       "      <td>0.00004</td>\n",
       "      <td>1</td>\n",
       "      <td>AdamW</td>\n",
       "      <td>0.931148</td>\n",
       "      <td>0.831936</td>\n",
       "      <td>0.728467</td>\n",
       "      <td>0.946884</td>\n",
       "      <td>0.776771</td>\n",
       "    </tr>\n",
       "    <tr>\n",
       "      <th>6</th>\n",
       "      <td>32</td>\n",
       "      <td>4</td>\n",
       "      <td>0.00004</td>\n",
       "      <td>1</td>\n",
       "      <td>AdamW</td>\n",
       "      <td>0.929497</td>\n",
       "      <td>0.814013</td>\n",
       "      <td>0.740440</td>\n",
       "      <td>0.947087</td>\n",
       "      <td>0.775485</td>\n",
       "    </tr>\n",
       "    <tr>\n",
       "      <th>7</th>\n",
       "      <td>32</td>\n",
       "      <td>1</td>\n",
       "      <td>0.00004</td>\n",
       "      <td>0.5</td>\n",
       "      <td>AdamW</td>\n",
       "      <td>0.931402</td>\n",
       "      <td>0.833997</td>\n",
       "      <td>0.727694</td>\n",
       "      <td>0.943580</td>\n",
       "      <td>0.777228</td>\n",
       "    </tr>\n",
       "    <tr>\n",
       "      <th>8</th>\n",
       "      <td>32</td>\n",
       "      <td>1</td>\n",
       "      <td>0.00004</td>\n",
       "      <td>1.5</td>\n",
       "      <td>AdamW</td>\n",
       "      <td>0.931339</td>\n",
       "      <td>0.826690</td>\n",
       "      <td>0.736964</td>\n",
       "      <td>0.945944</td>\n",
       "      <td>0.779253</td>\n",
       "    </tr>\n",
       "  </tbody>\n",
       "</table>\n",
       "</div>"
      ],
      "text/plain": [
       "  batch size step       lr grad_norm optimizer  Accurcay  Precision    Recall  \\\n",
       "1         32    1  0.00004         1     AdamW  0.930831   0.822165  0.739282   \n",
       "2         32    1  0.00002         1     AdamW  0.931911   0.825118  0.743530   \n",
       "3         32    1  0.00003         1     AdamW  0.931847   0.832456  0.733102   \n",
       "4         32    1  0.00005         1     AdamW  0.932419   0.847064  0.718810   \n",
       "5         32    2  0.00004         1     AdamW  0.931148   0.831936  0.728467   \n",
       "6         32    4  0.00004         1     AdamW  0.929497   0.814013  0.740440   \n",
       "7         32    1  0.00004       0.5     AdamW  0.931402   0.833997  0.727694   \n",
       "8         32    1  0.00004       1.5     AdamW  0.931339   0.826690  0.736964   \n",
       "\n",
       "      Auroc  F1 score  \n",
       "1  0.945003  0.778523  \n",
       "2  0.947319  0.782202  \n",
       "3  0.945279  0.779626  \n",
       "4  0.942410  0.777685  \n",
       "5  0.946884  0.776771  \n",
       "6  0.947087  0.775485  \n",
       "7  0.943580  0.777228  \n",
       "8  0.945944  0.779253  "
      ]
     },
     "execution_count": 52,
     "metadata": {},
     "output_type": "execute_result"
    }
   ],
   "source": [
    "output_df"
   ]
  },
  {
   "cell_type": "markdown",
   "metadata": {},
   "source": [
    "### 測試 optimizer"
   ]
  },
  {
   "cell_type": "code",
   "execution_count": 53,
   "metadata": {},
   "outputs": [],
   "source": [
    "# opt_result = []\n",
    "# opt_list = [\"Adafactor\"]"
   ]
  },
  {
   "cell_type": "code",
   "execution_count": 1,
   "metadata": {},
   "outputs": [],
   "source": [
    "# for opt in opt_list:\n",
    "#     banned_sample = chats[chats['delete']==True]\n",
    "#     print('banned count:', len(banned_sample))\n",
    "#     normal_sample = chats[chats['delete']==False].sample((5*len(banned_sample)),random_state=1)\n",
    "#     print('sample normal count:', len(normal_sample))\n",
    "#     sample_chats = normal_sample.append(banned_sample, ignore_index=True)\n",
    "\n",
    "#     from sklearn.model_selection import train_test_split\n",
    "#     X_train, X_test, y_train, y_test = train_test_split(sample_chats['body'], sample_chats['label'], test_size=0.2, random_state=42)\n",
    "#     X_train, X_valid, y_train, y_valid = train_test_split(X_train, y_train, test_size=0.1, random_state=42)\n",
    "\n",
    "#     print(\"Number of train data: \", len(X_train))\n",
    "#     print(\"Number of validation data: \", len(X_valid))\n",
    "#     print(\"Number of test data: \", len(X_test))\n",
    "#     train_df = pd.concat([X_train, y_train], axis=1)\n",
    "#     train_df.columns = [\"text\", \"labels\"]\n",
    "#     valid_df = pd.concat([X_valid, y_valid], axis=1)\n",
    "#     valid_df.columns = [\"text\", \"labels\"]\n",
    "#     test_df = pd.concat([X_test, y_test], axis=1)\n",
    "#     test_df.columns = [\"text\", \"labels\"]\n",
    "#     train_df.head()\n",
    "\n",
    "\n",
    "#     from simpletransformers.classification import ClassificationModel\n",
    "#     output_name = \"outputs/outputs_model_opt_\"+opt+\"/\"\n",
    "#     train_args = {\n",
    "#         \"output_dir\": output_name,\n",
    "#         \"cache_dir\": \"cache/\",\n",
    "#         \"overwrite_output_dir\": True,\n",
    "\n",
    "#         \"fp16\": False,\n",
    "#         \"fp16_opt_level\": \"O1\",\n",
    "#         \"max_seq_length\": 200,\n",
    "#         \"train_batch_size\": 32,\n",
    "#         \"eval_batch_size\": 32,\n",
    "#         \"gradient_accumulation_steps\": 1,\n",
    "#         \"num_train_epochs\": 3,\n",
    "#         \"weight_decay\": 0,\n",
    "#         \"learning_rate\": 4e-5,\n",
    "#         \"adam_epsilon\": 1e-8,\n",
    "#         \"warmup_ratio\": 0.06,\n",
    "#         \"warmup_steps\": 0,\n",
    "#         \"max_grad_norm\": 1.0,\n",
    "#         \"optimizer\": opt,\n",
    "#         \"do_lower_case\": False,\n",
    "#         \"save_model_every_epoch\": False,\n",
    "#         \"reprocess_input_data\": True,\n",
    "#         \"n_gpu\": 1,\n",
    "#         \"silent\": False,\n",
    "#         \"use_multiprocessing\": False,\n",
    "#         \"use_early_stopping\": True,\n",
    "#         \"early_stopping_patience\": 3,\n",
    "#         \"early_stopping_delta\": 0,\n",
    "#         \"early_stopping_metric\": \"eval_loss\",\n",
    "#         \"early_stopping_metric_minimize\": True,\n",
    "#         \"manual_seed\": None,\n",
    "#         \"encoding\": None,\n",
    "#     }\n",
    "#     model = ClassificationModel(\"roberta\", \"roberta-base\", args=train_args)\n",
    "#     model.train_model(train_df, eval_df=valid_df)\n",
    "\n",
    "#     result, model_outputs, wrong_predictions = model.eval_model(test_df)\n",
    "#     acc = (result['tp']+result['tn'])/(result['tp']+result['tn']+result['fp']+result['fn'])\n",
    "#     precision = result['tp']/(result['tp']+result['fp']) \n",
    "#     recall = result['tp']/(result['tp']+result['fn'])  \n",
    "#     f1 = (2*precision*recall)/(precision+recall)\n",
    "#     print(result)\n",
    "#     print(\"Accuracy: \", acc)\n",
    "#     print(\"F1 score: \", f1)\n",
    "#     print('-'*60)\n",
    "#     opt_result.append(result) "
   ]
  },
  {
   "cell_type": "code",
   "execution_count": null,
   "metadata": {},
   "outputs": [],
   "source": [
    "# opt_result"
   ]
  },
  {
   "cell_type": "code",
   "execution_count": null,
   "metadata": {},
   "outputs": [],
   "source": [
    "# count = 0\n",
    "# for result in opt_result:\n",
    "#     print(f'----- optimizer {str(opt_list[count])} -----')\n",
    "#     acc =  (result['tp']+result['tn'])/(result['tp']+result['tn']+result['fp']+result['fn'])\n",
    "#     precision = result['tp']/(result['tp']+result['fp']) \n",
    "#     recall = result['tp']/(result['tp']+result['fn']) \n",
    "#     f1 = (2*precision*recall)/(precision+recall)\n",
    "#     print('Accuracy: ', acc)\n",
    "#     print('Precision: ', precision)\n",
    "#     print('Recall: ', recall)\n",
    "#     print(\"F1 score: \", f1)\n",
    "#     print('\\n')\n",
    "#     model_count += 1\n",
    "#     output_df.loc[model_count] = [32, 1, 4e-5, 1, opt_list[count], acc, precision, recall, result['auroc'], f1]\n",
    "#     count += 1"
   ]
  },
  {
   "cell_type": "code",
   "execution_count": null,
   "metadata": {},
   "outputs": [],
   "source": [
    "# output_df"
   ]
  }
 ],
 "metadata": {
  "kernelspec": {
   "display_name": "test",
   "language": "python",
   "name": "test"
  },
  "language_info": {
   "codemirror_mode": {
    "name": "ipython",
    "version": 3
   },
   "file_extension": ".py",
   "mimetype": "text/x-python",
   "name": "python",
   "nbconvert_exporter": "python",
   "pygments_lexer": "ipython3",
   "version": "3.9.2"
  }
 },
 "nbformat": 4,
 "nbformat_minor": 2
}
